{
 "cells": [
  {
   "cell_type": "code",
   "execution_count": 1,
   "metadata": {},
   "outputs": [
    {
     "data": {
      "text/plain": [
       "'SageMath version 9.3, Release Date: 2021-05-09'"
      ]
     },
     "execution_count": 1,
     "metadata": {},
     "output_type": "execute_result"
    }
   ],
   "source": [
    "version()"
   ]
  },
  {
   "cell_type": "code",
   "execution_count": 2,
   "metadata": {},
   "outputs": [],
   "source": [
    "%display latex"
   ]
  },
  {
   "cell_type": "markdown",
   "metadata": {},
   "source": [
    "Definimos una variedad $M$ tipo Lorentziana, dimensión 4 y un sistema de coordenadas esféricas $X$."
   ]
  },
  {
   "cell_type": "code",
   "execution_count": 3,
   "metadata": {},
   "outputs": [
    {
     "data": {
      "text/html": [
       "<html><script type=\"math/tex; mode=display\">\\newcommand{\\Bold}[1]{\\mathbf{#1}}\\left(M,(t, r, {\\theta}, {\\phi})\\right)</script></html>"
      ],
      "text/latex": [
       "$$\\newcommand{\\Bold}[1]{\\mathbf{#1}}\\left(M,(t, r, {\\theta}, {\\phi})\\right)$$"
      ],
      "text/plain": [
       "Chart (M, (t, r, th, ph))"
      ]
     },
     "execution_count": 3,
     "metadata": {},
     "output_type": "execute_result"
    }
   ],
   "source": [
    "M=Manifold(4,'M', structure='Lorentzian')\n",
    "X.<t,r,th,ph> = M.chart(r't r:(0,+oo) th:(0,pi):\\theta ph:\\phi')\n",
    "X"
   ]
  },
  {
   "cell_type": "markdown",
   "metadata": {},
   "source": [
    "Definimos una aplicación de M a R3"
   ]
  },
  {
   "cell_type": "code",
   "execution_count": 4,
   "metadata": {},
   "outputs": [
    {
     "data": {
      "text/html": [
       "<html><script type=\"math/tex; mode=display\">\\newcommand{\\Bold}[1]{\\mathbf{#1}}\\begin{array}{llcl} & M & \\longrightarrow & \\mathbb{R}^3 \\\\ & \\left(t, r, {\\theta}, {\\phi}\\right) & \\longmapsto & \\left(x, y, z\\right) = \\left(r \\cos\\left({\\phi}\\right) \\sin\\left({\\theta}\\right), r \\sin\\left({\\phi}\\right) \\sin\\left({\\theta}\\right), r \\cos\\left({\\theta}\\right)\\right) \\end{array}</script></html>"
      ],
      "text/latex": [
       "$$\\newcommand{\\Bold}[1]{\\mathbf{#1}}\\begin{array}{llcl} & M & \\longrightarrow & \\mathbb{R}^3 \\\\ & \\left(t, r, {\\theta}, {\\phi}\\right) & \\longmapsto & \\left(x, y, z\\right) = \\left(r \\cos\\left({\\phi}\\right) \\sin\\left({\\theta}\\right), r \\sin\\left({\\phi}\\right) \\sin\\left({\\theta}\\right), r \\cos\\left({\\theta}\\right)\\right) \\end{array}$$"
      ],
      "text/plain": [
       "M --> R^3\n",
       "   (t, r, th, ph) |--> (x, y, z) = (r*cos(ph)*sin(th), r*sin(ph)*sin(th), r*cos(th))"
      ]
     },
     "execution_count": 4,
     "metadata": {},
     "output_type": "execute_result"
    }
   ],
   "source": [
    "#variedad R3\n",
    "R3=Manifold(3,'R^3', latex_name=r'\\mathbb{R}^3') \n",
    "#carta en R3\n",
    "X3.<x,y,z>=R3.chart() \n",
    "\n",
    "#La aplicación se llama \"to_R3\". Entre los corchetes se\n",
    "#escribe X3_i(X)\n",
    "to_R3=M.diff_map(R3, {(X,X3): [r*sin(th)*cos(ph),\n",
    "                               r*sin(th)*sin(ph), r*cos(th)]})\n",
    "to_R3.display()"
   ]
  },
  {
   "cell_type": "markdown",
   "metadata": {},
   "source": [
    "Definimos la métrica de Shwarzschild"
   ]
  },
  {
   "cell_type": "code",
   "execution_count": 5,
   "metadata": {},
   "outputs": [
    {
     "data": {
      "text/html": [
       "<html><script type=\"math/tex; mode=display\">\\newcommand{\\Bold}[1]{\\mathbf{#1}}g = \\left( \\frac{2 \\, m}{r} - 1 \\right) \\mathrm{d} t\\otimes \\mathrm{d} t + \\left( -\\frac{1}{\\frac{2 \\, m}{r} - 1} \\right) \\mathrm{d} r\\otimes \\mathrm{d} r + r^{2} \\mathrm{d} {\\theta}\\otimes \\mathrm{d} {\\theta} + r^{2} \\sin\\left({\\theta}\\right)^{2} \\mathrm{d} {\\phi}\\otimes \\mathrm{d} {\\phi}</script></html>"
      ],
      "text/latex": [
       "$$\\newcommand{\\Bold}[1]{\\mathbf{#1}}g = \\left( \\frac{2 \\, m}{r} - 1 \\right) \\mathrm{d} t\\otimes \\mathrm{d} t + \\left( -\\frac{1}{\\frac{2 \\, m}{r} - 1} \\right) \\mathrm{d} r\\otimes \\mathrm{d} r + r^{2} \\mathrm{d} {\\theta}\\otimes \\mathrm{d} {\\theta} + r^{2} \\sin\\left({\\theta}\\right)^{2} \\mathrm{d} {\\phi}\\otimes \\mathrm{d} {\\phi}$$"
      ],
      "text/plain": [
       "g = (2*m/r - 1) dt*dt - 1/(2*m/r - 1) dr*dr + r^2 dth*dth + r^2*sin(th)^2 dph*dph"
      ]
     },
     "execution_count": 5,
     "metadata": {},
     "output_type": "execute_result"
    }
   ],
   "source": [
    "#métrica g en la variedad M\n",
    "g=M.metric()\n",
    "#definimos la variable m. Esta representa la masa gravitacional sentida\n",
    "#por un observador localizado a grandes valores de r (Gorgoulhon p127)\n",
    "m=var('m'); assume (m>=0) \n",
    "#definimos cada una de las componentes g en la carta X\n",
    "g[0,0],g[1,1]=-(1-2*m/r),1/(1-2*m/r)\n",
    "g[2,2],g[3,3]=r^2,(r*sin(th))^2\n",
    "g.display()"
   ]
  },
  {
   "cell_type": "code",
   "execution_count": 6,
   "metadata": {},
   "outputs": [
    {
     "data": {
      "text/html": [
       "<html><script type=\"math/tex; mode=display\">\\newcommand{\\Bold}[1]{\\mathbf{#1}}\\left(\\begin{array}{rrrr}\n",
       "\\frac{2 \\, m}{r} - 1 & 0 & 0 & 0 \\\\\n",
       "0 & -\\frac{1}{\\frac{2 \\, m}{r} - 1} & 0 & 0 \\\\\n",
       "0 & 0 & r^{2} & 0 \\\\\n",
       "0 & 0 & 0 & r^{2} \\sin\\left({\\theta}\\right)^{2}\n",
       "\\end{array}\\right)</script></html>"
      ],
      "text/latex": [
       "$$\\newcommand{\\Bold}[1]{\\mathbf{#1}}\\left(\\begin{array}{rrrr}\n",
       "\\frac{2 \\, m}{r} - 1 & 0 & 0 & 0 \\\\\n",
       "0 & -\\frac{1}{\\frac{2 \\, m}{r} - 1} & 0 & 0 \\\\\n",
       "0 & 0 & r^{2} & 0 \\\\\n",
       "0 & 0 & 0 & r^{2} \\sin\\left({\\theta}\\right)^{2}\n",
       "\\end{array}\\right)$$"
      ],
      "text/plain": [
       "[     2*m/r - 1              0              0              0]\n",
       "[             0 -1/(2*m/r - 1)              0              0]\n",
       "[             0              0            r^2              0]\n",
       "[             0              0              0  r^2*sin(th)^2]"
      ]
     },
     "execution_count": 6,
     "metadata": {},
     "output_type": "execute_result"
    }
   ],
   "source": [
    "g[:]"
   ]
  },
  {
   "cell_type": "markdown",
   "metadata": {},
   "source": [
    "Para definir la geodésica, definimos un punto inicial y un vector tangente"
   ]
  },
  {
   "cell_type": "code",
   "execution_count": 7,
   "metadata": {},
   "outputs": [
    {
     "data": {
      "text/html": [
       "<html><script type=\"math/tex; mode=display\">\\newcommand{\\Bold}[1]{\\mathbf{#1}}v_0 = 1.29751300000000 \\frac{\\partial}{\\partial t } + \\frac{0.0640625000000000}{m} \\frac{\\partial}{\\partial {\\phi} }</script></html>"
      ],
      "text/latex": [
       "$$\\newcommand{\\Bold}[1]{\\mathbf{#1}}v_0 = 1.29751300000000 \\frac{\\partial}{\\partial t } + \\frac{0.0640625000000000}{m} \\frac{\\partial}{\\partial {\\phi} }$$"
      ],
      "text/plain": [
       "v_0 = 1.29751300000000 d/dt + 0.0640625000000000/m d/dph"
      ]
     },
     "execution_count": 7,
     "metadata": {},
     "output_type": "execute_result"
    }
   ],
   "source": [
    "#punto p0 en t=0, r=0.8m, theta=pi/2, phi=10^-12\n",
    "p0=M.point((0,8*m,pi/2,1e-12),name='p_0')  \n",
    "\n",
    "#vector del espacio tangente en p0. v0=1.3, v1=v2=0, v3=0.06/m\n",
    "v0=M.tangent_space(p0)((1.297513,0,0,0.0640625/m), name='v_0')\n",
    "v0.display()"
   ]
  },
  {
   "cell_type": "markdown",
   "metadata": {},
   "source": [
    "Declaramos una geodésica con estas condiciones iniciales denotando por $s$ el parámetro afín (tiempo propio), con $(s_{min},s_{max})=(0,1500m)$"
   ]
  },
  {
   "cell_type": "code",
   "execution_count": 38,
   "metadata": {},
   "outputs": [
    {
     "data": {
      "text/html": [
       "<html><script type=\"math/tex; mode=display\">\\newcommand{\\Bold}[1]{\\mathbf{#1}}\\begin{array}{llcl} & \\left(0, 1500\\right) & \\longrightarrow & M \\end{array}</script></html>"
      ],
      "text/latex": [
       "$$\\newcommand{\\Bold}[1]{\\mathbf{#1}}\\begin{array}{llcl} & \\left(0, 1500\\right) & \\longrightarrow & M \\end{array}$$"
      ],
      "text/plain": [
       "(0, 1500) --> M"
      ]
     },
     "execution_count": 38,
     "metadata": {},
     "output_type": "execute_result"
    }
   ],
   "source": [
    "#declaramos el parámetro afín s como una variable\n",
    "s=var('s')\n",
    "\n",
    "#(métrica,parám. afin, smin, smax, vector tangente de inicio)\n",
    "geod=M.integrated_geodesic(g,(s,0,1500),v0)\n",
    "geod.display()"
   ]
  },
  {
   "cell_type": "code",
   "execution_count": 46,
   "metadata": {},
   "outputs": [
    {
     "name": "stdout",
     "output_type": "stream",
     "text": [
      "Integrated geodesic in the 4-dimensional Lorentzian manifold M\n"
     ]
    }
   ],
   "source": [
    "print(geod)"
   ]
  },
  {
   "cell_type": "markdown",
   "metadata": {},
   "source": [
    "## Geodésica integrada en la variedad Lorentziana $M$ 4-dimensional"
   ]
  },
  {
   "cell_type": "code",
   "execution_count": 40,
   "metadata": {},
   "outputs": [
    {
     "name": "stdout",
     "output_type": "stream",
     "text": [
      "Performing numerical integration with method 'odeint'...\n",
      "Resulting list of points will be associated with the key 'odeint' by default.\n",
      "Numerical integration completed.\n",
      "\n",
      "Checking all points are in the chart domain...\n",
      "All points are in the chart domain.\n",
      "\n",
      "The resulting list of points was associated with the key 'odeint' (if this key already referred to a former numerical solution, such a solution was erased).\n"
     ]
    }
   ],
   "source": [
    "#integración numérica\n",
    "sol = geod.solve(parameters_values={m: 1}, verbose='True') "
   ]
  },
  {
   "cell_type": "code",
   "execution_count": 42,
   "metadata": {},
   "outputs": [],
   "source": [
    "#Interpolación de la solución para el ploteo\n",
    "interp=geod.interpolate()"
   ]
  },
  {
   "cell_type": "code",
   "execution_count": 43,
   "metadata": {},
   "outputs": [
    {
     "data": {
      "text/html": [
       "\n",
       "<iframe srcdoc=\"<!DOCTYPE html>\n",
       "<html>\n",
       "<head>\n",
       "<title></title>\n",
       "<meta charset=&quot;utf-8&quot;>\n",
       "<meta name=viewport content=&quot;width=device-width, user-scalable=no, minimum-scale=1.0, maximum-scale=1.0&quot;>\n",
       "<style>\n",
       "\n",
       "    body { margin: 0px; overflow: hidden; }\n",
       "\n",
       "    #menu-container { position: absolute; bottom: 30px; right: 40px; cursor: default; }\n",
       "\n",
       "    #menu-message { position: absolute; bottom: 0px; right: 0px; white-space: nowrap;\n",
       "                    display: none; background-color: #F5F5F5; padding: 10px; }\n",
       "\n",
       "    #menu-content { position: absolute; bottom: 0px; right: 0px;\n",
       "                    display: none; background-color: #F5F5F5; border-bottom: 1px solid black;\n",
       "                    border-right: 1px solid black; border-left: 1px solid black; }\n",
       "\n",
       "    #menu-content div { border-top: 1px solid black; padding: 10px; white-space: nowrap; }\n",
       "\n",
       "    #menu-content div:hover { background-color: #FEFEFE; }\n",
       "\n",
       "    .dark-theme #menu-container { color: white; }\n",
       "\n",
       "    .dark-theme #menu-message { background-color: #181818; }\n",
       "\n",
       "    .dark-theme #menu-content { background-color: #181818; border-color: white; }\n",
       "\n",
       "    .dark-theme #menu-content div { border-color: white; }\n",
       "\n",
       "    .dark-theme #menu-content div:hover { background-color: #303030; }\n",
       "\n",
       "</style>\n",
       "\n",
       "</head>\n",
       "\n",
       "<body>\n",
       "\n",
       "<script src=&quot;https://cdn.jsdelivr.net/gh/sagemath/threejs-sage@r122/build/three.min.js&quot;></script>\n",
       "            <script>// fat_lines.js\n",
       "\n",
       "var _fatLines = [];\n",
       "\n",
       "function _createFatLine( lineStrip, geometry, materialOptions ) {\n",
       "\n",
       "    var vertexCount = geometry.vertices.length;\n",
       "    var positions = [];\n",
       "    for ( var i=0 ; i < vertexCount ; i++ ) {\n",
       "        var v = geometry.vertices[i];\n",
       "        positions.push( v.x, v.y, v.z );\n",
       "        // For a line strip, duplicate all but the first and last vertices.\n",
       "        if ( lineStrip && i > 0 && i < vertexCount - 1 ) {\n",
       "            positions.push( v.x, v.y, v.z );\n",
       "        }\n",
       "    }\n",
       "\n",
       "    geometry = new THREE.LineSegmentsGeometry();\n",
       "    geometry.setPositions( positions );\n",
       "\n",
       "    var material = new THREE.LineMaterial( materialOptions );\n",
       "    material.resolution = new THREE.Vector2( window.innerWidth, window.innerHeight );\n",
       "\n",
       "    var line = new THREE.LineSegments2( geometry, material );\n",
       "    line.computeLineDistances();\n",
       "    line.scale.set( 1, 1, 1 );\n",
       "\n",
       "    _fatLines.push( line );\n",
       "\n",
       "    return line;\n",
       "\n",
       "}\n",
       "\n",
       "function createFatLineStrip( geometry, materialOptions ) {\n",
       "    return _createFatLine( true, geometry, materialOptions );\n",
       "}\n",
       "\n",
       "function createFatLineSegments( geometry, materialOptions ) {\n",
       "    return _createFatLine( false, geometry, materialOptions );\n",
       "}\n",
       "\n",
       "function rescaleFatLines() {\n",
       "    var res = new THREE.Vector2( window.innerWidth, window.innerHeight );\n",
       "    var n = _fatLines.length;\n",
       "    for ( var i=0 ; i < n ; i++ ) {\n",
       "        _fatLines[i].material.resolution = res;\n",
       "    }\n",
       "}\n",
       "</script>\n",
       "<script>\n",
       "\n",
       "    var options = {&quot;animate&quot;: false, &quot;animationControls&quot;: true, &quot;aspectRatio&quot;: [1.0, 1.0, 1.0], &quot;autoPlay&quot;: true, &quot;axes&quot;: false, &quot;axesLabels&quot;: [&quot;x&quot;, &quot;y&quot;, &quot;z&quot;], &quot;axesLabelsStyle&quot;: null, &quot;decimals&quot;: 2, &quot;delay&quot;: 20, &quot;frame&quot;: true, &quot;loop&quot;: true, &quot;projection&quot;: &quot;perspective&quot;, &quot;theme&quot;: &quot;light&quot;, &quot;viewpoint&quot;: false};\n",
       "    var animate = options.animate;\n",
       "\n",
       "    if ( options.theme === 'dark' )\n",
       "        document.body.className = 'dark-theme';\n",
       "\n",
       "    var scene = new THREE.Scene();\n",
       "\n",
       "    var renderer = new THREE.WebGLRenderer( { antialias: true, preserveDrawingBuffer: true } );\n",
       "    renderer.setPixelRatio( window.devicePixelRatio );\n",
       "    renderer.setSize( window.innerWidth, window.innerHeight );\n",
       "    renderer.setClearColor( options.theme === 'dark' ? 0 : 0xffffff, 1 );\n",
       "    document.body.appendChild( renderer.domElement );\n",
       "\n",
       "    var b = [{&quot;x&quot;:-26.7449221231406, &quot;y&quot;:-26.27207840312161, &quot;z&quot;:-2.0}, {&quot;x&quot;:24.46081922584429, &quot;y&quot;:22.737133735796355, &quot;z&quot;:2.0}]; // bounds\n",
       "\n",
       "    if ( b[0].x === b[1].x ) {\n",
       "        b[0].x -= 1;\n",
       "        b[1].x += 1;\n",
       "    }\n",
       "    if ( b[0].y === b[1].y ) {\n",
       "        b[0].y -= 1;\n",
       "        b[1].y += 1;\n",
       "    }\n",
       "    if ( b[0].z === b[1].z ) {\n",
       "        b[0].z -= 1;\n",
       "        b[1].z += 1;\n",
       "    }\n",
       "\n",
       "    var rRange = Math.sqrt( Math.pow( b[1].x - b[0].x, 2 )\n",
       "                            + Math.pow( b[1].y - b[0].y, 2 ) );\n",
       "    var xRange = b[1].x - b[0].x;\n",
       "    var yRange = b[1].y - b[0].y;\n",
       "    var zRange = b[1].z - b[0].z;\n",
       "\n",
       "    var ar = options.aspectRatio;\n",
       "    var a = [ ar[0], ar[1], ar[2] ]; // aspect multipliers\n",
       "    var autoAspect = 2.5;\n",
       "    if ( zRange > autoAspect * rRange && a[2] === 1 ) a[2] = autoAspect * rRange / zRange;\n",
       "\n",
       "    // Distance from (xMid,yMid,zMid) to any corner of the bounding box, after applying aspectRatio\n",
       "    var midToCorner = Math.sqrt( a[0]*a[0]*xRange*xRange + a[1]*a[1]*yRange*yRange + a[2]*a[2]*zRange*zRange ) / 2;\n",
       "\n",
       "    var xMid = ( b[0].x + b[1].x ) / 2;\n",
       "    var yMid = ( b[0].y + b[1].y ) / 2;\n",
       "    var zMid = ( b[0].z + b[1].z ) / 2;\n",
       "\n",
       "    var box = new THREE.Geometry();\n",
       "    box.vertices.push( new THREE.Vector3( a[0]*b[0].x, a[1]*b[0].y, a[2]*b[0].z ) );\n",
       "    box.vertices.push( new THREE.Vector3( a[0]*b[1].x, a[1]*b[1].y, a[2]*b[1].z ) );\n",
       "    var boxMesh = new THREE.Line( box );\n",
       "    var boxColor = options.theme === 'dark' ? 'white' : 'black';\n",
       "    if ( options.frame ) scene.add( new THREE.BoxHelper( boxMesh, boxColor ) );\n",
       "\n",
       "    if ( options.axesLabels ) {\n",
       "\n",
       "        var d = options.decimals; // decimals\n",
       "        var offsetRatio = 0.1;\n",
       "        var al = options.axesLabels;\n",
       "        var als = options.axesLabelsStyle || [{}, {}, {}];\n",
       "\n",
       "        var offset = offsetRatio * a[1]*( b[1].y - b[0].y );\n",
       "        var xm = xMid.toFixed(d);\n",
       "        if ( /^-0.?0*$/.test(xm) ) xm = xm.substr(1);\n",
       "        addLabel( al[0] + '=' + xm, a[0]*xMid, a[1]*b[1].y+offset, a[2]*b[0].z, als[0] );\n",
       "        addLabel( ( b[0].x ).toFixed(d), a[0]*b[0].x, a[1]*b[1].y+offset, a[2]*b[0].z, als[0] );\n",
       "        addLabel( ( b[1].x ).toFixed(d), a[0]*b[1].x, a[1]*b[1].y+offset, a[2]*b[0].z, als[0] );\n",
       "\n",
       "        var offset = offsetRatio * a[0]*( b[1].x - b[0].x );\n",
       "        var ym = yMid.toFixed(d);\n",
       "        if ( /^-0.?0*$/.test(ym) ) ym = ym.substr(1);\n",
       "        addLabel( al[1] + '=' + ym, a[0]*b[1].x+offset, a[1]*yMid, a[2]*b[0].z, als[1] );\n",
       "        addLabel( ( b[0].y ).toFixed(d), a[0]*b[1].x+offset, a[1]*b[0].y, a[2]*b[0].z, als[1] );\n",
       "        addLabel( ( b[1].y ).toFixed(d), a[0]*b[1].x+offset, a[1]*b[1].y, a[2]*b[0].z, als[1] );\n",
       "\n",
       "        var offset = offsetRatio * a[1]*( b[1].y - b[0].y );\n",
       "        var zm = zMid.toFixed(d);\n",
       "        if ( /^-0.?0*$/.test(zm) ) zm = zm.substr(1);\n",
       "        addLabel( al[2] + '=' + zm, a[0]*b[1].x, a[1]*b[0].y-offset, a[2]*zMid, als[2] );\n",
       "        addLabel( ( b[0].z ).toFixed(d), a[0]*b[1].x, a[1]*b[0].y-offset, a[2]*b[0].z, als[2] );\n",
       "        addLabel( ( b[1].z ).toFixed(d), a[0]*b[1].x, a[1]*b[0].y-offset, a[2]*b[1].z, als[2] );\n",
       "\n",
       "    }\n",
       "\n",
       "    function addLabel( text, x, y, z, style ) {\n",
       "\n",
       "        var color = style.color || 'black';\n",
       "        var fontSize = style.fontSize || 14;\n",
       "        var fontFamily = style.fontFamily || 'monospace';\n",
       "        var fontStyle = style.fontStyle || 'normal';\n",
       "        var fontWeight = style.fontWeight || 'normal';\n",
       "        var opacity = style.opacity || 1;\n",
       "\n",
       "        if ( options.theme === 'dark' )\n",
       "            if ( color === 'black' || color === '#000000' )\n",
       "                color = 'white';\n",
       "\n",
       "        if ( Array.isArray( fontStyle ) ) {\n",
       "            fontFamily = fontFamily.map( function( f ) {\n",
       "                // Need to put quotes around fonts that have whitespace in their names.\n",
       "                return /\\s/.test( f ) ? '&quot;' + f + '&quot;' : f;\n",
       "            }).join(', ');\n",
       "        }\n",
       "\n",
       "        var canvas = document.createElement( 'canvas' );\n",
       "        var context = canvas.getContext( '2d' );\n",
       "        var pixelRatio = Math.round( window.devicePixelRatio );\n",
       "\n",
       "        // For example: italic bold 20px &quot;Times New Roman&quot;, Georgia, serif\n",
       "        var font = [fontStyle, fontWeight, fontSize + 'px', fontFamily].join(' ');\n",
       "\n",
       "        context.font = font;\n",
       "        var width = context.measureText( text ).width;\n",
       "        var height = fontSize;\n",
       "\n",
       "        // The dimensions of the canvas's underlying image data need to be powers\n",
       "        // of two in order for the resulting texture to support mipmapping.\n",
       "        canvas.width = THREE.MathUtils.ceilPowerOfTwo( width * pixelRatio );\n",
       "        canvas.height = THREE.MathUtils.ceilPowerOfTwo( height * pixelRatio );\n",
       "\n",
       "        // Re-compute the unscaled dimensions after the power of two conversion.\n",
       "        width = canvas.width / pixelRatio;\n",
       "        height = canvas.height / pixelRatio;\n",
       "\n",
       "        canvas.style.width = width + 'px';\n",
       "        canvas.style.height = height + 'px';\n",
       "\n",
       "        context.scale( pixelRatio, pixelRatio );\n",
       "        context.fillStyle = color;\n",
       "        context.font = font; // Must be set again after measureText.\n",
       "        context.textAlign = 'center';\n",
       "        context.textBaseline = 'middle';\n",
       "        context.fillText( text, width/2, height/2 );\n",
       "\n",
       "        var texture = new THREE.Texture( canvas );\n",
       "        texture.needsUpdate = true;\n",
       "\n",
       "        var materialOptions = { map: texture, sizeAttenuation: false, depthWrite: false };\n",
       "        if ( opacity < 1 ) {\n",
       "            // Setting opacity=1 would cause the texture's alpha component to be\n",
       "            // discarded, giving the text a black background instead of the\n",
       "            // background being transparent.\n",
       "            materialOptions.opacity = opacity;\n",
       "        }\n",
       "        var sprite = new THREE.Sprite( new THREE.SpriteMaterial( materialOptions ) );\n",
       "        sprite.position.set( x, y, z );\n",
       "\n",
       "        // Scaling factor, chosen somewhat arbitrarily so that the size of the text\n",
       "        // is consistent with previously generated plots.\n",
       "        var scale = 1/625;\n",
       "        if ( options.projection === 'orthographic' ) {\n",
       "            scale = midToCorner/256; // Needs to scale along with the plot itself.\n",
       "        }\n",
       "        sprite.scale.set( scale * width, scale * height, 1 );\n",
       "\n",
       "        scene.add( sprite );\n",
       "\n",
       "        return sprite;\n",
       "\n",
       "    }\n",
       "\n",
       "    if ( options.axes ) scene.add( new THREE.AxesHelper( Math.min( a[0]*b[1].x, a[1]*b[1].y, a[2]*b[1].z ) ) );\n",
       "\n",
       "    var camera = createCamera();\n",
       "    camera.up.set( 0, 0, 1 );\n",
       "    camera.position.set( a[0]*xMid, a[1]*yMid, a[2]*zMid );\n",
       "\n",
       "    var offset = new THREE.Vector3( a[0]*xRange, a[1]*yRange, a[2]*zRange );\n",
       "\n",
       "    if ( options.viewpoint ) {\n",
       "\n",
       "        var aa = options.viewpoint;\n",
       "        var axis = new THREE.Vector3( aa[0][0], aa[0][1], aa[0][2] ).normalize();\n",
       "        var angle = aa[1] * Math.PI / 180;\n",
       "        var q = new THREE.Quaternion().setFromAxisAngle( axis, angle ).inverse();\n",
       "\n",
       "        offset.set( 0, 0, offset.length() );\n",
       "        offset.applyQuaternion( q );\n",
       "\n",
       "    }\n",
       "\n",
       "    camera.position.add( offset );\n",
       "\n",
       "    function createCamera() {\n",
       "\n",
       "        var aspect = window.innerWidth / window.innerHeight;\n",
       "\n",
       "        // Scale the near and far clipping planes along with the overall plot size.\n",
       "        var nearClip = 0.01 * midToCorner;\n",
       "        var farClip = 100 * midToCorner;\n",
       "\n",
       "        if ( options.projection === 'orthographic' ) {\n",
       "            var camera = new THREE.OrthographicCamera( -1, 1, 1, -1, -farClip, farClip );\n",
       "            updateCameraAspect( camera, aspect );\n",
       "            return camera;\n",
       "        }\n",
       "\n",
       "        return new THREE.PerspectiveCamera( 45, aspect, nearClip, farClip );\n",
       "\n",
       "    }\n",
       "\n",
       "    function updateCameraAspect( camera, aspect ) {\n",
       "\n",
       "        if ( camera.isPerspectiveCamera ) {\n",
       "            camera.aspect = aspect;\n",
       "        } else if ( camera.isOrthographicCamera ) {\n",
       "            // Fit the camera frustum to the bounding box's diagonal so that the entire plot fits\n",
       "            // within at the default zoom level and camera position.\n",
       "            if ( aspect > 1 ) { // Wide window\n",
       "                camera.top = midToCorner;\n",
       "                camera.right = midToCorner * aspect;\n",
       "            } else { // Tall or square window\n",
       "                camera.top = midToCorner / aspect;\n",
       "                camera.right = midToCorner;\n",
       "            }\n",
       "            camera.bottom = -camera.top;\n",
       "            camera.left = -camera.right;\n",
       "        }\n",
       "\n",
       "        camera.updateProjectionMatrix();\n",
       "\n",
       "    }\n",
       "\n",
       "    var lights = [{&quot;x&quot;:-5, &quot;y&quot;:3, &quot;z&quot;:0, &quot;color&quot;:&quot;#7f7f7f&quot;, &quot;parent&quot;:&quot;camera&quot;}];\n",
       "    for ( var i=0 ; i < lights.length ; i++ ) {\n",
       "        var light = new THREE.DirectionalLight( lights[i].color, 1 );\n",
       "        light.position.set( a[0]*lights[i].x, a[1]*lights[i].y, a[2]*lights[i].z );\n",
       "        if ( lights[i].parent === 'camera' ) {\n",
       "            light.target.position.set( a[0]*xMid, a[1]*yMid, a[2]*zMid );\n",
       "            scene.add( light.target );\n",
       "            camera.add( light );\n",
       "        } else scene.add( light );\n",
       "    }\n",
       "    scene.add( camera );\n",
       "\n",
       "    var ambient = {&quot;color&quot;:&quot;#7f7f7f&quot;};\n",
       "    scene.add( new THREE.AmbientLight( ambient.color, 1 ) );\n",
       "\n",
       "    var controls = new THREE.OrbitControls( camera, renderer.domElement );\n",
       "    controls.target.set( a[0]*xMid, a[1]*yMid, a[2]*zMid );\n",
       "    controls.addEventListener( 'change', function() { if ( !animate ) render(); } );\n",
       "\n",
       "    window.addEventListener( 'resize', function() {\n",
       "\n",
       "        renderer.setSize( window.innerWidth, window.innerHeight );\n",
       "        updateCameraAspect( camera, window.innerWidth / window.innerHeight );\n",
       "        if ( window.rescaleFatLines ) rescaleFatLines();\n",
       "        if ( !animate ) render();\n",
       "\n",
       "    } );\n",
       "\n",
       "    var texts = [{&quot;color&quot;: &quot;#000000&quot;, &quot;fontSize&quot;: 10.0, &quot;fontFamily&quot;: [&quot;monospace&quot;], &quot;fontStyle&quot;: &quot;normal&quot;, &quot;fontWeight&quot;: &quot;normal&quot;, &quot;opacity&quot;: 1.0, &quot;text&quot;: &quot;p_0&quot;, &quot;x&quot;: 8.1, &quot;y&quot;: 0.10000000000800001, &quot;z&quot;: 0.1}];\n",
       "    for ( var i=0 ; i < texts.length ; i++ ) addText( texts[i] );\n",
       "\n",
       "    function addText( json ) {\n",
       "        var sprite = addLabel( json.text, a[0]*json.x, a[1]*json.y, a[2]*json.z, json );\n",
       "        sprite.userData = json;\n",
       "    }\n",
       "\n",
       "    var points = [{&quot;point&quot;: [8.0, 8e-12, 0.0], &quot;size&quot;: 4.0, &quot;color&quot;: &quot;#000000&quot;, &quot;opacity&quot;: 1.0}];\n",
       "    for ( var i=0 ; i < points.length ; i++ ) addPoint( points[i] );\n",
       "\n",
       "    function addPoint( json ) {\n",
       "\n",
       "        var geometry = new THREE.Geometry();\n",
       "        var v = json.point;\n",
       "        geometry.vertices.push( new THREE.Vector3( a[0]*v[0], a[1]*v[1], a[2]*v[2] ) );\n",
       "\n",
       "        var canvas = document.createElement( 'canvas' );\n",
       "        canvas.width = 128;\n",
       "        canvas.height = 128;\n",
       "\n",
       "        var context = canvas.getContext( '2d' );\n",
       "        context.arc( 64, 64, 64, 0, 2 * Math.PI );\n",
       "        context.fillStyle = json.color;\n",
       "        context.fill();\n",
       "\n",
       "        var texture = new THREE.Texture( canvas );\n",
       "        texture.needsUpdate = true;\n",
       "\n",
       "        var transparent = json.opacity < 1 ? true : false;\n",
       "        var size = camera.isOrthographicCamera ? json.size : json.size/100;\n",
       "        var material = new THREE.PointsMaterial( { size: size, map: texture,\n",
       "                                                   transparent: transparent, opacity: json.opacity,\n",
       "                                                   alphaTest: .1 } );\n",
       "\n",
       "        var c = new THREE.Vector3();\n",
       "        geometry.computeBoundingBox();\n",
       "        geometry.boundingBox.getCenter( c );\n",
       "        geometry.translate( -c.x, -c.y, -c.z );\n",
       "\n",
       "        var mesh = new THREE.Points( geometry, material );\n",
       "        mesh.position.set( c.x, c.y, c.z );\n",
       "        mesh.userData = json;\n",
       "        scene.add( mesh );\n",
       "\n",
       "    }\n",
       "\n",
       "    var lines = [{&quot;points&quot;: [[8.0, 8e-12, 4.898587196589413e-16], [7.920479162629812, 1.5358922383723665, 4.940237753486776e-16], [7.56059122597685, 3.0311210687978156, 4.9877202571239065e-16], [6.9502678239197095, 4.430232243289687, 5.046866654240569e-16], [6.131847311015873, 5.693204393941613, 5.123508891576534e-16], [5.1542083465529425, 6.797431534037133, 5.223478914193667e-16], [4.063616982897766, 7.736344260125749, 5.350879934276787e-16], [2.889985364909264, 8.50991653983304, 5.50310457526331e-16], [1.6585657454367464, 9.119887900950744, 5.675917398214588e-16], [0.3939712326959313, 9.570301690196896, 5.865082964191977e-16], [-0.879914788561105, 9.867974480090439, 6.066365838568098e-16], [-2.1414290655846444, 10.023456056754885, 6.276102463329721e-16], [-3.3755047041069317, 10.051895939989672, 6.49278363344351e-16], [-4.571813321775301, 9.968733156699287, 6.715407360110028e-16], [-5.72332541804794, 9.78827954962755, 6.942971654529838e-16], [-6.825645456890951, 9.523345458007006, 7.17447452842227e-16], [-7.876183406574723, 9.185243291753212, 7.408934986636937e-16], [-8.873122895953907, 8.78447620903384, 7.645448786174634e-16], [-9.815753038046715, 8.330314439970838, 7.883129219758293e-16], [-10.704309197915075, 7.830593212857324, 8.121089580110852e-16], [-11.539655404277859, 7.291711217708165, 8.358443166236955e-16], [-12.322964114654674, 6.7191240024640955, 8.594413659232461e-16], [-13.055540216213283, 6.118666190170693, 8.828616423242061e-16], [-13.739020299049981, 5.495489525061664, 9.060753660677518e-16], [-14.37526664201296, 4.853759618024023, 9.290527573950599e-16], [-14.966216123432481, 4.196705983134841, 9.517640368579918e-16], [-15.513727825215023, 3.527004246208865, 9.741823010188949e-16], [-16.019520217456076, 2.8476888167014778, 9.96290552008047e-16], [-16.485317417625016, 2.1614307862245417, 1.018073922943726e-15], [-16.912816242084936, 1.47035011930654, 1.0395175469442104e-15], [-17.303625497024207, 0.7760559979996218, 1.0606065574970198e-15], [-17.659247645561877, 0.07989764224208795, 1.0813281225928283e-15], [-17.981172903768858, -0.6164852535347367, 1.1016762121986225e-15], [-18.270852107067864, -1.3116509130835325, 1.1216462161216848e-15], [-18.529655022565283, -2.004470525646701, 1.1412335241692983e-15], [-18.758844806158454, -2.6941015316439567, 1.1604335263631283e-15], [-18.959593117184593, -3.379829513899791, 1.1792423775452441e-15], [-19.133078443303106, -4.0607406108488755, 1.197658714910324e-15], [-19.28043002497662, -4.736031363318136, 1.21568167839328e-15], [-19.40269725870021, -5.405076922492127, 1.2333104079290254e-15], [-19.500838934556683, -6.067414442550778, 1.2505440436125702e-15], [-19.5757496093271, -6.722644564949471, 1.2673821187990308e-15], [-19.628347728807483, -7.370238132796552, 1.2838254060801384e-15], [-19.659509906511513, -8.009730934382405, 1.2998749215362881e-15], [-19.67004696785601, -8.640763783329286, 1.3155316812478738e-15], [-19.660699423650897, -9.263072114637524, 1.33079670137609e-15], [-19.632163051032897, -9.876423300458818, 1.3456711412955406e-15], [-19.585157722454195, -10.480499746765858, 1.3601565985829638e-15], [-19.52036968142272, -11.075022976195275, 1.3742547543383442e-15], [-19.43843412036142, -11.65977763402602, 1.3879672896616669e-15], [-19.339933401741444, -12.234604856644433, 1.4012958856802993e-15], [-19.225419186984922, -12.799361835398328, 1.4142422598591866e-15], [-19.095464659185062, -13.3538501782636, 1.4268082376354414e-15], [-18.950616871340323, -13.897895662561917, 1.4389956644085674e-15], [-18.791384124380425, -14.431362714617622, 1.4508063855780689e-15], [-18.618235428883885, -14.954150079207668, 1.4622422465207352e-15], [-18.431618548926608, -15.466164267432807, 1.4733050693642643e-15], [-18.231998743912726, -15.967274888619006, 1.4839966091433186e-15], [-18.019821179544316, -16.45736658700107, 1.4943186088615807e-15], [-17.79550192942971, -16.936347877201147, 1.5042728115227323e-15], [-17.55942800788497, -17.40414825181882, 1.5138609600658239e-15], [-17.31197166320616, -17.860700558801824, 1.5230847451407922e-15], [-17.05351876139892, -18.305912890554737, 1.5319457108257567e-15], [-16.784439880368378, -18.739702615115515, 1.5404453757101664e-15], [-16.50508398194967, -19.16200177698855, 1.5485852583834718e-15], [-16.215778710360073, -19.57275512867248, 1.5563668773316745e-15], [-15.91684142217512, -19.971908367296926, 1.563791683514071e-15], [-15.608599621450459, -20.35939036328583, 1.5708609440094588e-15], [-15.29136937152504, -20.735135483373877, 1.5775758948902484e-15], [-14.965450968950728, -21.099086877170354, 1.5839377722288512e-15], [-14.6311293677204, -21.45119512231801, 1.5899478119572546e-15], [-14.288682397655428, -21.79141039826184, 1.59560717475153e-15], [-13.938395030947715, -22.11967129381376, 1.6009168221857194e-15], [-13.580543967190902, -22.435919321214254, 1.605877683283873e-15], [-13.21539484352349, -22.740100885436874, 1.6104906870700402e-15], [-12.843202722891995, -23.032166353395233, 1.6147567623903633e-15], [-12.464217831762792, -23.312064922114406, 1.618676758632335e-15], [-12.078694904900145, -23.57973765274016, 1.6222513209129742e-15], [-11.686883129979043, -23.835126704304162, 1.6254810619767702e-15], [-11.289024584557184, -24.078176485162984, 1.6283665945682116e-15], [-10.885354765112636, -24.30883303092346, 1.6309085312141125e-15], [-10.476106033803163, -24.527040738681887, 1.6331074023611507e-15], [-10.061512870460357, -24.732738107840632, 1.6349635333934082e-15], [-9.641806697684117, -24.92586338268873, 1.636477218196845e-15], [-9.217215352514328, -25.106355212181658, 1.6376487506574226e-15], [-8.787963653063134, -25.2741522695055, 1.638478424399677e-15], [-8.354274591146673, -25.429191270979313, 1.6389664488709246e-15], [-7.916370986204562, -25.57140439030402, 1.6391128291182202e-15], [-7.47447504827595, -25.700722499132304, 1.638917539763444e-15], [-7.028808785216998, -25.817075564854864, 1.6383805554284758e-15], [-6.579594615296611, -25.920392479170495, 1.6375018504248852e-15], [-6.127054172912921, -26.010599916220805, 1.6362813128826754e-15], [-5.671406579263594, -26.087620657937908, 1.6347186275117175e-15], [-5.212872954692181, -26.151375348184956, 1.6328134496845724e-15], [-4.751677741777121, -26.201782811524648, 1.6305654347738013e-15], [-4.288049380002444, -26.238760086754073, 1.6279742377876713e-15], [-3.82221638892386, -26.262221728530037, 1.625039425689694e-15], [-3.3544022162940283, -26.27207840312161, 1.62176036340708e-15], [-2.8848353178193933, -26.26823797399644, 1.618136387641219e-15], [-2.413751452225261, -26.250605916194903, 1.6141668350935009e-15], [-1.9413944402963335, -26.2190855798678, 1.6098510420447627e-15], [-1.4680089281266095, -26.173577505041447, 1.6051882556188613e-15], [-0.9938315196870973, -26.113977646065344, 1.6001775240186509e-15], [-0.5191075507899614, -26.04017867918223, 1.5948178685316712e-15], [-0.04409449332319986, -25.95207071615618, 1.5891083104454619e-15], [0.4309371736830364, -25.849541859190794, 1.5830478705775495e-15], [0.905715478794367, -25.732476957413866, 1.5766354817155255e-15], [1.379980113071809, -25.600754690228403, 1.5698698856585064e-15], [1.853457149062944, -25.454250272413972, 1.5627497991829703e-15], [2.3258542940070135, -25.292836746889755, 1.5552739390653957e-15], [2.7968598753431495, -25.11638594553685, 1.5474410215923404e-15], [3.266160111417793, -24.924765811018265, 1.5392496814618235e-15], [3.7334574536438474, -24.71783527616394, 1.5306983812212534e-15], [4.198434011808581, -24.49545015075987, 1.5217855615836241e-15], [4.660745109438077, -24.25746542203034, 1.5125096632619304e-15], [5.1200180960251895, -24.003736821928516, 1.502869126541671e-15], [5.575877620725975, -23.73411525187158, 1.4928623280355014e-15], [6.027970455343594, -23.44843785458483, 1.4824875136829358e-15], [6.475913415236673, -23.14654002791193, 1.4717429133828913e-15], [6.919284704166142, -22.828259434447137, 1.4606267570342851e-15], [7.357622541013309, -22.493438524566482, 1.4491372743724659e-15], [7.790461852299788, -22.14191350010425, 1.4372726732275318e-15], [8.217367340302127, -21.773499026133916, 1.4250311176993467e-15], [8.637859544559769, -21.388011489854346, 1.4124107666937306e-15], [9.051403263658356, -20.985275921307345, 1.3994097791165038e-15], [9.457406046350071, -20.565130091261416, 1.3860263144435618e-15], [9.855271451333268, -20.127403388328446, 1.372258601129991e-15], [10.244442576488963, -19.671890998137062, 1.3581050015987245e-15], [10.624296762353618, -19.19839760043971, 1.3435638936647472e-15], [10.994130172195872, -18.706749334593386, 1.3286336551430432e-15], [11.353156384153673, -18.196800600176292, 1.3133126662358166e-15], [11.700584005385158, -17.668394259986872, 1.2975995692928374e-15], [12.035673149205442, -17.12131830065847, 1.2814935020266022e-15], [12.357584569314891, -16.555387019404545, 1.2649936571882203e-15], [12.665359378716737, -15.970461959253791, 1.2480992275288012e-15], [12.957918503695534, -15.366463537355417, 1.230809412513437e-15], [13.234175705764532, -14.7432966488376, 1.2131240834662822e-15], [13.493108550442642, -14.100778391445123, 1.1950443470763896e-15], [13.733542232351951, -13.438788673176646, 1.1765714427287042e-15], [13.954124028507655, -12.757307482308141, 1.1577066098081714e-15], [14.153325888738236, -12.056435445683737, 1.1384511046815962e-15], [14.329608115132396, -11.336254378864295, 1.118807738125398e-15], [14.48150286377806, -10.596707241467296, 1.0987821023269283e-15], [14.607306825089763, -9.837879967162396, 1.0783800782146803e-15], [14.70505282859395, -9.060069299695787, 1.0576075467171468e-15], [14.772522160041294, -8.263820392349905, 1.0364704301671454e-15], [14.807471979203829, -7.449671297821566, 1.0149781296365942e-15], [14.807717470369498, -6.61796151208463, 9.931461044247481e-16], [14.770718705363644, -5.7693539646741305, 9.709904214434423e-16], [14.693563369159198, -4.904959095103753, 9.485271476045122e-16], [14.573008423659326, -4.0264044797933325, 9.257724495853094e-16], [14.405773821886257, -3.135380103483439, 9.02750212958119e-16], [14.188587918155719, -2.233352177623739, 8.794974073579156e-16], [13.917700759229199, -1.3225114106291873, 8.560522698112308e-16], [13.588926211060066, -0.40599529385934696, 8.32453037344596e-16], [13.197769614634598, 0.5119865012358865, 8.087381763799436e-16], [12.739763582764821, 1.4267894404719415, 7.849625464130272e-16], [12.210468077735365, 2.333653678737892, 7.612080558459775e-16], [11.605134359680196, 3.226301597539171, 7.375591426520606e-16], [10.918942176311361, 4.096615462408811, 7.141002448045423e-16], [10.147356819157087, 4.934464825249214, 6.909162509829143e-16], [9.286735297276126, 5.728185291340403, 6.681218818652756e-16], [8.334620559457655, 6.464887297571509, 6.458797773565003e-16], [7.289723844074742, 7.129445098510738, 6.243569022046021e-16], [6.152487283851689, 7.704325363900399, 6.037202211575943e-16], [4.925835602884118, 8.169558746667432, 5.84137095729033e-16], [3.618455114710466, 8.50224330125073, 5.657992748616177e-16], [2.247120636284876, 8.678615698466249, 5.489366462200477e-16], [0.833352415178065, 8.677403917280353, 5.337824180688126e-16], [-0.5972387613170973, 8.480545852786161, 5.205697986724025e-16], [-2.0151773035393563, 8.07357822466621, 5.095310929111708e-16], [-3.381983336571709, 7.447523424730521, 5.008469160220651e-16], [-4.649775317282666, 6.605266107694744, 4.946191770253651e-16], [-5.773373086065171, 5.563438270100238, 4.909431769796737e-16], [-6.714673089284341, 4.350593931467009, 4.899142169435935e-16], [-7.445570709986697, 3.004334500105967, 4.916257175356597e-16], [-7.948648922488448, 1.566034787855311, 4.960707123829452e-16], [-8.215772306570328, 0.07758741141862771, 5.03093395265916e-16], [-8.24920278972311, -1.4179645397948166, 5.125259152804089e-16], [-8.062213605917988, -2.8790166704169193, 5.242004215222608e-16], [-7.678737841172387, -4.268450646468566, 5.379486221119618e-16], [-7.128186125072896, -5.560785251124024, 5.535802139067365e-16], [-6.437683929335166, -6.7435728853821475, 5.708731138985191e-16], [-5.633073717398768, -7.809291874099709, 5.896027613906009e-16], [-4.738981819380773, -8.754226667786687, 6.095445956862737e-16], [-3.778595100913439, -9.578036772150258, 6.304747952929546e-16], [-2.7723288746263957, -10.284182691871356, 6.522041069197649e-16], [-1.7364757829901614, -10.879210031078628, 6.74591881760358e-16], [-0.6842270570761216, -11.370489426219272, 6.975011200671625e-16], [0.373925212708606, -11.765532328464749, 7.20794822092607e-16], [1.4298381973069059, -12.071554744615037, 7.443366353163109e-16], [2.476690517664747, -12.29574005747435, 7.680186169907638e-16], [3.5085226355826618, -12.445522764227533, 7.917717275445271e-16], [4.520957268216026, -12.527823191980701, 8.155297385368298e-16], [5.511012768641554, -12.548801412613367, 8.392264215269008e-16], [6.476837690175046, -12.51373296622774, 8.627959135363723e-16], [7.416844613637064, -12.427582415794662, 8.861874357473525e-16], [8.329386483663605, -12.295438705068927, 9.093703270987356e-16], [9.213479525418599, -12.1218295500998, 9.323153249518708e-16], [10.068725106363491, -11.910621938177366, 9.549931666681071e-16], [10.89517008024015, -11.665009933639281, 9.773747743905804e-16], [11.692834822640826, -11.388038933308286, 9.994382536543735e-16], [12.461581041613297, -11.08291252359949, 1.0211710414747841e-15], [13.20153443453356, -10.752438849753002, 1.0425611985056392e-15], [13.913048962490242, -10.398984823096084, 1.063596785400765e-15], [14.596638666130552, -10.024489808562185, 1.0842659541355005e-15], [15.252751929364178, -9.630846405450807, 1.1045602057152317e-15], [15.881729727564078, -9.220081815545912, 1.1244752787663897e-15], [16.484013668591388, -8.793966278283374, 1.1440071840461166e-15], [17.06012721468042, -8.353990484054462, 1.1631519323115556e-15], [17.61064214721413, -7.901381334418494, 1.1819055787162716e-15], [18.136076140718828, -7.437361925713517, 1.2002657166221302e-15], [18.6368851345602, -6.963254673049725, 1.2182318353018649e-15], [19.113558648196673, -6.480216872737073, 1.23580354094694e-15], [19.566609003440682, -5.989228979529731, 1.2529804397488194e-15], [19.99655441476875, -5.4911073495894955, 1.2697621584918283e-15], [20.4038759188834, -4.986678959971088, 1.286148998978601e-15], [20.789020924272926, -4.476839489575407, 1.3021420734756629e-15], [21.152442946754288, -3.9623772379590316, 1.3177425422158004e-15], [21.494595012755656, -3.443966899628711, 1.332951565431801e-15], [21.815920922063977, -2.922179039121527, 1.3477703115501757e-15], [22.116840137473826, -2.397598173858115, 1.3622002034399638e-15], [22.397753949971136, -1.8708555569847207, 1.3762429615729142e-15], [22.659058916723513, -1.3425114426145963, 1.3899003233130207e-15], [22.901142663418295, -0.8130517535323636, 1.4031740260242769e-15], [23.12437931003108, -0.2828949770496546, 1.4160658086399956e-15], [23.329127251306673, 0.24752721833709282, 1.4285774563184212e-15], [23.51573499565158, 0.7777515017325077, 1.440710806887914e-15], [23.684542602048847, 1.3073622134527885, 1.4524677010420793e-15], [23.835878949366744, 1.8359931085302714, 1.4638499794745213e-15], [23.970059357669648, 2.3633223373452834, 1.4748594808175358e-15], [24.08738893830194, 2.889016836740396, 1.4854979860421542e-15], [24.188167286323043, 3.412722002644813, 1.4957672121130994e-15], [24.272684907873657, 3.9341155562567955, 1.505668872660439e-15], [24.341221436405302, 4.452908390157118, 1.5152046813142405e-15], [24.39404444768303, 4.968840889555591, 1.5243763475979505e-15], [24.431414773440874, 5.481644345492242, 1.533185471817121e-15], [24.453589982464646, 5.991035307717413, 1.5416335361661549e-15], [24.46081922584429, 6.496752256083246, 1.5497220169507648e-15], [24.453342095312415, 6.998555926042985, 1.5574523904766631e-15], [24.43138810280986, 7.49622659274685, 1.5648261277425488e-15], [24.395182142097184, 7.989537347884678, 1.5718445654102383e-15], [24.344946937759687, 8.478251126623334, 1.5785088986088713e-15], [24.280898009836843, 8.962145512730414, 1.5848203157201852e-15], [24.20324299102075, 9.441012755493631, 1.5907800051259176e-15], [24.11218148138683, 9.914657758244324, 1.5963891491434728e-15], [24.00790969875946, 10.38287986352031, 1.6016487838361256e-15], [23.890622131498063, 10.84547136455572, 1.6065597951473796e-15], [23.760507499640905, 11.302233898131574, 1.6111230621831147e-15], [23.617748421133275, 11.752978275074708, 1.6153394640492096e-15], [23.46252147758665, 12.19752299919107, 1.6192098732480207e-15], [23.29500048138153, 12.635682366357733, 1.6227350104008663e-15], [23.11535756588885, 13.067265728887282, 1.6259154442480292e-15], [22.923760650705564, 13.492087728006702, 1.628751736926268e-15], [22.720373394811624, 13.909968010356389, 1.631244450572341e-15], [22.505355375760487, 14.320730162858672, 1.6333941402703925e-15], [22.27886353671973, 14.724194696067856, 1.6352012062647138e-15], [22.041052937361236, 15.120178585092804, 1.636665897946926e-15], [21.79207610371183, 15.508500807425682, 1.6377884584536423e-15], [21.532083240293893, 15.888981990519955, 1.6385691309214756e-15], [21.261222459892178, 16.261443691536293, 1.6390081510050107e-15], [20.97963895515002, 16.6257053531599, 1.6391055974167215e-15], [20.687475637067607, 16.981583781252088, 1.6388613999062142e-15], [20.384874768162874, 17.32889492749463, 1.6382754823382765e-15], [20.071978433517607, 17.66745349940589, 1.6373477685776957e-15], [19.748928774241456, 17.997072547859794, 1.6360781745684117e-15], [19.41586429160939, 18.317563845273295, 1.6344664573836296e-15], [19.072920631893634, 18.62873702252598, 1.632512227188094e-15], [18.720235027933942, 18.930398174900606, 1.6302150886227548e-15], [18.357947055744944, 19.222349461913126, 1.62757464632856e-15], [17.98619882778878, 19.50438899519339, 1.6245904965898345e-15], [17.605127579527363, 19.776314348027412, 1.6212620752915197e-15], [17.214866934640906, 20.03792108574346, 1.6175886738198126e-15], [16.81555491494021, 20.288998521819178, 1.6135695783952828e-15], [16.40733503940625, 20.529329340070927, 1.6092040752385007e-15], [15.990356424733237, 20.75868980551298, 1.6044914418527314e-15], [15.56476138796215, 20.976856297600293, 1.5994307954961066e-15], [15.130687669490602, 21.18360294073419, 1.5940211127906452e-15], [14.688281145193848, 21.378694666906263, 1.588261365583824e-15], [14.23769736374306, 21.56188690978111, 1.5821505257231208e-15], [13.779101479248887, 21.732926196462515, 1.5756875562308e-15], [13.312648953287404, 21.89155970602684, 1.5688712646490781e-15], [12.838489467492034, 22.037531645633106, 1.5617003255887993e-15], [12.356786050729786, 22.170573683882072, 1.5541734093800647e-15], [11.867717205494463, 22.29040480254479, 1.5462891863529758e-15], [11.371476553945142, 22.396732374345007, 1.5380463185398132e-15], [10.868243702124019, 22.489264751034604, 1.5294433277683977e-15], [10.358191017305561, 22.567705941072138, 1.5204786190932084e-15], [9.841511786095996, 22.631743494522247, 1.5111505940063056e-15], [9.318423162535742, 22.681048669759335, 1.5014576539997502e-15], [8.789165330442248, 22.715278171455047, 1.4913981942265762e-15], [8.253957974374332, 22.73408957002175, 1.4809705070485045e-15], [7.713011872035175, 22.737133735796355, 1.4701728014296373e-15], [7.166570126683028, 22.724040476159093, 1.45900328392702e-15], [6.614912294942923, 22.69441931583416, 1.4474601610976968e-15], [6.058352726475841, 22.647862178169383, 1.435541638208779e-15], [5.49717546429377, 22.583960806318753, 1.4232459004405251e-15], [4.931653980199823, 22.50229634673605, 1.4105711170983723e-15], [4.362111836202773, 22.40242367798379, 1.397515457054882e-15], [3.788928544258818, 22.283873388200288, 1.3840770891826166e-15], [3.2125364891706205, 22.14615586307662, 1.370254192700633e-15], [2.6333228673556532, 21.98877828140706, 1.356045101642208e-15], [2.0516633655432055, 21.811230890568808, 1.3414482692169126e-15], [1.4680123308480404, 21.612972551956698, 1.3264621516999462e-15], [0.882911205463418, 21.3934350943021, 1.3110852053665076e-15], [0.2969829457394042, 21.152029594082844, 1.2953159226587333e-15], [-0.28921743055117993, 20.888156821822594, 1.2791533163176514e-15], [-0.8751448406836198, 20.601190539900326, 1.2625967892009453e-15], [-1.4601281383146065, 20.290470448203294, 1.2456457536181309e-15], [-2.043357860050838, 19.9553113802572, 1.2282996218787242e-15], [-2.6238962838920137, 19.59501317852741, 1.2105578992420075e-15], [-3.2009070582843226, 19.2088501133448, 1.1924213772970364e-15], [-3.773554356322834, 18.79605436825314, 1.1738917869992746e-15], [-4.340795459241565, 18.355831054927283, 1.1549708807046906e-15], [-4.9013631284302575, 17.887377616891534, 1.135660410769253e-15], [-5.4537840908960655, 17.389900003776678, 1.115962349069045e-15], [-5.9967344980840975, 16.86254807063866, 1.0958815914292267e-15], [-6.528862423080062, 16.30441045155504, 1.0754251132291888e-15], [-7.048468540844573, 15.714585600285151, 1.0545999343173713e-15], [-7.553482216620156, 15.092223468525935, 1.0334130745422146e-15], [-8.041495606597746, 14.436554189719052, 1.0118720573831973e-15], [-8.51029875668125, 13.746703379216964, 9.899908661010183e-16], [-8.957572837718772, 13.021731917279578, 9.67787958108289e-16], [-9.380412598528117, 12.260836602355027, 9.45281880453126e-16], [-9.77530167162303, 11.463441259364975, 9.224911801836455e-16], [-10.138179339017142, 10.629253149804827, 8.994355508688527e-16], [-10.465206283453773, 9.757837637029134, 8.76148853986536e-16], [-10.752257718166913, 8.848786650049766, 8.526745067468407e-16], [-10.994258022662812, 7.9021972638045535, 8.290561053570287e-16], [-11.185188087553973, 6.918869642901865, 8.053372460243615e-16], [-11.318219832442017, 5.900445875287174, 7.815639880698355e-16], [-11.386607751348787, 4.848778899811509, 7.578117285092982e-16], [-11.383083767521537, 3.76633235308409, 7.341751316420386e-16], [-11.299217158602893, 2.657024859650586, 7.107491985032384e-16], [-11.125584360922858, 1.5266020576946226, 6.876289301280798e-16], [-10.852108771988254, 0.38298952758998317, 6.649137038961527e-16], [-10.469134229339131, -0.7637460598915056, 6.427531616552905e-16], [-9.967374537554504, -1.901198603516071, 6.213290863711601e-16], [-9.337787536459508, -3.0141224872257415, 6.008237839217842e-16], [-8.572116644570126, -4.0840637043675, 5.814195601851857e-16], [-7.663878087934333, -5.088619894770871, 5.633011856413775e-16], [-6.612900876749545, -5.998188191128233, 5.466807385403589e-16], [-5.426778981852694, -6.780477617897009, 5.317872975182149e-16], [-4.11933250217761, -7.40477811199356, 5.188501980553663e-16], [-2.7101070709763166, -7.84284242461346, 5.080987756322337e-16], [-1.2245308413949634, -8.069195643184006, 4.997526637059523e-16], [0.299085430168401, -8.060905722805094, 4.939277512230244e-16], [1.8129332964173626, -7.805592974762288, 4.906770524466788e-16], [3.2679072876361923, -7.3055786559168725, 4.900527018073975e-16], [4.618079440919186, -6.577394777292275, 4.921068337356632e-16], [5.824913759811538, -5.649558996915754, 4.96877470130452e-16], [6.8607498102864115, -4.554959483653587, 5.042569405465369e-16], [7.706745443852197, -3.3292312190653544, 5.140516238730483e-16], [8.352496470559553, -2.0116230462882365, 5.260667881001353e-16], [8.797154523788063, -0.6430809891662221, 5.401077012179466e-16], [9.049870212435621, 0.7368410694208352, 5.559784712034619e-16], [9.12706024757743, 2.099859636475564, 5.734716400725231e-16], [9.04692980892043, 3.4267996067625552, 5.923731084656965e-16], [8.827976186472966, 4.702584410921653, 6.124686979771905e-16], [8.488587107421715, 5.915677792643929, 6.33544230201213e-16], [8.046703328877742, 7.057781252147387, 6.553911928955363e-16], [7.519289660294021, 8.12466117815674, 6.778556553341994e-16], [6.921443712082768, 9.115119435531945, 7.008141900270536e-16], [6.266128649187583, 10.029645552525233, 7.241437027305386e-16], [5.564184661868006, 10.869846062887104, 7.477210992010941e-16], [4.824560753020097, 11.63797483867923, 7.714274758354749e-16], [4.055764128940086, 12.336748420092981, 7.951829428223969e-16], [3.26543492080811, 12.969352063320866, 8.189288281865251e-16], [2.459698497433974, 13.539195297595494, 8.426066719853496e-16], [1.6432721266413484, 14.049660333601981, 8.661580142763601e-16], [0.8197377532519237, 14.503925486629612, 8.895266189028583e-16], [-0.007146455333947425, 14.905132812587068, 9.126762643950866e-16], [-0.8338692554660385, 15.256431128642824, 9.355813211207144e-16], [-1.6577391125748226, 15.560806209482477, 9.582162559008775e-16], [-2.476805251797733, 15.820986438639798, 9.805555355567115e-16], [-3.2896777722779964, 16.039406532798345, 1.0025747030766214e-15], [-4.094711121187921, 16.218498764340953, 1.0242586680900587e-15], [-4.890320463967327, 16.360655318378868, 1.0455971630501632e-15], [-5.67534460154891, 16.46806411779838, 1.066579960268121e-15], [-6.448998893901378, 16.542674692829962, 1.087196832055119e-15], [-7.210769111414075, 16.58620740713729, 1.1074380643100696e-15], [-7.959941718633637, 16.60042093501544, 1.1272982669826294e-15], [-8.695813014257345, 16.58704214302554, 1.146774216016356e-15], [-9.417900137337432, 16.547631385653343, 1.1658627035284402e-15], [-10.125914108799103, 16.483570536196236, 1.1845605216360724e-15], [-10.819698280695466, 16.39608266852835, 1.2028647028989427e-15], [-11.498961962279393, 16.286439913024868, 1.2207742386178137e-15], [-12.163412374813104, 16.1558920431817, 1.2382890745253424e-15], [-12.812874454585485, 16.00556598078047, 1.2554091627621872e-15], [-13.447275227056652, 15.836462059317812, 1.2721344554690062e-15], [-14.066607591923818, 15.64947332109745, 1.2884650113758601e-15], [-14.670777521408032, 15.445538493027492, 1.304401729603198e-15], [-15.259686673408579, 15.225580378952996, 1.3199459075635373e-15], [-15.833300750228954, 14.990433668397051, 1.3350988450610491e-15], [-16.391640196095718, 14.740844273359963, 1.3498618418999045e-15], [-16.934758440565616, 14.47748548703636, 1.3642362371005588e-15], [-17.462652936611235, 14.201068479906741, 1.378223669006757e-15], [-17.97531701569592, 13.91229261663673, 1.3918259139255929e-15], [-18.47277926240467, 13.611794355573979, 1.4050447489007809e-15], [-18.955097810380032, 13.300147701263741, 1.4178819509760344e-15], [-19.422347002228907, 12.977877023294555, 1.430339301864873e-15], [-19.874564883095932, 12.645536555082254, 1.4424186177935966e-15], [-20.3117859519772, 12.303671546333776, 1.4541217304572365e-15], [-20.73406405631598, 11.952782238469794, 1.465450471623789e-15], [-21.141468800358652, 11.59332467567792, 1.4764066730612505e-15], [-21.534077234909404, 11.225720647887194, 1.486992153202975e-15], [-21.911942599359225, 10.850414845740525, 1.4972086350348915e-15], [-22.275115093363414, 10.467845035845498, 1.5070577999482013e-15], [-22.623655255318415, 10.078416737237012, 1.5165413291620023e-15], [-22.9576316546966, 9.68250410111108, 1.5256609038953928e-15], [-23.277115663350504, 9.280457527706147, 1.5344181825481936e-15], [-23.582162789961956, 8.872644623061362, 1.5428146652950648e-15], [-23.872825863500296, 8.459427679888396, 1.5508517852765342e-15], [-24.149162853397165, 8.041146005644395, 1.558530975391763e-15], [-24.4112353722708, 7.6181167675512365, 1.5658536685399117e-15], [-24.659105374918788, 7.19064074957094, 1.5728212697222614e-15], [-24.89282402118992, 6.759031350494883, 1.5794349965185282e-15], [-25.112440024355752, 6.3235979957463835, 1.5856959893234668e-15], [-25.318004216369296, 5.8846340394601, 1.5916053882921227e-15], [-25.509568584351694, 5.442417546832715, 1.5971643335795415e-15], [-25.68718419048131, 4.997215542272728, 1.602373934605131e-15], [-25.850894498322287, 4.549303926822833, 1.6072351006897054e-15], [-26.000740663569438, 4.098955815065304, 1.611748661060875e-15], [-26.13676422819517, 3.6464336140833327, 1.6159154447338467e-15], [-26.25900652760437, 3.191989745409105, 1.6197362807238265e-15], [-26.367507379942147, 2.735869626735001, 1.6232119655453469e-15], [-26.462300933714566, 2.278324418387205, 1.626343090633885e-15], [-26.54341910271292, 1.8196036174309227, 1.6291301676517392e-15], [-26.61089325884389, 1.359950392507085, 1.6315737080825962e-15], [-26.66475391566583, 0.8996022592234444, 1.6336742234101424e-15], [-26.705029880415683, 0.4387929422962881, 1.635432191290196e-15], [-26.731745301024652, -0.022240841765550766, 1.6368478824600191e-15], [-26.7449221231406, -0.4832628989728002, 1.6379214894464931e-15], [-26.744581370022082, -0.9440395485807771, 1.6386532046305645e-15], [-26.73074305313777, -1.4043389764962697, 1.6390432203931788e-15], [-26.703425556878127, -1.8639304318709633, 1.6390916940757905e-15], [-26.662642876250217, -2.322582734299322, 1.6387985752214003e-15], [-26.608406821700925, -2.7800639801751, 1.638163737062878e-15], [-26.540728334759038, -3.23614118805952, 1.6371870527161907e-15], [-26.459617609555387, -3.6905796623719325, 1.6358683952973035e-15], [-26.365083508380742, -4.1431432770041585, 1.6342076016656228e-15], [-26.257130077852175, -4.593598058599387, 1.6322043001883068e-15], [-26.135759213313133, -5.041707862951442, 1.6298580448534474e-15], [-26.00097241793275, -5.487231792391257, 1.6271683895572002e-15], [-25.852771148366962, -5.929923551815478, 1.624134888195722e-15], [-25.691156049846942, -6.369532927668335, 1.6207570573077253e-15], [-25.516121775536362, -6.8058145748240415, 1.617034205101073e-15], [-25.327660939329945, -7.238519162273052, 1.6129655675927853e-15], [-25.125766761024412, -7.66738852751337, 1.6085503807293496e-15], [-24.910433681339555, -8.092155009705808, 1.6037878804572541e-15], [-24.68165613242576, -8.512544388938132, 1.5986772646133699e-15], [-24.43942034288202, -8.92829060447588, 1.593217524908065e-15], [-24.183710741288376, -9.339121299939258, 1.5874075836807046e-15], [-23.91451408263262, -9.744750419023537, 1.5812463632183765e-15], [-23.63182042088663, -10.144877504427834, 1.574732785808169e-15], [-23.33562107470418, -10.539192360496179, 1.5678657365582318e-15], [-23.025895882027285, -10.927396253746554, 1.5606439055185606e-15], [-22.702623586816983, -11.309180822818261, 1.5530659189901618e-15], [-22.365788179201225, -11.68421790684077, 1.5451304032380749e-15], [-22.015380374726167, -12.052158817374371, 1.53683598452734e-15], [-21.65139390557505, -12.412641735548814, 1.5281812543231012e-15], [-21.2738044257803, -12.765322661356308, 1.5191646269762827e-15], [-20.882587289920412, -13.109843868527252, 1.509784460632274e-15], [-20.477727755078565, -13.445819590682667, 1.500039113413583e-15], [-20.059223232023832, -13.772835283294924, 1.4899269434427167e-15], [-19.62707796385746, -14.090457163351822, 1.4794462888797206e-15], [-19.181273808838945, -14.398269576080576, 1.4685953893170891e-15], [-18.721796533252956, -14.695835382668623, 1.4573724539783553e-15], [-18.248650233240756, -14.982679053308898, 1.4457756920785384e-15], [-17.761860740369624, -15.258286086358083, 1.4338033128326594e-15], [-17.26146233499437, -15.522121038200304, 1.4214535108829022e-15], [-16.74743520877651, -15.773692255963935, 1.4087244110579078e-15], [-16.21976193534882, -16.012480092289216, 1.3956141173047584e-15], [-15.678456055680078, -16.23790830604999, 1.3821207335667452e-15], [-15.12356760913922, -16.449343692466016, 1.3682423637871598e-15], [-14.555177896812463, -16.646108108858268, 1.3539772199286945e-15], [-13.973363791931222, -16.827519313372612, 1.339324016065509e-15], [-13.37823823433881, -16.992845272018382, 1.3242816120562194e-15], [-12.769972203502373, -17.141287634982092, 1.308848867775191e-15], [-12.14880262754908, -17.27198308639391, 1.2930246430967887e-15], [-11.514952898833686, -17.38406252488009, 1.2768077466415432e-15], [-10.868329628025478, -17.476826723739222, 1.2601967558501326e-15], [-10.208811810739727, -17.54951078907408, 1.243190183013322e-15], [-9.53637749814243, -17.60120411139233, 1.225786540418171e-15], [-8.851121420282915, -17.630852334054723, 1.2079843403517377e-15], [-8.153393261480632, -17.637227892431376, 1.1897833312644399e-15], [-7.444215193907574, -17.618863637767458, 1.1711886721735513e-15], [-6.724905371257708, -17.574240951612136, 1.1522070019862662e-15], [-5.996941893660515, -17.501853884336636, 1.1328449596463487e-15], [-5.261970468007509, -17.400224208765398, 1.113109184097563e-15], [-4.520996716852481, -17.26809331735876, 1.0930040571706124e-15], [-3.771821328554908, -17.104719757847985, 1.0725243738219553e-15], [-3.011766426628448, -16.908819427263364, 1.0516623841561933e-15], [-2.238719371483885, -16.67829754658656, 1.0304103382587422e-15], [-1.4512532989326514, -16.41026261996836, 1.0087604862150177e-15], [-0.6510216592054358, -16.101195911822014, 9.867194772190587e-16], [0.15053312168719724, -15.748365313897514, 9.643533110756118e-16], [0.9400227197130522, -15.351080672729614, 9.417432770604197e-16], [1.7049041651354933, -14.910776675563476, 9.189706644640638e-16], [2.433760976808505, -14.430910355355755, 8.961167625771258e-16]], &quot;color&quot;: &quot;#ff0000&quot;, &quot;opacity&quot;: 1.0, &quot;linewidth&quot;: 2.0}];\n",
       "    for ( var i=0 ; i < lines.length ; i++ ) addLine( lines[i] );\n",
       "\n",
       "    function addLine( json ) {\n",
       "\n",
       "        var geometry = new THREE.Geometry();\n",
       "        for ( var i=0 ; i < json.points.length ; i++ ) {\n",
       "            var v = json.points[i];\n",
       "            geometry.vertices.push( new THREE.Vector3( a[0]*v[0], a[1]*v[1], a[2]*v[2] ) );\n",
       "        }\n",
       "\n",
       "        var c = new THREE.Vector3();\n",
       "        geometry.computeBoundingBox();\n",
       "        geometry.boundingBox.getCenter( c );\n",
       "        geometry.translate( -c.x, -c.y, -c.z );\n",
       "\n",
       "        var transparent = json.opacity < 1 ? true : false;\n",
       "        var materialOptions = { color: json.color, linewidth: json.linewidth,\n",
       "                                transparent: transparent, opacity: json.opacity };\n",
       "\n",
       "        var mesh;\n",
       "        if ( json.linewidth > 1 && window.createFatLineStrip ) {\n",
       "            mesh = createFatLineStrip( geometry, materialOptions );\n",
       "        } else {\n",
       "            var material = new THREE.LineBasicMaterial( materialOptions );\n",
       "            mesh = new THREE.Line( geometry, material );\n",
       "        }\n",
       "\n",
       "        mesh.position.set( c.x, c.y, c.z );\n",
       "        mesh.userData = json;\n",
       "        scene.add( mesh );\n",
       "\n",
       "    }\n",
       "\n",
       "    var surfaces = [{&quot;vertices&quot;: [{&quot;x&quot;: 0.0, &quot;y&quot;: 0.0, &quot;z&quot;: -2.0}, {&quot;x&quot;: 0.30811574801987324, &quot;y&quot;: 0.054329119557074444, &quot;z&quot;: -1.9753766811902755}, {&quot;x&quot;: 0.31286893008046185, &quot;y&quot;: 0.0, &quot;z&quot;: -1.9753766811902755}, {&quot;x&quot;: 0.29400062486979234, &quot;y&quot;: 0.10700747630826818, &quot;z&quot;: -1.9753766811902755}, {&quot;x&quot;: 0.2709524415045373, &quot;y&quot;: 0.1564344650402309, &quot;z&quot;: -1.9753766811902755}, {&quot;x&quot;: 0.23967150531271786, &quot;y&quot;: 0.20110827171160506, &quot;z&quot;: -1.9753766811902755}, {&quot;x&quot;: 0.20110827171160509, &quot;y&quot;: 0.23967150531271786, &quot;z&quot;: -1.9753766811902755}, {&quot;x&quot;: 0.15643446504023095, &quot;y&quot;: 0.27095244150453723, &quot;z&quot;: -1.9753766811902755}, {&quot;x&quot;: 0.10700747630826822, &quot;y&quot;: 0.2940006248697923, &quot;z&quot;: -1.9753766811902755}, {&quot;x&quot;: 0.05432911955707447, &quot;y&quot;: 0.30811574801987324, &quot;z&quot;: -1.9753766811902755}, {&quot;x&quot;: 1.9157696688784732e-17, &quot;y&quot;: 0.31286893008046185, &quot;z&quot;: -1.9753766811902755}, {&quot;x&quot;: -0.05432911955707444, &quot;y&quot;: 0.30811574801987324, &quot;z&quot;: -1.9753766811902755}, {&quot;x&quot;: -0.10700747630826811, &quot;y&quot;: 0.29400062486979234, &quot;z&quot;: -1.9753766811902755}, {&quot;x&quot;: -0.15643446504023084, &quot;y&quot;: 0.2709524415045373, &quot;z&quot;: -1.9753766811902755}, {&quot;x&quot;: -0.20110827171160509, &quot;y&quot;: 0.23967150531271786, &quot;z&quot;: -1.9753766811902755}, {&quot;x&quot;: -0.23967150531271783, &quot;y&quot;: 0.2011082717116051, &quot;z&quot;: -1.9753766811902755}, {&quot;x&quot;: -0.27095244150453723, &quot;y&quot;: 0.15643446504023104, &quot;z&quot;: -1.9753766811902755}, {&quot;x&quot;: -0.2940006248697923, &quot;y&quot;: 0.10700747630826823, &quot;z&quot;: -1.9753766811902755}, {&quot;x&quot;: -0.30811574801987324, &quot;y&quot;: 0.05432911955707442, &quot;z&quot;: -1.9753766811902755}, {&quot;x&quot;: -0.31286893008046185, &quot;y&quot;: 3.8315393377569464e-17, &quot;z&quot;: -1.9753766811902755}, {&quot;x&quot;: -0.3081157480198733, &quot;y&quot;: -0.05432911955707435, &quot;z&quot;: -1.9753766811902755}, {&quot;x&quot;: -0.29400062486979234, &quot;y&quot;: -0.10700747630826817, &quot;z&quot;: -1.9753766811902755}, {&quot;x&quot;: -0.27095244150453723, &quot;y&quot;: -0.15643446504023095, &quot;z&quot;: -1.9753766811902755}, {&quot;x&quot;: -0.23967150531271797, &quot;y&quot;: -0.20110827171160495, &quot;z&quot;: -1.9753766811902755}, {&quot;x&quot;: -0.2011082717116051, &quot;y&quot;: -0.23967150531271783, &quot;z&quot;: -1.9753766811902755}, {&quot;x&quot;: -0.15643446504023106, &quot;y&quot;: -0.27095244150453723, &quot;z&quot;: -1.9753766811902755}, {&quot;x&quot;: -0.10700747630826814, &quot;y&quot;: -0.29400062486979234, &quot;z&quot;: -1.9753766811902755}, {&quot;x&quot;: -0.054329119557074444, &quot;y&quot;: -0.30811574801987324, &quot;z&quot;: -1.9753766811902755}, {&quot;x&quot;: -5.74730900663542e-17, &quot;y&quot;: -0.31286893008046185, &quot;z&quot;: -1.9753766811902755}, {&quot;x&quot;: 0.054329119557074326, &quot;y&quot;: -0.3081157480198733, &quot;z&quot;: -1.9753766811902755}, {&quot;x&quot;: 0.10700747630826828, &quot;y&quot;: -0.2940006248697923, &quot;z&quot;: -1.9753766811902755}, {&quot;x&quot;: 0.1564344650402307, &quot;y&quot;: -0.2709524415045374, &quot;z&quot;: -1.9753766811902755}, {&quot;x&quot;: 0.20110827171160506, &quot;y&quot;: -0.23967150531271791, &quot;z&quot;: -1.9753766811902755}, {&quot;x&quot;: 0.2396715053127178, &quot;y&quot;: -0.20110827171160514, &quot;z&quot;: -1.9753766811902755}, {&quot;x&quot;: 0.27095244150453734, &quot;y&quot;: -0.1564344650402308, &quot;z&quot;: -1.9753766811902755}, {&quot;x&quot;: 0.29400062486979234, &quot;y&quot;: -0.10700747630826815, &quot;z&quot;: -1.9753766811902755}, {&quot;x&quot;: 0.30811574801987324, &quot;y&quot;: -0.05432911955707446, &quot;z&quot;: -1.9753766811902755}, {&quot;x&quot;: 0.6086446637459563, &quot;y&quot;: 0.10732047588264337, &quot;z&quot;: -1.902113032590307}, {&quot;x&quot;: 0.6180339887498949, &quot;y&quot;: 0.0, &quot;z&quot;: -1.902113032590307}, {&quot;x&quot;: 0.5807619786231574, &quot;y&quot;: 0.21138007341237378, &quot;z&quot;: -1.902113032590307}, {&quot;x&quot;: 0.535233134659635, &quot;y&quot;: 0.3090169943749474, &quot;z&quot;: -1.902113032590307}, {&quot;x&quot;: 0.47344150274051394, &quot;y&quot;: 0.3972645903335824, &quot;z&quot;: -1.902113032590307}, {&quot;x&quot;: 0.3972645903335825, &quot;y&quot;: 0.47344150274051394, &quot;z&quot;: -1.902113032590307}, {&quot;x&quot;: 0.3090169943749475, &quot;y&quot;: 0.535233134659635, &quot;z&quot;: -1.902113032590307}, {&quot;x&quot;: 0.21138007341237386, &quot;y&quot;: 0.5807619786231574, &quot;z&quot;: -1.902113032590307}, {&quot;x&quot;: 0.10732047588264343, &quot;y&quot;: 0.6086446637459563, &quot;z&quot;: -1.902113032590307}, {&quot;x&quot;: 3.7843667304341506e-17, &quot;y&quot;: 0.6180339887498949, &quot;z&quot;: -1.902113032590307}, {&quot;x&quot;: -0.10732047588264336, &quot;y&quot;: 0.6086446637459563, &quot;z&quot;: -1.902113032590307}, {&quot;x&quot;: -0.21138007341237364, &quot;y&quot;: 0.5807619786231574, &quot;z&quot;: -1.902113032590307}, {&quot;x&quot;: -0.30901699437494734, &quot;y&quot;: 0.535233134659635, &quot;z&quot;: -1.902113032590307}, {&quot;x&quot;: -0.3972645903335825, &quot;y&quot;: 0.47344150274051394, &quot;z&quot;: -1.902113032590307}, {&quot;x&quot;: -0.4734415027405139, &quot;y&quot;: 0.3972645903335826, &quot;z&quot;: -1.902113032590307}, {&quot;x&quot;: -0.5352331346596348, &quot;y&quot;: 0.3090169943749477, &quot;z&quot;: -1.902113032590307}, {&quot;x&quot;: -0.5807619786231574, &quot;y&quot;: 0.2113800734123739, &quot;z&quot;: -1.902113032590307}, {&quot;x&quot;: -0.6086446637459563, &quot;y&quot;: 0.10732047588264333, &quot;z&quot;: -1.902113032590307}, {&quot;x&quot;: -0.6180339887498949, &quot;y&quot;: 7.568733460868301e-17, &quot;z&quot;: -1.902113032590307}, {&quot;x&quot;: -0.6086446637459563, &quot;y&quot;: -0.10732047588264318, &quot;z&quot;: -1.902113032590307}, {&quot;x&quot;: -0.5807619786231574, &quot;y&quot;: -0.21138007341237375, &quot;z&quot;: -1.902113032590307}, {&quot;x&quot;: -0.535233134659635, &quot;y&quot;: -0.3090169943749475, &quot;z&quot;: -1.902113032590307}, {&quot;x&quot;: -0.47344150274051416, &quot;y&quot;: -0.39726459033358225, &quot;z&quot;: -1.902113032590307}, {&quot;x&quot;: -0.3972645903335826, &quot;y&quot;: -0.4734415027405139, &quot;z&quot;: -1.902113032590307}, {&quot;x&quot;: -0.30901699437494773, &quot;y&quot;: -0.5352331346596348, &quot;z&quot;: -1.902113032590307}, {&quot;x&quot;: -0.21138007341237366, &quot;y&quot;: -0.5807619786231574, &quot;z&quot;: -1.902113032590307}, {&quot;x&quot;: -0.10732047588264337, &quot;y&quot;: -0.6086446637459563, &quot;z&quot;: -1.902113032590307}, {&quot;x&quot;: -1.135310019130245e-16, &quot;y&quot;: -0.6180339887498949, &quot;z&quot;: -1.902113032590307}, {&quot;x&quot;: 0.10732047588264315, &quot;y&quot;: -0.6086446637459563, &quot;z&quot;: -1.902113032590307}, {&quot;x&quot;: 0.21138007341237394, &quot;y&quot;: -0.5807619786231574, &quot;z&quot;: -1.902113032590307}, {&quot;x&quot;: 0.30901699437494706, &quot;y&quot;: -0.5352331346596352, &quot;z&quot;: -1.902113032590307}, {&quot;x&quot;: 0.3972645903335824, &quot;y&quot;: -0.47344150274051405, &quot;z&quot;: -1.902113032590307}, {&quot;x&quot;: 0.47344150274051383, &quot;y&quot;: -0.39726459033358263, &quot;z&quot;: -1.902113032590307}, {&quot;x&quot;: 0.5352331346596351, &quot;y&quot;: -0.30901699437494723, &quot;z&quot;: -1.902113032590307}, {&quot;x&quot;: 0.5807619786231574, &quot;y&quot;: -0.21138007341237372, &quot;z&quot;: -1.902113032590307}, {&quot;x&quot;: 0.6086446637459563, &quot;y&quot;: -0.1073204758826434, &quot;z&quot;: -1.902113032590307}, {&quot;x&quot;: 0.8941867278747851, &quot;y&quot;: 0.15766924591574263, &quot;z&quot;: -1.7820130483767356}, {&quot;x&quot;: 0.9079809994790937, &quot;y&quot;: 0.0, &quot;z&quot;: -1.7820130483767356}, {&quot;x&quot;: 0.8532230450243181, &quot;y&quot;: 0.31054779157882356, &quot;z&quot;: -1.7820130483767356}, {&quot;x&quot;: 0.7863346117024804, &quot;y&quot;: 0.4539904997395468, &quot;z&quot;: -1.7820130483767356}, {&quot;x&quot;: 0.6955537991085754, &quot;y&quot;: 0.5836389362959615, &quot;z&quot;: -1.7820130483767356}, {&quot;x&quot;: 0.5836389362959616, &quot;y&quot;: 0.6955537991085754, &quot;z&quot;: -1.7820130483767356}, {&quot;x&quot;: 0.45399049973954697, &quot;y&quot;: 0.7863346117024803, &quot;z&quot;: -1.7820130483767356}, {&quot;x&quot;: 0.3105477915788237, &quot;y&quot;: 0.853223045024318, &quot;z&quot;: -1.7820130483767356}, {&quot;x&quot;: 0.15766924591574272, &quot;y&quot;: 0.8941867278747851, &quot;z&quot;: -1.7820130483767356}, {&quot;x&quot;: 5.559780123493433e-17, &quot;y&quot;: 0.9079809994790937, &quot;z&quot;: -1.7820130483767356}, {&quot;x&quot;: -0.1576692459157426, &quot;y&quot;: 0.8941867278747851, &quot;z&quot;: -1.7820130483767356}, {&quot;x&quot;: -0.31054779157882334, &quot;y&quot;: 0.8532230450243181, &quot;z&quot;: -1.7820130483767356}, {&quot;x&quot;: -0.45399049973954664, &quot;y&quot;: 0.7863346117024804, &quot;z&quot;: -1.7820130483767356}, {&quot;x&quot;: -0.5836389362959616, &quot;y&quot;: 0.6955537991085754, &quot;z&quot;: -1.7820130483767356}, {&quot;x&quot;: -0.6955537991085753, &quot;y&quot;: 0.5836389362959616, &quot;z&quot;: -1.7820130483767356}, {&quot;x&quot;: -0.7863346117024802, &quot;y&quot;: 0.45399049973954714, &quot;z&quot;: -1.7820130483767356}, {&quot;x&quot;: -0.853223045024318, &quot;y&quot;: 0.31054779157882373, &quot;z&quot;: -1.7820130483767356}, {&quot;x&quot;: -0.8941867278747851, &quot;y&quot;: 0.15766924591574258, &quot;z&quot;: -1.7820130483767356}, {&quot;x&quot;: -0.9079809994790937, &quot;y&quot;: 1.1119560246986866e-16, &quot;z&quot;: -1.7820130483767356}, {&quot;x&quot;: -0.8941867278747853, &quot;y&quot;: -0.15766924591574236, &quot;z&quot;: -1.7820130483767356}, {&quot;x&quot;: -0.8532230450243181, &quot;y&quot;: -0.3105477915788235, &quot;z&quot;: -1.7820130483767356}, {&quot;x&quot;: -0.7863346117024803, &quot;y&quot;: -0.45399049973954697, &quot;z&quot;: -1.7820130483767356}, {&quot;x&quot;: -0.6955537991085757, &quot;y&quot;: -0.5836389362959612, &quot;z&quot;: -1.7820130483767356}, {&quot;x&quot;: -0.5836389362959616, &quot;y&quot;: -0.6955537991085753, &quot;z&quot;: -1.7820130483767356}, {&quot;x&quot;: -0.45399049973954725, &quot;y&quot;: -0.7863346117024802, &quot;z&quot;: -1.7820130483767356}, {&quot;x&quot;: -0.3105477915788234, &quot;y&quot;: -0.8532230450243181, &quot;z&quot;: -1.7820130483767356}, {&quot;x&quot;: -0.15766924591574263, &quot;y&quot;: -0.8941867278747851, &quot;z&quot;: -1.7820130483767356}, {&quot;x&quot;: -1.66793403704803e-16, &quot;y&quot;: -0.9079809994790937, &quot;z&quot;: -1.7820130483767356}, {&quot;x&quot;: 0.15766924591574233, &quot;y&quot;: -0.8941867278747853, &quot;z&quot;: -1.7820130483767356}, {&quot;x&quot;: 0.31054779157882384, &quot;y&quot;: -0.853223045024318, &quot;z&quot;: -1.7820130483767356}, {&quot;x&quot;: 0.45399049973954625, &quot;y&quot;: -0.7863346117024806, &quot;z&quot;: -1.7820130483767356}, {&quot;x&quot;: 0.5836389362959615, &quot;y&quot;: -0.6955537991085755, &quot;z&quot;: -1.7820130483767356}, {&quot;x&quot;: 0.6955537991085752, &quot;y&quot;: -0.5836389362959618, &quot;z&quot;: -1.7820130483767356}, {&quot;x&quot;: 0.7863346117024804, &quot;y&quot;: -0.4539904997395466, &quot;z&quot;: -1.7820130483767356}, {&quot;x&quot;: 0.8532230450243181, &quot;y&quot;: -0.31054779157882345, &quot;z&quot;: -1.7820130483767356}, {&quot;x&quot;: 0.8941867278747851, &quot;y&quot;: -0.1576692459157427, &quot;z&quot;: -1.7820130483767356}, {&quot;x&quot;: 1.1577109471277285, &quot;y&quot;: 0.2041356758401697, &quot;z&quot;: -1.618033988749895}, {&quot;x&quot;: 1.1755705045849463, &quot;y&quot;: 0.0, &quot;z&quot;: -1.618033988749895}, {&quot;x&quot;: 1.104674928372041, &quot;y&quot;: 0.402068792467572, &quot;z&quot;: -1.618033988749895}, {&quot;x&quot;: 1.0180739209102545, &quot;y&quot;: 0.587785252292473, &quot;z&quot;: -1.618033988749895}, {&quot;x&quot;: 0.9005392525318712, &quot;y&quot;: 0.7556421546601565, &quot;z&quot;: -1.618033988749895}, {&quot;x&quot;: 0.7556421546601566, &quot;y&quot;: 0.9005392525318712, &quot;z&quot;: -1.618033988749895}, {&quot;x&quot;: 0.5877852522924732, &quot;y&quot;: 1.0180739209102543, &quot;z&quot;: -1.618033988749895}, {&quot;x&quot;: 0.40206879246757216, &quot;y&quot;: 1.1046749283720407, &quot;z&quot;: -1.618033988749895}, {&quot;x&quot;: 0.20413567584016978, &quot;y&quot;: 1.1577109471277285, &quot;z&quot;: -1.618033988749895}, {&quot;x&quot;: 7.198293278059966e-17, &quot;y&quot;: 1.1755705045849463, &quot;z&quot;: -1.618033988749895}, {&quot;x&quot;: -0.20413567584016964, &quot;y&quot;: 1.1577109471277285, &quot;z&quot;: -1.618033988749895}, {&quot;x&quot;: -0.40206879246757177, &quot;y&quot;: 1.104674928372041, &quot;z&quot;: -1.618033988749895}, {&quot;x&quot;: -0.5877852522924729, &quot;y&quot;: 1.0180739209102545, &quot;z&quot;: -1.618033988749895}, {&quot;x&quot;: -0.7556421546601566, &quot;y&quot;: 0.9005392525318712, &quot;z&quot;: -1.618033988749895}, {&quot;x&quot;: -0.9005392525318711, &quot;y&quot;: 0.7556421546601567, &quot;z&quot;: -1.618033988749895}, {&quot;x&quot;: -1.0180739209102543, &quot;y&quot;: 0.5877852522924736, &quot;z&quot;: -1.618033988749895}, {&quot;x&quot;: -1.1046749283720407, &quot;y&quot;: 0.4020687924675722, &quot;z&quot;: -1.618033988749895}, {&quot;x&quot;: -1.1577109471277285, &quot;y&quot;: 0.20413567584016962, &quot;z&quot;: -1.618033988749895}, {&quot;x&quot;: -1.1755705045849463, &quot;y&quot;: 1.4396586556119933e-16, &quot;z&quot;: -1.618033988749895}, {&quot;x&quot;: -1.1577109471277287, &quot;y&quot;: -0.20413567584016934, &quot;z&quot;: -1.618033988749895}, {&quot;x&quot;: -1.104674928372041, &quot;y&quot;: -0.40206879246757193, &quot;z&quot;: -1.618033988749895}, {&quot;x&quot;: -1.0180739209102543, &quot;y&quot;: -0.5877852522924732, &quot;z&quot;: -1.618033988749895}, {&quot;x&quot;: -0.9005392525318715, &quot;y&quot;: -0.755642154660156, &quot;z&quot;: -1.618033988749895}, {&quot;x&quot;: -0.7556421546601567, &quot;y&quot;: -0.9005392525318711, &quot;z&quot;: -1.618033988749895}, {&quot;x&quot;: -0.5877852522924737, &quot;y&quot;: -1.0180739209102543, &quot;z&quot;: -1.618033988749895}, {&quot;x&quot;: -0.4020687924675718, &quot;y&quot;: -1.104674928372041, &quot;z&quot;: -1.618033988749895}, {&quot;x&quot;: -0.2041356758401697, &quot;y&quot;: -1.1577109471277285, &quot;z&quot;: -1.618033988749895}, {&quot;x&quot;: -2.15948798341799e-16, &quot;y&quot;: -1.1755705045849463, &quot;z&quot;: -1.618033988749895}, {&quot;x&quot;: 0.20413567584016926, &quot;y&quot;: -1.1577109471277287, &quot;z&quot;: -1.618033988749895}, {&quot;x&quot;: 0.4020687924675723, &quot;y&quot;: -1.1046749283720407, &quot;z&quot;: -1.618033988749895}, {&quot;x&quot;: 0.5877852522924724, &quot;y&quot;: -1.018073920910255, &quot;z&quot;: -1.618033988749895}, {&quot;x&quot;: 0.7556421546601565, &quot;y&quot;: -0.9005392525318713, &quot;z&quot;: -1.618033988749895}, {&quot;x&quot;: 0.900539252531871, &quot;y&quot;: -0.7556421546601568, &quot;z&quot;: -1.618033988749895}, {&quot;x&quot;: 1.0180739209102545, &quot;y&quot;: -0.5877852522924727, &quot;z&quot;: -1.618033988749895}, {&quot;x&quot;: 1.104674928372041, &quot;y&quot;: -0.4020687924675719, &quot;z&quot;: -1.618033988749895}, {&quot;x&quot;: 1.1577109471277285, &quot;y&quot;: -0.20413567584016976, &quot;z&quot;: -1.618033988749895}, {&quot;x&quot;: 1.392728480640038, &quot;y&quot;: 0.2455756079379457, &quot;z&quot;: -1.414213562373095}, {&quot;x&quot;: 1.4142135623730951, &quot;y&quot;: 0.0, &quot;z&quot;: -1.414213562373095}, {&quot;x&quot;: 1.3289260487773495, &quot;y&quot;: 0.48368952529595055, &quot;z&quot;: -1.414213562373095}, {&quot;x&quot;: 1.2247448713915892, &quot;y&quot;: 0.7071067811865475, &quot;z&quot;: -1.414213562373095}, {&quot;x&quot;: 1.0833504408394037, &quot;y&quot;: 0.9090389553440873, &quot;z&quot;: -1.414213562373095}, {&quot;x&quot;: 0.9090389553440875, &quot;y&quot;: 1.0833504408394037, &quot;z&quot;: -1.414213562373095}, {&quot;x&quot;: 0.7071067811865477, &quot;y&quot;: 1.2247448713915892, &quot;z&quot;: -1.414213562373095}, {&quot;x&quot;: 0.48368952529595066, &quot;y&quot;: 1.3289260487773493, &quot;z&quot;: -1.414213562373095}, {&quot;x&quot;: 0.2455756079379458, &quot;y&quot;: 1.392728480640038, &quot;z&quot;: -1.414213562373095}, {&quot;x&quot;: 8.659560562354934e-17, &quot;y&quot;: 1.4142135623730951, &quot;z&quot;: -1.414213562373095}, {&quot;x&quot;: -0.24557560793794564, &quot;y&quot;: 1.392728480640038, &quot;z&quot;: -1.414213562373095}, {&quot;x&quot;: -0.4836895252959502, &quot;y&quot;: 1.3289260487773495, &quot;z&quot;: -1.414213562373095}, {&quot;x&quot;: -0.7071067811865472, &quot;y&quot;: 1.2247448713915892, &quot;z&quot;: -1.414213562373095}, {&quot;x&quot;: -0.9090389553440875, &quot;y&quot;: 1.0833504408394037, &quot;z&quot;: -1.414213562373095}, {&quot;x&quot;: -1.0833504408394037, &quot;y&quot;: 0.9090389553440876, &quot;z&quot;: -1.414213562373095}, {&quot;x&quot;: -1.224744871391589, &quot;y&quot;: 0.707106781186548, &quot;z&quot;: -1.414213562373095}, {&quot;x&quot;: -1.3289260487773493, &quot;y&quot;: 0.4836895252959508, &quot;z&quot;: -1.414213562373095}, {&quot;x&quot;: -1.392728480640038, &quot;y&quot;: 0.2455756079379456, &quot;z&quot;: -1.414213562373095}, {&quot;x&quot;: -1.4142135623730951, &quot;y&quot;: 1.7319121124709868e-16, &quot;z&quot;: -1.414213562373095}, {&quot;x&quot;: -1.3927284806400382, &quot;y&quot;: -0.24557560793794525, &quot;z&quot;: -1.414213562373095}, {&quot;x&quot;: -1.3289260487773495, &quot;y&quot;: -0.48368952529595044, &quot;z&quot;: -1.414213562373095}, {&quot;x&quot;: -1.2247448713915892, &quot;y&quot;: -0.7071067811865477, &quot;z&quot;: -1.414213562373095}, {&quot;x&quot;: -1.0833504408394041, &quot;y&quot;: -0.9090389553440869, &quot;z&quot;: -1.414213562373095}, {&quot;x&quot;: -0.9090389553440876, &quot;y&quot;: -1.0833504408394037, &quot;z&quot;: -1.414213562373095}, {&quot;x&quot;: -0.7071067811865482, &quot;y&quot;: -1.224744871391589, &quot;z&quot;: -1.414213562373095}, {&quot;x&quot;: -0.4836895252959503, &quot;y&quot;: -1.3289260487773495, &quot;z&quot;: -1.414213562373095}, {&quot;x&quot;: -0.2455756079379457, &quot;y&quot;: -1.392728480640038, &quot;z&quot;: -1.414213562373095}, {&quot;x&quot;: -2.59786816870648e-16, &quot;y&quot;: -1.4142135623730951, &quot;z&quot;: -1.414213562373095}, {&quot;x&quot;: 0.24557560793794517, &quot;y&quot;: -1.3927284806400382, &quot;z&quot;: -1.414213562373095}, {&quot;x&quot;: 0.48368952529595094, &quot;y&quot;: -1.3289260487773493, &quot;z&quot;: -1.414213562373095}, {&quot;x&quot;: 0.7071067811865467, &quot;y&quot;: -1.2247448713915896, &quot;z&quot;: -1.414213562373095}, {&quot;x&quot;: 0.9090389553440873, &quot;y&quot;: -1.083350440839404, &quot;z&quot;: -1.414213562373095}, {&quot;x&quot;: 1.0833504408394035, &quot;y&quot;: -0.9090389553440877, &quot;z&quot;: -1.414213562373095}, {&quot;x&quot;: 1.2247448713915894, &quot;y&quot;: -0.7071067811865471, &quot;z&quot;: -1.414213562373095}, {&quot;x&quot;: 1.3289260487773495, &quot;y&quot;: -0.4836895252959504, &quot;z&quot;: -1.414213562373095}, {&quot;x&quot;: 1.392728480640038, &quot;y&quot;: -0.24557560793794575, &quot;z&quot;: -1.414213562373095}, {&quot;x&quot;: 1.5934524167581643, &quot;y&quot;: 0.2809686535495737, &quot;z&quot;: -1.1755705045849463}, {&quot;x&quot;: 1.618033988749895, &quot;y&quot;: 0.0, &quot;z&quot;: -1.1755705045849463}, {&quot;x&quot;: 1.520454599409066, &quot;y&quot;: 0.5534002167380425, &quot;z&quot;: -1.1755705045849463}, {&quot;x&quot;: 1.4012585384440737, &quot;y&quot;: 0.8090169943749473, &quot;z&quot;: -1.1755705045849463}, {&quot;x&quot;: 1.239485945859492, &quot;y&quot;: 1.0400522000201218, &quot;z&quot;: -1.1755705045849463}, {&quot;x&quot;: 1.0400522000201218, &quot;y&quot;: 1.239485945859492, &quot;z&quot;: -1.1755705045849463}, {&quot;x&quot;: 0.8090169943749477, &quot;y&quot;: 1.4012585384440734, &quot;z&quot;: -1.1755705045849463}, {&quot;x&quot;: 0.5534002167380426, &quot;y&quot;: 1.5204545994090657, &quot;z&quot;: -1.1755705045849463}, {&quot;x&quot;: 0.28096865354957384, &quot;y&quot;: 1.5934524167581643, &quot;z&quot;: -1.1755705045849463}, {&quot;x&quot;: 9.907600726170916e-17, &quot;y&quot;: 1.618033988749895, &quot;z&quot;: -1.1755705045849463}, {&quot;x&quot;: -0.2809686535495737, &quot;y&quot;: 1.5934524167581643, &quot;z&quot;: -1.1755705045849463}, {&quot;x&quot;: -0.5534002167380422, &quot;y&quot;: 1.520454599409066, &quot;z&quot;: -1.1755705045849463}, {&quot;x&quot;: -0.8090169943749471, &quot;y&quot;: 1.4012585384440737, &quot;z&quot;: -1.1755705045849463}, {&quot;x&quot;: -1.0400522000201218, &quot;y&quot;: 1.239485945859492, &quot;z&quot;: -1.1755705045849463}, {&quot;x&quot;: -1.2394859458594918, &quot;y&quot;: 1.040052200020122, &quot;z&quot;: -1.1755705045849463}, {&quot;x&quot;: -1.4012585384440732, &quot;y&quot;: 0.809016994374948, &quot;z&quot;: -1.1755705045849463}, {&quot;x&quot;: -1.5204545994090657, &quot;y&quot;: 0.5534002167380427, &quot;z&quot;: -1.1755705045849463}, {&quot;x&quot;: -1.5934524167581643, &quot;y&quot;: 0.2809686535495736, &quot;z&quot;: -1.1755705045849463}, {&quot;x&quot;: -1.618033988749895, &quot;y&quot;: 1.9815201452341832e-16, &quot;z&quot;: -1.1755705045849463}, {&quot;x&quot;: -1.5934524167581645, &quot;y&quot;: -0.28096865354957323, &quot;z&quot;: -1.1755705045849463}, {&quot;x&quot;: -1.520454599409066, &quot;y&quot;: -0.5534002167380424, &quot;z&quot;: -1.1755705045849463}, {&quot;x&quot;: -1.4012585384440734, &quot;y&quot;: -0.8090169943749477, &quot;z&quot;: -1.1755705045849463}, {&quot;x&quot;: -1.2394859458594925, &quot;y&quot;: -1.040052200020121, &quot;z&quot;: -1.1755705045849463}, {&quot;x&quot;: -1.040052200020122, &quot;y&quot;: -1.2394859458594918, &quot;z&quot;: -1.1755705045849463}, {&quot;x&quot;: -0.8090169943749481, &quot;y&quot;: -1.4012585384440732, &quot;z&quot;: -1.1755705045849463}, {&quot;x&quot;: -0.5534002167380422, &quot;y&quot;: -1.520454599409066, &quot;z&quot;: -1.1755705045849463}, {&quot;x&quot;: -0.2809686535495737, &quot;y&quot;: -1.5934524167581643, &quot;z&quot;: -1.1755705045849463}, {&quot;x&quot;: -2.9722802178512745e-16, &quot;y&quot;: -1.618033988749895, &quot;z&quot;: -1.1755705045849463}, {&quot;x&quot;: 0.2809686535495731, &quot;y&quot;: -1.5934524167581645, &quot;z&quot;: -1.1755705045849463}, {&quot;x&quot;: 0.553400216738043, &quot;y&quot;: -1.5204545994090657, &quot;z&quot;: -1.1755705045849463}, {&quot;x&quot;: 0.8090169943749463, &quot;y&quot;: -1.4012585384440743, &quot;z&quot;: -1.1755705045849463}, {&quot;x&quot;: 1.0400522000201218, &quot;y&quot;: -1.2394859458594922, &quot;z&quot;: -1.1755705045849463}, {&quot;x&quot;: 1.2394859458594916, &quot;y&quot;: -1.0400522000201222, &quot;z&quot;: -1.1755705045849463}, {&quot;x&quot;: 1.4012585384440739, &quot;y&quot;: -0.8090169943749469, &quot;z&quot;: -1.1755705045849463}, {&quot;x&quot;: 1.520454599409066, &quot;y&quot;: -0.5534002167380423, &quot;z&quot;: -1.1755705045849463}, {&quot;x&quot;: 1.5934524167581643, &quot;y&quot;: -0.2809686535495738, &quot;z&quot;: -1.1755705045849463}, {&quot;x&quot;: 1.7549402660103284, &quot;y&quot;: 0.30944331842931155, &quot;z&quot;: -0.9079809994790935}, {&quot;x&quot;: 1.7820130483767358, &quot;y&quot;: 0.0, &quot;z&quot;: -0.9079809994790935}, {&quot;x&quot;: 1.6745445117038207, &quot;y&quot;: 0.609484358214023, &quot;z&quot;: -0.9079809994790935}, {&quot;x&quot;: 1.5432685697696011, &quot;y&quot;: 0.8910065241883678, &quot;z&quot;: -0.9079809994790935}, {&quot;x&quot;: 1.365101193274509, &quot;y&quot;: 1.1454559077963054, &quot;z&quot;: -0.9079809994790935}, {&quot;x&quot;: 1.1454559077963054, &quot;y&quot;: 1.365101193274509, &quot;z&quot;: -0.9079809994790935}, {&quot;x&quot;: 0.8910065241883681, &quot;y&quot;: 1.543268569769601, &quot;z&quot;: -0.9079809994790935}, {&quot;x&quot;: 0.6094843582140231, &quot;y&quot;: 1.6745445117038205, &quot;z&quot;: -0.9079809994790935}, {&quot;x&quot;: 0.30944331842931166, &quot;y&quot;: 1.7549402660103284, &quot;z&quot;: -0.9079809994790935}, {&quot;x&quot;: 1.0911682878666935e-16, &quot;y&quot;: 1.7820130483767358, &quot;z&quot;: -0.9079809994790935}, {&quot;x&quot;: -0.3094433184293115, &quot;y&quot;: 1.7549402660103284, &quot;z&quot;: -0.9079809994790935}, {&quot;x&quot;: -0.6094843582140226, &quot;y&quot;: 1.6745445117038207, &quot;z&quot;: -0.9079809994790935}, {&quot;x&quot;: -0.8910065241883675, &quot;y&quot;: 1.5432685697696011, &quot;z&quot;: -0.9079809994790935}, {&quot;x&quot;: -1.1454559077963054, &quot;y&quot;: 1.365101193274509, &quot;z&quot;: -0.9079809994790935}, {&quot;x&quot;: -1.3651011932745087, &quot;y&quot;: 1.1454559077963056, &quot;z&quot;: -0.9079809994790935}, {&quot;x&quot;: -1.5432685697696007, &quot;y&quot;: 0.8910065241883685, &quot;z&quot;: -0.9079809994790935}, {&quot;x&quot;: -1.6745445117038205, &quot;y&quot;: 0.6094843582140232, &quot;z&quot;: -0.9079809994790935}, {&quot;x&quot;: -1.7549402660103284, &quot;y&quot;: 0.30944331842931144, &quot;z&quot;: -0.9079809994790935}, {&quot;x&quot;: -1.7820130483767358, &quot;y&quot;: 2.182336575733387e-16, &quot;z&quot;: -0.9079809994790935}, {&quot;x&quot;: -1.7549402660103286, &quot;y&quot;: -0.309443318429311, &quot;z&quot;: -0.9079809994790935}, {&quot;x&quot;: -1.6745445117038207, &quot;y&quot;: -0.6094843582140229, &quot;z&quot;: -0.9079809994790935}, {&quot;x&quot;: -1.543268569769601, &quot;y&quot;: -0.8910065241883681, &quot;z&quot;: -0.9079809994790935}, {&quot;x&quot;: -1.3651011932745096, &quot;y&quot;: -1.1454559077963047, &quot;z&quot;: -0.9079809994790935}, {&quot;x&quot;: -1.1454559077963056, &quot;y&quot;: -1.3651011932745087, &quot;z&quot;: -0.9079809994790935}, {&quot;x&quot;: -0.8910065241883687, &quot;y&quot;: -1.5432685697696007, &quot;z&quot;: -0.9079809994790935}, {&quot;x&quot;: -0.6094843582140227, &quot;y&quot;: -1.6745445117038207, &quot;z&quot;: -0.9079809994790935}, {&quot;x&quot;: -0.30944331842931155, &quot;y&quot;: -1.7549402660103284, &quot;z&quot;: -0.9079809994790935}, {&quot;x&quot;: -3.2735048636000803e-16, &quot;y&quot;: -1.7820130483767358, &quot;z&quot;: -0.9079809994790935}, {&quot;x&quot;: 0.3094433184293109, &quot;y&quot;: -1.7549402660103286, &quot;z&quot;: -0.9079809994790935}, {&quot;x&quot;: 0.6094843582140235, &quot;y&quot;: -1.6745445117038205, &quot;z&quot;: -0.9079809994790935}, {&quot;x&quot;: 0.8910065241883667, &quot;y&quot;: -1.5432685697696018, &quot;z&quot;: -0.9079809994790935}, {&quot;x&quot;: 1.1454559077963054, &quot;y&quot;: -1.3651011932745092, &quot;z&quot;: -0.9079809994790935}, {&quot;x&quot;: 1.3651011932745085, &quot;y&quot;: -1.1454559077963058, &quot;z&quot;: -0.9079809994790935}, {&quot;x&quot;: 1.5432685697696014, &quot;y&quot;: -0.8910065241883673, &quot;z&quot;: -0.9079809994790935}, {&quot;x&quot;: 1.6745445117038207, &quot;y&quot;: -0.6094843582140228, &quot;z&quot;: -0.9079809994790935}, {&quot;x&quot;: 1.7549402660103284, &quot;y&quot;: -0.3094433184293116, &quot;z&quot;: -0.9079809994790935}, {&quot;x&quot;: 1.8732156616004971, &quot;y&quot;: 0.3302984618258253, &quot;z&quot;: -0.6180339887498948}, {&quot;x&quot;: 1.902113032590307, &quot;y&quot;: 0.0, &quot;z&quot;: -0.6180339887498948}, {&quot;x&quot;: 1.7874015806258177, &quot;y&quot;: 0.6505609720281592, &quot;z&quot;: -0.6180339887498948}, {&quot;x&quot;: 1.647278207092664, &quot;y&quot;: 0.9510565162951534, &quot;z&quot;: -0.6180339887498948}, {&quot;x&quot;: 1.4571031187999923, &quot;y&quot;: 1.2226546895723378, &quot;z&quot;: -0.6180339887498948}, {&quot;x&quot;: 1.222654689572338, &quot;y&quot;: 1.4571031187999923, &quot;z&quot;: -0.6180339887498948}, {&quot;x&quot;: 0.9510565162951538, &quot;y&quot;: 1.6472782070926637, &quot;z&quot;: -0.6180339887498948}, {&quot;x&quot;: 0.6505609720281594, &quot;y&quot;: 1.7874015806258174, &quot;z&quot;: -0.6180339887498948}, {&quot;x&quot;: 0.33029846182582545, &quot;y&quot;: 1.8732156616004971, &quot;z&quot;: -0.6180339887498948}, {&quot;x&quot;: 1.1647083184890923e-16, &quot;y&quot;: 1.902113032590307, &quot;z&quot;: -0.6180339887498948}, {&quot;x&quot;: -0.33029846182582523, &quot;y&quot;: 1.8732156616004971, &quot;z&quot;: -0.6180339887498948}, {&quot;x&quot;: -0.6505609720281588, &quot;y&quot;: 1.7874015806258177, &quot;z&quot;: -0.6180339887498948}, {&quot;x&quot;: -0.9510565162951531, &quot;y&quot;: 1.647278207092664, &quot;z&quot;: -0.6180339887498948}, {&quot;x&quot;: -1.222654689572338, &quot;y&quot;: 1.4571031187999923, &quot;z&quot;: -0.6180339887498948}, {&quot;x&quot;: -1.457103118799992, &quot;y&quot;: 1.2226546895723382, &quot;z&quot;: -0.6180339887498948}, {&quot;x&quot;: -1.6472782070926635, &quot;y&quot;: 0.9510565162951542, &quot;z&quot;: -0.6180339887498948}, {&quot;x&quot;: -1.7874015806258174, &quot;y&quot;: 0.6505609720281595, &quot;z&quot;: -0.6180339887498948}, {&quot;x&quot;: -1.8732156616004971, &quot;y&quot;: 0.3302984618258252, &quot;z&quot;: -0.6180339887498948}, {&quot;x&quot;: -1.902113032590307, &quot;y&quot;: 2.3294166369781847e-16, &quot;z&quot;: -0.6180339887498948}, {&quot;x&quot;: -1.8732156616004974, &quot;y&quot;: -0.33029846182582473, &quot;z&quot;: -0.6180339887498948}, {&quot;x&quot;: -1.7874015806258177, &quot;y&quot;: -0.6505609720281591, &quot;z&quot;: -0.6180339887498948}, {&quot;x&quot;: -1.6472782070926637, &quot;y&quot;: -0.9510565162951538, &quot;z&quot;: -0.6180339887498948}, {&quot;x&quot;: -1.457103118799993, &quot;y&quot;: -1.2226546895723371, &quot;z&quot;: -0.6180339887498948}, {&quot;x&quot;: -1.2226546895723382, &quot;y&quot;: -1.457103118799992, &quot;z&quot;: -0.6180339887498948}, {&quot;x&quot;: -0.9510565162951544, &quot;y&quot;: -1.6472782070926635, &quot;z&quot;: -0.6180339887498948}, {&quot;x&quot;: -0.6505609720281589, &quot;y&quot;: -1.7874015806258177, &quot;z&quot;: -0.6180339887498948}, {&quot;x&quot;: -0.3302984618258253, &quot;y&quot;: -1.8732156616004971, &quot;z&quot;: -0.6180339887498948}, {&quot;x&quot;: -3.494124955467277e-16, &quot;y&quot;: -1.902113032590307, &quot;z&quot;: -0.6180339887498948}, {&quot;x&quot;: 0.3302984618258246, &quot;y&quot;: -1.8732156616004974, &quot;z&quot;: -0.6180339887498948}, {&quot;x&quot;: 0.6505609720281598, &quot;y&quot;: -1.7874015806258174, &quot;z&quot;: -0.6180339887498948}, {&quot;x&quot;: 0.9510565162951523, &quot;y&quot;: -1.6472782070926646, &quot;z&quot;: -0.6180339887498948}, {&quot;x&quot;: 1.2226546895723378, &quot;y&quot;: -1.4571031187999925, &quot;z&quot;: -0.6180339887498948}, {&quot;x&quot;: 1.4571031187999919, &quot;y&quot;: -1.2226546895723385, &quot;z&quot;: -0.6180339887498948}, {&quot;x&quot;: 1.6472782070926641, &quot;y&quot;: -0.9510565162951529, &quot;z&quot;: -0.6180339887498948}, {&quot;x&quot;: 1.7874015806258177, &quot;y&quot;: -0.650560972028159, &quot;z&quot;: -0.6180339887498948}, {&quot;x&quot;: 1.8732156616004971, &quot;y&quot;: -0.3302984618258254, &quot;z&quot;: -0.6180339887498948}, {&quot;x&quot;: 1.945366270755708, &quot;y&quot;: 0.34302056089444016, &quot;z&quot;: -0.31286893008046174}, {&quot;x&quot;: 1.9753766811902755, &quot;y&quot;: 0.0, &quot;z&quot;: -0.31286893008046174}, {&quot;x&quot;: 1.85624689058706, &quot;y&quot;: 0.6756186156228818, &quot;z&quot;: -0.31286893008046174}, {&quot;x&quot;: 1.7107263879541728, &quot;y&quot;: 0.9876883405951377, &quot;z&quot;: -0.31286893008046174}, {&quot;x&quot;: 1.5132263296926196, &quot;y&quot;: 1.2697476551328262, &quot;z&quot;: -0.31286893008046174}, {&quot;x&quot;: 1.2697476551328264, &quot;y&quot;: 1.5132263296926196, &quot;z&quot;: -0.31286893008046174}, {&quot;x&quot;: 0.987688340595138, &quot;y&quot;: 1.7107263879541725, &quot;z&quot;: -0.31286893008046174}, {&quot;x&quot;: 0.6756186156228821, &quot;y&quot;: 1.8562468905870597, &quot;z&quot;: -0.31286893008046174}, {&quot;x&quot;: 0.34302056089444033, &quot;y&quot;: 1.945366270755708, &quot;z&quot;: -0.31286893008046174}, {&quot;x&quot;: 1.2095693648649962e-16, &quot;y&quot;: 1.9753766811902755, &quot;z&quot;: -0.31286893008046174}, {&quot;x&quot;: -0.3430205608944401, &quot;y&quot;: 1.945366270755708, &quot;z&quot;: -0.31286893008046174}, {&quot;x&quot;: -0.6756186156228814, &quot;y&quot;: 1.85624689058706, &quot;z&quot;: -0.31286893008046174}, {&quot;x&quot;: -0.9876883405951373, &quot;y&quot;: 1.7107263879541728, &quot;z&quot;: -0.31286893008046174}, {&quot;x&quot;: -1.2697476551328264, &quot;y&quot;: 1.5132263296926196, &quot;z&quot;: -0.31286893008046174}, {&quot;x&quot;: -1.5132263296926194, &quot;y&quot;: 1.2697476551328266, &quot;z&quot;: -0.31286893008046174}, {&quot;x&quot;: -1.7107263879541723, &quot;y&quot;: 0.9876883405951384, &quot;z&quot;: -0.31286893008046174}, {&quot;x&quot;: -1.8562468905870597, &quot;y&quot;: 0.6756186156228822, &quot;z&quot;: -0.31286893008046174}, {&quot;x&quot;: -1.945366270755708, &quot;y&quot;: 0.34302056089444005, &quot;z&quot;: -0.31286893008046174}, {&quot;x&quot;: -1.9753766811902755, &quot;y&quot;: 2.4191387297299924e-16, &quot;z&quot;: -0.31286893008046174}, {&quot;x&quot;: -1.9453662707557082, &quot;y&quot;: -0.34302056089443955, &quot;z&quot;: -0.31286893008046174}, {&quot;x&quot;: -1.85624689058706, &quot;y&quot;: -0.6756186156228817, &quot;z&quot;: -0.31286893008046174}, {&quot;x&quot;: -1.7107263879541725, &quot;y&quot;: -0.987688340595138, &quot;z&quot;: -0.31286893008046174}, {&quot;x&quot;: -1.5132263296926203, &quot;y&quot;: -1.2697476551328255, &quot;z&quot;: -0.31286893008046174}, {&quot;x&quot;: -1.2697476551328266, &quot;y&quot;: -1.5132263296926194, &quot;z&quot;: -0.31286893008046174}, {&quot;x&quot;: -0.9876883405951387, &quot;y&quot;: -1.7107263879541723, &quot;z&quot;: -0.31286893008046174}, {&quot;x&quot;: -0.6756186156228815, &quot;y&quot;: -1.85624689058706, &quot;z&quot;: -0.31286893008046174}, {&quot;x&quot;: -0.34302056089444016, &quot;y&quot;: -1.945366270755708, &quot;z&quot;: -0.31286893008046174}, {&quot;x&quot;: -3.6287080945949886e-16, &quot;y&quot;: -1.9753766811902755, &quot;z&quot;: -0.31286893008046174}, {&quot;x&quot;: 0.34302056089443944, &quot;y&quot;: -1.9453662707557082, &quot;z&quot;: -0.31286893008046174}, {&quot;x&quot;: 0.6756186156228824, &quot;y&quot;: -1.8562468905870597, &quot;z&quot;: -0.31286893008046174}, {&quot;x&quot;: 0.9876883405951364, &quot;y&quot;: -1.7107263879541734, &quot;z&quot;: -0.31286893008046174}, {&quot;x&quot;: 1.2697476551328262, &quot;y&quot;: -1.5132263296926198, &quot;z&quot;: -0.31286893008046174}, {&quot;x&quot;: 1.5132263296926192, &quot;y&quot;: -1.2697476551328268, &quot;z&quot;: -0.31286893008046174}, {&quot;x&quot;: 1.710726387954173, &quot;y&quot;: -0.9876883405951371, &quot;z&quot;: -0.31286893008046174}, {&quot;x&quot;: 1.85624689058706, &quot;y&quot;: -0.6756186156228816, &quot;z&quot;: -0.31286893008046174}, {&quot;x&quot;: 1.945366270755708, &quot;y&quot;: -0.3430205608944403, &quot;z&quot;: -0.31286893008046174}, {&quot;x&quot;: 1.969615506024416, &quot;y&quot;: 0.34729635533386066, &quot;z&quot;: 0.0}, {&quot;x&quot;: 2.0, &quot;y&quot;: 0.0, &quot;z&quot;: 0.0}, {&quot;x&quot;: 1.8793852415718169, &quot;y&quot;: 0.6840402866513374, &quot;z&quot;: 0.0}, {&quot;x&quot;: 1.7320508075688774, &quot;y&quot;: 0.9999999999999999, &quot;z&quot;: 0.0}, {&quot;x&quot;: 1.532088886237956, &quot;y&quot;: 1.2855752193730785, &quot;z&quot;: 0.0}, {&quot;x&quot;: 1.2855752193730787, &quot;y&quot;: 1.532088886237956, &quot;z&quot;: 0.0}, {&quot;x&quot;: 1.0000000000000002, &quot;y&quot;: 1.7320508075688772, &quot;z&quot;: 0.0}, {&quot;x&quot;: 0.6840402866513376, &quot;y&quot;: 1.8793852415718166, &quot;z&quot;: 0.0}, {&quot;x&quot;: 0.34729635533386083, &quot;y&quot;: 1.969615506024416, &quot;z&quot;: 0.0}, {&quot;x&quot;: 1.2246467991473532e-16, &quot;y&quot;: 2.0, &quot;z&quot;: 0.0}, {&quot;x&quot;: -0.3472963553338606, &quot;y&quot;: 1.969615506024416, &quot;z&quot;: 0.0}, {&quot;x&quot;: -0.684040286651337, &quot;y&quot;: 1.8793852415718169, &quot;z&quot;: 0.0}, {&quot;x&quot;: -0.9999999999999996, &quot;y&quot;: 1.7320508075688774, &quot;z&quot;: 0.0}, {&quot;x&quot;: -1.2855752193730787, &quot;y&quot;: 1.532088886237956, &quot;z&quot;: 0.0}, {&quot;x&quot;: -1.5320888862379558, &quot;y&quot;: 1.285575219373079, &quot;z&quot;: 0.0}, {&quot;x&quot;: -1.732050807568877, &quot;y&quot;: 1.0000000000000007, &quot;z&quot;: 0.0}, {&quot;x&quot;: -1.8793852415718166, &quot;y&quot;: 0.6840402866513378, &quot;z&quot;: 0.0}, {&quot;x&quot;: -1.969615506024416, &quot;y&quot;: 0.34729635533386055, &quot;z&quot;: 0.0}, {&quot;x&quot;: -2.0, &quot;y&quot;: 2.4492935982947064e-16, &quot;z&quot;: 0.0}, {&quot;x&quot;: -1.9696155060244163, &quot;y&quot;: -0.34729635533386005, &quot;z&quot;: 0.0}, {&quot;x&quot;: -1.8793852415718169, &quot;y&quot;: -0.6840402866513373, &quot;z&quot;: 0.0}, {&quot;x&quot;: -1.7320508075688772, &quot;y&quot;: -1.0000000000000002, &quot;z&quot;: 0.0}, {&quot;x&quot;: -1.5320888862379567, &quot;y&quot;: -1.2855752193730778, &quot;z&quot;: 0.0}, {&quot;x&quot;: -1.285575219373079, &quot;y&quot;: -1.5320888862379558, &quot;z&quot;: 0.0}, {&quot;x&quot;: -1.0000000000000009, &quot;y&quot;: -1.732050807568877, &quot;z&quot;: 0.0}, {&quot;x&quot;: -0.6840402866513371, &quot;y&quot;: -1.8793852415718169, &quot;z&quot;: 0.0}, {&quot;x&quot;: -0.34729635533386066, &quot;y&quot;: -1.969615506024416, &quot;z&quot;: 0.0}, {&quot;x&quot;: -3.6739403974420594e-16, &quot;y&quot;: -2.0, &quot;z&quot;: 0.0}, {&quot;x&quot;: 0.34729635533385994, &quot;y&quot;: -1.9696155060244163, &quot;z&quot;: 0.0}, {&quot;x&quot;: 0.684040286651338, &quot;y&quot;: -1.8793852415718166, &quot;z&quot;: 0.0}, {&quot;x&quot;: 0.9999999999999987, &quot;y&quot;: -1.732050807568878, &quot;z&quot;: 0.0}, {&quot;x&quot;: 1.2855752193730785, &quot;y&quot;: -1.5320888862379562, &quot;z&quot;: 0.0}, {&quot;x&quot;: 1.5320888862379556, &quot;y&quot;: -1.2855752193730792, &quot;z&quot;: 0.0}, {&quot;x&quot;: 1.7320508075688776, &quot;y&quot;: -0.9999999999999993, &quot;z&quot;: 0.0}, {&quot;x&quot;: 1.8793852415718169, &quot;y&quot;: -0.6840402866513372, &quot;z&quot;: 0.0}, {&quot;x&quot;: 1.969615506024416, &quot;y&quot;: -0.3472963553338608, &quot;z&quot;: 0.0}, {&quot;x&quot;: 1.945366270755708, &quot;y&quot;: 0.34302056089444016, &quot;z&quot;: 0.3128689300804613}, {&quot;x&quot;: 1.9753766811902755, &quot;y&quot;: 0.0, &quot;z&quot;: 0.3128689300804613}, {&quot;x&quot;: 1.85624689058706, &quot;y&quot;: 0.6756186156228818, &quot;z&quot;: 0.3128689300804613}, {&quot;x&quot;: 1.7107263879541728, &quot;y&quot;: 0.9876883405951377, &quot;z&quot;: 0.3128689300804613}, {&quot;x&quot;: 1.5132263296926196, &quot;y&quot;: 1.2697476551328262, &quot;z&quot;: 0.3128689300804613}, {&quot;x&quot;: 1.2697476551328264, &quot;y&quot;: 1.5132263296926196, &quot;z&quot;: 0.3128689300804613}, {&quot;x&quot;: 0.987688340595138, &quot;y&quot;: 1.7107263879541725, &quot;z&quot;: 0.3128689300804613}, {&quot;x&quot;: 0.6756186156228821, &quot;y&quot;: 1.8562468905870597, &quot;z&quot;: 0.3128689300804613}, {&quot;x&quot;: 0.34302056089444033, &quot;y&quot;: 1.945366270755708, &quot;z&quot;: 0.3128689300804613}, {&quot;x&quot;: 1.2095693648649962e-16, &quot;y&quot;: 1.9753766811902755, &quot;z&quot;: 0.3128689300804613}, {&quot;x&quot;: -0.3430205608944401, &quot;y&quot;: 1.945366270755708, &quot;z&quot;: 0.3128689300804613}, {&quot;x&quot;: -0.6756186156228814, &quot;y&quot;: 1.85624689058706, &quot;z&quot;: 0.3128689300804613}, {&quot;x&quot;: -0.9876883405951373, &quot;y&quot;: 1.7107263879541728, &quot;z&quot;: 0.3128689300804613}, {&quot;x&quot;: -1.2697476551328264, &quot;y&quot;: 1.5132263296926196, &quot;z&quot;: 0.3128689300804613}, {&quot;x&quot;: -1.5132263296926194, &quot;y&quot;: 1.2697476551328266, &quot;z&quot;: 0.3128689300804613}, {&quot;x&quot;: -1.7107263879541723, &quot;y&quot;: 0.9876883405951384, &quot;z&quot;: 0.3128689300804613}, {&quot;x&quot;: -1.8562468905870597, &quot;y&quot;: 0.6756186156228822, &quot;z&quot;: 0.3128689300804613}, {&quot;x&quot;: -1.945366270755708, &quot;y&quot;: 0.34302056089444005, &quot;z&quot;: 0.3128689300804613}, {&quot;x&quot;: -1.9753766811902755, &quot;y&quot;: 2.4191387297299924e-16, &quot;z&quot;: 0.3128689300804613}, {&quot;x&quot;: -1.9453662707557082, &quot;y&quot;: -0.34302056089443955, &quot;z&quot;: 0.3128689300804613}, {&quot;x&quot;: -1.85624689058706, &quot;y&quot;: -0.6756186156228817, &quot;z&quot;: 0.3128689300804613}, {&quot;x&quot;: -1.7107263879541725, &quot;y&quot;: -0.987688340595138, &quot;z&quot;: 0.3128689300804613}, {&quot;x&quot;: -1.5132263296926203, &quot;y&quot;: -1.2697476551328255, &quot;z&quot;: 0.3128689300804613}, {&quot;x&quot;: -1.2697476551328266, &quot;y&quot;: -1.5132263296926194, &quot;z&quot;: 0.3128689300804613}, {&quot;x&quot;: -0.9876883405951387, &quot;y&quot;: -1.7107263879541723, &quot;z&quot;: 0.3128689300804613}, {&quot;x&quot;: -0.6756186156228815, &quot;y&quot;: -1.85624689058706, &quot;z&quot;: 0.3128689300804613}, {&quot;x&quot;: -0.34302056089444016, &quot;y&quot;: -1.945366270755708, &quot;z&quot;: 0.3128689300804613}, {&quot;x&quot;: -3.6287080945949886e-16, &quot;y&quot;: -1.9753766811902755, &quot;z&quot;: 0.3128689300804613}, {&quot;x&quot;: 0.34302056089443944, &quot;y&quot;: -1.9453662707557082, &quot;z&quot;: 0.3128689300804613}, {&quot;x&quot;: 0.6756186156228824, &quot;y&quot;: -1.8562468905870597, &quot;z&quot;: 0.3128689300804613}, {&quot;x&quot;: 0.9876883405951364, &quot;y&quot;: -1.7107263879541734, &quot;z&quot;: 0.3128689300804613}, {&quot;x&quot;: 1.2697476551328262, &quot;y&quot;: -1.5132263296926198, &quot;z&quot;: 0.3128689300804613}, {&quot;x&quot;: 1.5132263296926192, &quot;y&quot;: -1.2697476551328268, &quot;z&quot;: 0.3128689300804613}, {&quot;x&quot;: 1.710726387954173, &quot;y&quot;: -0.9876883405951371, &quot;z&quot;: 0.3128689300804613}, {&quot;x&quot;: 1.85624689058706, &quot;y&quot;: -0.6756186156228816, &quot;z&quot;: 0.3128689300804613}, {&quot;x&quot;: 1.945366270755708, &quot;y&quot;: -0.3430205608944403, &quot;z&quot;: 0.3128689300804613}, {&quot;x&quot;: 1.8732156616004971, &quot;y&quot;: 0.3302984618258253, &quot;z&quot;: 0.6180339887498948}, {&quot;x&quot;: 1.902113032590307, &quot;y&quot;: 0.0, &quot;z&quot;: 0.6180339887498948}, {&quot;x&quot;: 1.7874015806258177, &quot;y&quot;: 0.6505609720281592, &quot;z&quot;: 0.6180339887498948}, {&quot;x&quot;: 1.647278207092664, &quot;y&quot;: 0.9510565162951534, &quot;z&quot;: 0.6180339887498948}, {&quot;x&quot;: 1.4571031187999923, &quot;y&quot;: 1.2226546895723378, &quot;z&quot;: 0.6180339887498948}, {&quot;x&quot;: 1.222654689572338, &quot;y&quot;: 1.4571031187999923, &quot;z&quot;: 0.6180339887498948}, {&quot;x&quot;: 0.9510565162951538, &quot;y&quot;: 1.6472782070926637, &quot;z&quot;: 0.6180339887498948}, {&quot;x&quot;: 0.6505609720281594, &quot;y&quot;: 1.7874015806258174, &quot;z&quot;: 0.6180339887498948}, {&quot;x&quot;: 0.33029846182582545, &quot;y&quot;: 1.8732156616004971, &quot;z&quot;: 0.6180339887498948}, {&quot;x&quot;: 1.1647083184890923e-16, &quot;y&quot;: 1.902113032590307, &quot;z&quot;: 0.6180339887498948}, {&quot;x&quot;: -0.33029846182582523, &quot;y&quot;: 1.8732156616004971, &quot;z&quot;: 0.6180339887498948}, {&quot;x&quot;: -0.6505609720281588, &quot;y&quot;: 1.7874015806258177, &quot;z&quot;: 0.6180339887498948}, {&quot;x&quot;: -0.9510565162951531, &quot;y&quot;: 1.647278207092664, &quot;z&quot;: 0.6180339887498948}, {&quot;x&quot;: -1.222654689572338, &quot;y&quot;: 1.4571031187999923, &quot;z&quot;: 0.6180339887498948}, {&quot;x&quot;: -1.457103118799992, &quot;y&quot;: 1.2226546895723382, &quot;z&quot;: 0.6180339887498948}, {&quot;x&quot;: -1.6472782070926635, &quot;y&quot;: 0.9510565162951542, &quot;z&quot;: 0.6180339887498948}, {&quot;x&quot;: -1.7874015806258174, &quot;y&quot;: 0.6505609720281595, &quot;z&quot;: 0.6180339887498948}, {&quot;x&quot;: -1.8732156616004971, &quot;y&quot;: 0.3302984618258252, &quot;z&quot;: 0.6180339887498948}, {&quot;x&quot;: -1.902113032590307, &quot;y&quot;: 2.3294166369781847e-16, &quot;z&quot;: 0.6180339887498948}, {&quot;x&quot;: -1.8732156616004974, &quot;y&quot;: -0.33029846182582473, &quot;z&quot;: 0.6180339887498948}, {&quot;x&quot;: -1.7874015806258177, &quot;y&quot;: -0.6505609720281591, &quot;z&quot;: 0.6180339887498948}, {&quot;x&quot;: -1.6472782070926637, &quot;y&quot;: -0.9510565162951538, &quot;z&quot;: 0.6180339887498948}, {&quot;x&quot;: -1.457103118799993, &quot;y&quot;: -1.2226546895723371, &quot;z&quot;: 0.6180339887498948}, {&quot;x&quot;: -1.2226546895723382, &quot;y&quot;: -1.457103118799992, &quot;z&quot;: 0.6180339887498948}, {&quot;x&quot;: -0.9510565162951544, &quot;y&quot;: -1.6472782070926635, &quot;z&quot;: 0.6180339887498948}, {&quot;x&quot;: -0.6505609720281589, &quot;y&quot;: -1.7874015806258177, &quot;z&quot;: 0.6180339887498948}, {&quot;x&quot;: -0.3302984618258253, &quot;y&quot;: -1.8732156616004971, &quot;z&quot;: 0.6180339887498948}, {&quot;x&quot;: -3.494124955467277e-16, &quot;y&quot;: -1.902113032590307, &quot;z&quot;: 0.6180339887498948}, {&quot;x&quot;: 0.3302984618258246, &quot;y&quot;: -1.8732156616004974, &quot;z&quot;: 0.6180339887498948}, {&quot;x&quot;: 0.6505609720281598, &quot;y&quot;: -1.7874015806258174, &quot;z&quot;: 0.6180339887498948}, {&quot;x&quot;: 0.9510565162951523, &quot;y&quot;: -1.6472782070926646, &quot;z&quot;: 0.6180339887498948}, {&quot;x&quot;: 1.2226546895723378, &quot;y&quot;: -1.4571031187999925, &quot;z&quot;: 0.6180339887498948}, {&quot;x&quot;: 1.4571031187999919, &quot;y&quot;: -1.2226546895723385, &quot;z&quot;: 0.6180339887498948}, {&quot;x&quot;: 1.6472782070926641, &quot;y&quot;: -0.9510565162951529, &quot;z&quot;: 0.6180339887498948}, {&quot;x&quot;: 1.7874015806258177, &quot;y&quot;: -0.650560972028159, &quot;z&quot;: 0.6180339887498948}, {&quot;x&quot;: 1.8732156616004971, &quot;y&quot;: -0.3302984618258254, &quot;z&quot;: 0.6180339887498948}, {&quot;x&quot;: 1.7549402660103284, &quot;y&quot;: 0.30944331842931155, &quot;z&quot;: 0.9079809994790935}, {&quot;x&quot;: 1.7820130483767358, &quot;y&quot;: 0.0, &quot;z&quot;: 0.9079809994790935}, {&quot;x&quot;: 1.6745445117038207, &quot;y&quot;: 0.609484358214023, &quot;z&quot;: 0.9079809994790935}, {&quot;x&quot;: 1.5432685697696011, &quot;y&quot;: 0.8910065241883678, &quot;z&quot;: 0.9079809994790935}, {&quot;x&quot;: 1.365101193274509, &quot;y&quot;: 1.1454559077963054, &quot;z&quot;: 0.9079809994790935}, {&quot;x&quot;: 1.1454559077963054, &quot;y&quot;: 1.365101193274509, &quot;z&quot;: 0.9079809994790935}, {&quot;x&quot;: 0.8910065241883681, &quot;y&quot;: 1.543268569769601, &quot;z&quot;: 0.9079809994790935}, {&quot;x&quot;: 0.6094843582140231, &quot;y&quot;: 1.6745445117038205, &quot;z&quot;: 0.9079809994790935}, {&quot;x&quot;: 0.30944331842931166, &quot;y&quot;: 1.7549402660103284, &quot;z&quot;: 0.9079809994790935}, {&quot;x&quot;: 1.0911682878666935e-16, &quot;y&quot;: 1.7820130483767358, &quot;z&quot;: 0.9079809994790935}, {&quot;x&quot;: -0.3094433184293115, &quot;y&quot;: 1.7549402660103284, &quot;z&quot;: 0.9079809994790935}, {&quot;x&quot;: -0.6094843582140226, &quot;y&quot;: 1.6745445117038207, &quot;z&quot;: 0.9079809994790935}, {&quot;x&quot;: -0.8910065241883675, &quot;y&quot;: 1.5432685697696011, &quot;z&quot;: 0.9079809994790935}, {&quot;x&quot;: -1.1454559077963054, &quot;y&quot;: 1.365101193274509, &quot;z&quot;: 0.9079809994790935}, {&quot;x&quot;: -1.3651011932745087, &quot;y&quot;: 1.1454559077963056, &quot;z&quot;: 0.9079809994790935}, {&quot;x&quot;: -1.5432685697696007, &quot;y&quot;: 0.8910065241883685, &quot;z&quot;: 0.9079809994790935}, {&quot;x&quot;: -1.6745445117038205, &quot;y&quot;: 0.6094843582140232, &quot;z&quot;: 0.9079809994790935}, {&quot;x&quot;: -1.7549402660103284, &quot;y&quot;: 0.30944331842931144, &quot;z&quot;: 0.9079809994790935}, {&quot;x&quot;: -1.7820130483767358, &quot;y&quot;: 2.182336575733387e-16, &quot;z&quot;: 0.9079809994790935}, {&quot;x&quot;: -1.7549402660103286, &quot;y&quot;: -0.309443318429311, &quot;z&quot;: 0.9079809994790935}, {&quot;x&quot;: -1.6745445117038207, &quot;y&quot;: -0.6094843582140229, &quot;z&quot;: 0.9079809994790935}, {&quot;x&quot;: -1.543268569769601, &quot;y&quot;: -0.8910065241883681, &quot;z&quot;: 0.9079809994790935}, {&quot;x&quot;: -1.3651011932745096, &quot;y&quot;: -1.1454559077963047, &quot;z&quot;: 0.9079809994790935}, {&quot;x&quot;: -1.1454559077963056, &quot;y&quot;: -1.3651011932745087, &quot;z&quot;: 0.9079809994790935}, {&quot;x&quot;: -0.8910065241883687, &quot;y&quot;: -1.5432685697696007, &quot;z&quot;: 0.9079809994790935}, {&quot;x&quot;: -0.6094843582140227, &quot;y&quot;: -1.6745445117038207, &quot;z&quot;: 0.9079809994790935}, {&quot;x&quot;: -0.30944331842931155, &quot;y&quot;: -1.7549402660103284, &quot;z&quot;: 0.9079809994790935}, {&quot;x&quot;: -3.2735048636000803e-16, &quot;y&quot;: -1.7820130483767358, &quot;z&quot;: 0.9079809994790935}, {&quot;x&quot;: 0.3094433184293109, &quot;y&quot;: -1.7549402660103286, &quot;z&quot;: 0.9079809994790935}, {&quot;x&quot;: 0.6094843582140235, &quot;y&quot;: -1.6745445117038205, &quot;z&quot;: 0.9079809994790935}, {&quot;x&quot;: 0.8910065241883667, &quot;y&quot;: -1.5432685697696018, &quot;z&quot;: 0.9079809994790935}, {&quot;x&quot;: 1.1454559077963054, &quot;y&quot;: -1.3651011932745092, &quot;z&quot;: 0.9079809994790935}, {&quot;x&quot;: 1.3651011932745085, &quot;y&quot;: -1.1454559077963058, &quot;z&quot;: 0.9079809994790935}, {&quot;x&quot;: 1.5432685697696014, &quot;y&quot;: -0.8910065241883673, &quot;z&quot;: 0.9079809994790935}, {&quot;x&quot;: 1.6745445117038207, &quot;y&quot;: -0.6094843582140228, &quot;z&quot;: 0.9079809994790935}, {&quot;x&quot;: 1.7549402660103284, &quot;y&quot;: -0.3094433184293116, &quot;z&quot;: 0.9079809994790935}, {&quot;x&quot;: 1.5934524167581643, &quot;y&quot;: 0.2809686535495737, &quot;z&quot;: 1.1755705045849463}, {&quot;x&quot;: 1.618033988749895, &quot;y&quot;: 0.0, &quot;z&quot;: 1.1755705045849463}, {&quot;x&quot;: 1.520454599409066, &quot;y&quot;: 0.5534002167380425, &quot;z&quot;: 1.1755705045849463}, {&quot;x&quot;: 1.4012585384440737, &quot;y&quot;: 0.8090169943749473, &quot;z&quot;: 1.1755705045849463}, {&quot;x&quot;: 1.239485945859492, &quot;y&quot;: 1.0400522000201218, &quot;z&quot;: 1.1755705045849463}, {&quot;x&quot;: 1.0400522000201218, &quot;y&quot;: 1.239485945859492, &quot;z&quot;: 1.1755705045849463}, {&quot;x&quot;: 0.8090169943749477, &quot;y&quot;: 1.4012585384440734, &quot;z&quot;: 1.1755705045849463}, {&quot;x&quot;: 0.5534002167380426, &quot;y&quot;: 1.5204545994090657, &quot;z&quot;: 1.1755705045849463}, {&quot;x&quot;: 0.28096865354957384, &quot;y&quot;: 1.5934524167581643, &quot;z&quot;: 1.1755705045849463}, {&quot;x&quot;: 9.907600726170916e-17, &quot;y&quot;: 1.618033988749895, &quot;z&quot;: 1.1755705045849463}, {&quot;x&quot;: -0.2809686535495737, &quot;y&quot;: 1.5934524167581643, &quot;z&quot;: 1.1755705045849463}, {&quot;x&quot;: -0.5534002167380422, &quot;y&quot;: 1.520454599409066, &quot;z&quot;: 1.1755705045849463}, {&quot;x&quot;: -0.8090169943749471, &quot;y&quot;: 1.4012585384440737, &quot;z&quot;: 1.1755705045849463}, {&quot;x&quot;: -1.0400522000201218, &quot;y&quot;: 1.239485945859492, &quot;z&quot;: 1.1755705045849463}, {&quot;x&quot;: -1.2394859458594918, &quot;y&quot;: 1.040052200020122, &quot;z&quot;: 1.1755705045849463}, {&quot;x&quot;: -1.4012585384440732, &quot;y&quot;: 0.809016994374948, &quot;z&quot;: 1.1755705045849463}, {&quot;x&quot;: -1.5204545994090657, &quot;y&quot;: 0.5534002167380427, &quot;z&quot;: 1.1755705045849463}, {&quot;x&quot;: -1.5934524167581643, &quot;y&quot;: 0.2809686535495736, &quot;z&quot;: 1.1755705045849463}, {&quot;x&quot;: -1.618033988749895, &quot;y&quot;: 1.9815201452341832e-16, &quot;z&quot;: 1.1755705045849463}, {&quot;x&quot;: -1.5934524167581645, &quot;y&quot;: -0.28096865354957323, &quot;z&quot;: 1.1755705045849463}, {&quot;x&quot;: -1.520454599409066, &quot;y&quot;: -0.5534002167380424, &quot;z&quot;: 1.1755705045849463}, {&quot;x&quot;: -1.4012585384440734, &quot;y&quot;: -0.8090169943749477, &quot;z&quot;: 1.1755705045849463}, {&quot;x&quot;: -1.2394859458594925, &quot;y&quot;: -1.040052200020121, &quot;z&quot;: 1.1755705045849463}, {&quot;x&quot;: -1.040052200020122, &quot;y&quot;: -1.2394859458594918, &quot;z&quot;: 1.1755705045849463}, {&quot;x&quot;: -0.8090169943749481, &quot;y&quot;: -1.4012585384440732, &quot;z&quot;: 1.1755705045849463}, {&quot;x&quot;: -0.5534002167380422, &quot;y&quot;: -1.520454599409066, &quot;z&quot;: 1.1755705045849463}, {&quot;x&quot;: -0.2809686535495737, &quot;y&quot;: -1.5934524167581643, &quot;z&quot;: 1.1755705045849463}, {&quot;x&quot;: -2.9722802178512745e-16, &quot;y&quot;: -1.618033988749895, &quot;z&quot;: 1.1755705045849463}, {&quot;x&quot;: 0.2809686535495731, &quot;y&quot;: -1.5934524167581645, &quot;z&quot;: 1.1755705045849463}, {&quot;x&quot;: 0.553400216738043, &quot;y&quot;: -1.5204545994090657, &quot;z&quot;: 1.1755705045849463}, {&quot;x&quot;: 0.8090169943749463, &quot;y&quot;: -1.4012585384440743, &quot;z&quot;: 1.1755705045849463}, {&quot;x&quot;: 1.0400522000201218, &quot;y&quot;: -1.2394859458594922, &quot;z&quot;: 1.1755705045849463}, {&quot;x&quot;: 1.2394859458594916, &quot;y&quot;: -1.0400522000201222, &quot;z&quot;: 1.1755705045849463}, {&quot;x&quot;: 1.4012585384440739, &quot;y&quot;: -0.8090169943749469, &quot;z&quot;: 1.1755705045849463}, {&quot;x&quot;: 1.520454599409066, &quot;y&quot;: -0.5534002167380423, &quot;z&quot;: 1.1755705045849463}, {&quot;x&quot;: 1.5934524167581643, &quot;y&quot;: -0.2809686535495738, &quot;z&quot;: 1.1755705045849463}, {&quot;x&quot;: 1.392728480640038, &quot;y&quot;: 0.2455756079379457, &quot;z&quot;: 1.414213562373095}, {&quot;x&quot;: 1.4142135623730951, &quot;y&quot;: 0.0, &quot;z&quot;: 1.414213562373095}, {&quot;x&quot;: 1.3289260487773495, &quot;y&quot;: 0.48368952529595055, &quot;z&quot;: 1.414213562373095}, {&quot;x&quot;: 1.2247448713915892, &quot;y&quot;: 0.7071067811865475, &quot;z&quot;: 1.414213562373095}, {&quot;x&quot;: 1.0833504408394037, &quot;y&quot;: 0.9090389553440873, &quot;z&quot;: 1.414213562373095}, {&quot;x&quot;: 0.9090389553440875, &quot;y&quot;: 1.0833504408394037, &quot;z&quot;: 1.414213562373095}, {&quot;x&quot;: 0.7071067811865477, &quot;y&quot;: 1.2247448713915892, &quot;z&quot;: 1.414213562373095}, {&quot;x&quot;: 0.48368952529595066, &quot;y&quot;: 1.3289260487773493, &quot;z&quot;: 1.414213562373095}, {&quot;x&quot;: 0.2455756079379458, &quot;y&quot;: 1.392728480640038, &quot;z&quot;: 1.414213562373095}, {&quot;x&quot;: 8.659560562354934e-17, &quot;y&quot;: 1.4142135623730951, &quot;z&quot;: 1.414213562373095}, {&quot;x&quot;: -0.24557560793794564, &quot;y&quot;: 1.392728480640038, &quot;z&quot;: 1.414213562373095}, {&quot;x&quot;: -0.4836895252959502, &quot;y&quot;: 1.3289260487773495, &quot;z&quot;: 1.414213562373095}, {&quot;x&quot;: -0.7071067811865472, &quot;y&quot;: 1.2247448713915892, &quot;z&quot;: 1.414213562373095}, {&quot;x&quot;: -0.9090389553440875, &quot;y&quot;: 1.0833504408394037, &quot;z&quot;: 1.414213562373095}, {&quot;x&quot;: -1.0833504408394037, &quot;y&quot;: 0.9090389553440876, &quot;z&quot;: 1.414213562373095}, {&quot;x&quot;: -1.224744871391589, &quot;y&quot;: 0.707106781186548, &quot;z&quot;: 1.414213562373095}, {&quot;x&quot;: -1.3289260487773493, &quot;y&quot;: 0.4836895252959508, &quot;z&quot;: 1.414213562373095}, {&quot;x&quot;: -1.392728480640038, &quot;y&quot;: 0.2455756079379456, &quot;z&quot;: 1.414213562373095}, {&quot;x&quot;: -1.4142135623730951, &quot;y&quot;: 1.7319121124709868e-16, &quot;z&quot;: 1.414213562373095}, {&quot;x&quot;: -1.3927284806400382, &quot;y&quot;: -0.24557560793794525, &quot;z&quot;: 1.414213562373095}, {&quot;x&quot;: -1.3289260487773495, &quot;y&quot;: -0.48368952529595044, &quot;z&quot;: 1.414213562373095}, {&quot;x&quot;: -1.2247448713915892, &quot;y&quot;: -0.7071067811865477, &quot;z&quot;: 1.414213562373095}, {&quot;x&quot;: -1.0833504408394041, &quot;y&quot;: -0.9090389553440869, &quot;z&quot;: 1.414213562373095}, {&quot;x&quot;: -0.9090389553440876, &quot;y&quot;: -1.0833504408394037, &quot;z&quot;: 1.414213562373095}, {&quot;x&quot;: -0.7071067811865482, &quot;y&quot;: -1.224744871391589, &quot;z&quot;: 1.414213562373095}, {&quot;x&quot;: -0.4836895252959503, &quot;y&quot;: -1.3289260487773495, &quot;z&quot;: 1.414213562373095}, {&quot;x&quot;: -0.2455756079379457, &quot;y&quot;: -1.392728480640038, &quot;z&quot;: 1.414213562373095}, {&quot;x&quot;: -2.59786816870648e-16, &quot;y&quot;: -1.4142135623730951, &quot;z&quot;: 1.414213562373095}, {&quot;x&quot;: 0.24557560793794517, &quot;y&quot;: -1.3927284806400382, &quot;z&quot;: 1.414213562373095}, {&quot;x&quot;: 0.48368952529595094, &quot;y&quot;: -1.3289260487773493, &quot;z&quot;: 1.414213562373095}, {&quot;x&quot;: 0.7071067811865467, &quot;y&quot;: -1.2247448713915896, &quot;z&quot;: 1.414213562373095}, {&quot;x&quot;: 0.9090389553440873, &quot;y&quot;: -1.083350440839404, &quot;z&quot;: 1.414213562373095}, {&quot;x&quot;: 1.0833504408394035, &quot;y&quot;: -0.9090389553440877, &quot;z&quot;: 1.414213562373095}, {&quot;x&quot;: 1.2247448713915894, &quot;y&quot;: -0.7071067811865471, &quot;z&quot;: 1.414213562373095}, {&quot;x&quot;: 1.3289260487773495, &quot;y&quot;: -0.4836895252959504, &quot;z&quot;: 1.414213562373095}, {&quot;x&quot;: 1.392728480640038, &quot;y&quot;: -0.24557560793794575, &quot;z&quot;: 1.414213562373095}, {&quot;x&quot;: 1.1577109471277285, &quot;y&quot;: 0.2041356758401697, &quot;z&quot;: 1.618033988749895}, {&quot;x&quot;: 1.1755705045849463, &quot;y&quot;: 0.0, &quot;z&quot;: 1.618033988749895}, {&quot;x&quot;: 1.104674928372041, &quot;y&quot;: 0.402068792467572, &quot;z&quot;: 1.618033988749895}, {&quot;x&quot;: 1.0180739209102545, &quot;y&quot;: 0.587785252292473, &quot;z&quot;: 1.618033988749895}, {&quot;x&quot;: 0.9005392525318712, &quot;y&quot;: 0.7556421546601565, &quot;z&quot;: 1.618033988749895}, {&quot;x&quot;: 0.7556421546601566, &quot;y&quot;: 0.9005392525318712, &quot;z&quot;: 1.618033988749895}, {&quot;x&quot;: 0.5877852522924732, &quot;y&quot;: 1.0180739209102543, &quot;z&quot;: 1.618033988749895}, {&quot;x&quot;: 0.40206879246757216, &quot;y&quot;: 1.1046749283720407, &quot;z&quot;: 1.618033988749895}, {&quot;x&quot;: 0.20413567584016978, &quot;y&quot;: 1.1577109471277285, &quot;z&quot;: 1.618033988749895}, {&quot;x&quot;: 7.198293278059966e-17, &quot;y&quot;: 1.1755705045849463, &quot;z&quot;: 1.618033988749895}, {&quot;x&quot;: -0.20413567584016964, &quot;y&quot;: 1.1577109471277285, &quot;z&quot;: 1.618033988749895}, {&quot;x&quot;: -0.40206879246757177, &quot;y&quot;: 1.104674928372041, &quot;z&quot;: 1.618033988749895}, {&quot;x&quot;: -0.5877852522924729, &quot;y&quot;: 1.0180739209102545, &quot;z&quot;: 1.618033988749895}, {&quot;x&quot;: -0.7556421546601566, &quot;y&quot;: 0.9005392525318712, &quot;z&quot;: 1.618033988749895}, {&quot;x&quot;: -0.9005392525318711, &quot;y&quot;: 0.7556421546601567, &quot;z&quot;: 1.618033988749895}, {&quot;x&quot;: -1.0180739209102543, &quot;y&quot;: 0.5877852522924736, &quot;z&quot;: 1.618033988749895}, {&quot;x&quot;: -1.1046749283720407, &quot;y&quot;: 0.4020687924675722, &quot;z&quot;: 1.618033988749895}, {&quot;x&quot;: -1.1577109471277285, &quot;y&quot;: 0.20413567584016962, &quot;z&quot;: 1.618033988749895}, {&quot;x&quot;: -1.1755705045849463, &quot;y&quot;: 1.4396586556119933e-16, &quot;z&quot;: 1.618033988749895}, {&quot;x&quot;: -1.1577109471277287, &quot;y&quot;: -0.20413567584016934, &quot;z&quot;: 1.618033988749895}, {&quot;x&quot;: -1.104674928372041, &quot;y&quot;: -0.40206879246757193, &quot;z&quot;: 1.618033988749895}, {&quot;x&quot;: -1.0180739209102543, &quot;y&quot;: -0.5877852522924732, &quot;z&quot;: 1.618033988749895}, {&quot;x&quot;: -0.9005392525318715, &quot;y&quot;: -0.755642154660156, &quot;z&quot;: 1.618033988749895}, {&quot;x&quot;: -0.7556421546601567, &quot;y&quot;: -0.9005392525318711, &quot;z&quot;: 1.618033988749895}, {&quot;x&quot;: -0.5877852522924737, &quot;y&quot;: -1.0180739209102543, &quot;z&quot;: 1.618033988749895}, {&quot;x&quot;: -0.4020687924675718, &quot;y&quot;: -1.104674928372041, &quot;z&quot;: 1.618033988749895}, {&quot;x&quot;: -0.2041356758401697, &quot;y&quot;: -1.1577109471277285, &quot;z&quot;: 1.618033988749895}, {&quot;x&quot;: -2.15948798341799e-16, &quot;y&quot;: -1.1755705045849463, &quot;z&quot;: 1.618033988749895}, {&quot;x&quot;: 0.20413567584016926, &quot;y&quot;: -1.1577109471277287, &quot;z&quot;: 1.618033988749895}, {&quot;x&quot;: 0.4020687924675723, &quot;y&quot;: -1.1046749283720407, &quot;z&quot;: 1.618033988749895}, {&quot;x&quot;: 0.5877852522924724, &quot;y&quot;: -1.018073920910255, &quot;z&quot;: 1.618033988749895}, {&quot;x&quot;: 0.7556421546601565, &quot;y&quot;: -0.9005392525318713, &quot;z&quot;: 1.618033988749895}, {&quot;x&quot;: 0.900539252531871, &quot;y&quot;: -0.7556421546601568, &quot;z&quot;: 1.618033988749895}, {&quot;x&quot;: 1.0180739209102545, &quot;y&quot;: -0.5877852522924727, &quot;z&quot;: 1.618033988749895}, {&quot;x&quot;: 1.104674928372041, &quot;y&quot;: -0.4020687924675719, &quot;z&quot;: 1.618033988749895}, {&quot;x&quot;: 1.1577109471277285, &quot;y&quot;: -0.20413567584016976, &quot;z&quot;: 1.618033988749895}, {&quot;x&quot;: 0.8941867278747851, &quot;y&quot;: 0.15766924591574263, &quot;z&quot;: 1.7820130483767356}, {&quot;x&quot;: 0.9079809994790937, &quot;y&quot;: 0.0, &quot;z&quot;: 1.7820130483767356}, {&quot;x&quot;: 0.8532230450243181, &quot;y&quot;: 0.31054779157882356, &quot;z&quot;: 1.7820130483767356}, {&quot;x&quot;: 0.7863346117024804, &quot;y&quot;: 0.4539904997395468, &quot;z&quot;: 1.7820130483767356}, {&quot;x&quot;: 0.6955537991085754, &quot;y&quot;: 0.5836389362959615, &quot;z&quot;: 1.7820130483767356}, {&quot;x&quot;: 0.5836389362959616, &quot;y&quot;: 0.6955537991085754, &quot;z&quot;: 1.7820130483767356}, {&quot;x&quot;: 0.45399049973954697, &quot;y&quot;: 0.7863346117024803, &quot;z&quot;: 1.7820130483767356}, {&quot;x&quot;: 0.3105477915788237, &quot;y&quot;: 0.853223045024318, &quot;z&quot;: 1.7820130483767356}, {&quot;x&quot;: 0.15766924591574272, &quot;y&quot;: 0.8941867278747851, &quot;z&quot;: 1.7820130483767356}, {&quot;x&quot;: 5.559780123493433e-17, &quot;y&quot;: 0.9079809994790937, &quot;z&quot;: 1.7820130483767356}, {&quot;x&quot;: -0.1576692459157426, &quot;y&quot;: 0.8941867278747851, &quot;z&quot;: 1.7820130483767356}, {&quot;x&quot;: -0.31054779157882334, &quot;y&quot;: 0.8532230450243181, &quot;z&quot;: 1.7820130483767356}, {&quot;x&quot;: -0.45399049973954664, &quot;y&quot;: 0.7863346117024804, &quot;z&quot;: 1.7820130483767356}, {&quot;x&quot;: -0.5836389362959616, &quot;y&quot;: 0.6955537991085754, &quot;z&quot;: 1.7820130483767356}, {&quot;x&quot;: -0.6955537991085753, &quot;y&quot;: 0.5836389362959616, &quot;z&quot;: 1.7820130483767356}, {&quot;x&quot;: -0.7863346117024802, &quot;y&quot;: 0.45399049973954714, &quot;z&quot;: 1.7820130483767356}, {&quot;x&quot;: -0.853223045024318, &quot;y&quot;: 0.31054779157882373, &quot;z&quot;: 1.7820130483767356}, {&quot;x&quot;: -0.8941867278747851, &quot;y&quot;: 0.15766924591574258, &quot;z&quot;: 1.7820130483767356}, {&quot;x&quot;: -0.9079809994790937, &quot;y&quot;: 1.1119560246986866e-16, &quot;z&quot;: 1.7820130483767356}, {&quot;x&quot;: -0.8941867278747853, &quot;y&quot;: -0.15766924591574236, &quot;z&quot;: 1.7820130483767356}, {&quot;x&quot;: -0.8532230450243181, &quot;y&quot;: -0.3105477915788235, &quot;z&quot;: 1.7820130483767356}, {&quot;x&quot;: -0.7863346117024803, &quot;y&quot;: -0.45399049973954697, &quot;z&quot;: 1.7820130483767356}, {&quot;x&quot;: -0.6955537991085757, &quot;y&quot;: -0.5836389362959612, &quot;z&quot;: 1.7820130483767356}, {&quot;x&quot;: -0.5836389362959616, &quot;y&quot;: -0.6955537991085753, &quot;z&quot;: 1.7820130483767356}, {&quot;x&quot;: -0.45399049973954725, &quot;y&quot;: -0.7863346117024802, &quot;z&quot;: 1.7820130483767356}, {&quot;x&quot;: -0.3105477915788234, &quot;y&quot;: -0.8532230450243181, &quot;z&quot;: 1.7820130483767356}, {&quot;x&quot;: -0.15766924591574263, &quot;y&quot;: -0.8941867278747851, &quot;z&quot;: 1.7820130483767356}, {&quot;x&quot;: -1.66793403704803e-16, &quot;y&quot;: -0.9079809994790937, &quot;z&quot;: 1.7820130483767356}, {&quot;x&quot;: 0.15766924591574233, &quot;y&quot;: -0.8941867278747853, &quot;z&quot;: 1.7820130483767356}, {&quot;x&quot;: 0.31054779157882384, &quot;y&quot;: -0.853223045024318, &quot;z&quot;: 1.7820130483767356}, {&quot;x&quot;: 0.45399049973954625, &quot;y&quot;: -0.7863346117024806, &quot;z&quot;: 1.7820130483767356}, {&quot;x&quot;: 0.5836389362959615, &quot;y&quot;: -0.6955537991085755, &quot;z&quot;: 1.7820130483767356}, {&quot;x&quot;: 0.6955537991085752, &quot;y&quot;: -0.5836389362959618, &quot;z&quot;: 1.7820130483767356}, {&quot;x&quot;: 0.7863346117024804, &quot;y&quot;: -0.4539904997395466, &quot;z&quot;: 1.7820130483767356}, {&quot;x&quot;: 0.8532230450243181, &quot;y&quot;: -0.31054779157882345, &quot;z&quot;: 1.7820130483767356}, {&quot;x&quot;: 0.8941867278747851, &quot;y&quot;: -0.1576692459157427, &quot;z&quot;: 1.7820130483767356}, {&quot;x&quot;: 0.6086446637459563, &quot;y&quot;: 0.10732047588264337, &quot;z&quot;: 1.902113032590307}, {&quot;x&quot;: 0.6180339887498949, &quot;y&quot;: 0.0, &quot;z&quot;: 1.902113032590307}, {&quot;x&quot;: 0.5807619786231574, &quot;y&quot;: 0.21138007341237378, &quot;z&quot;: 1.902113032590307}, {&quot;x&quot;: 0.535233134659635, &quot;y&quot;: 0.3090169943749474, &quot;z&quot;: 1.902113032590307}, {&quot;x&quot;: 0.47344150274051394, &quot;y&quot;: 0.3972645903335824, &quot;z&quot;: 1.902113032590307}, {&quot;x&quot;: 0.3972645903335825, &quot;y&quot;: 0.47344150274051394, &quot;z&quot;: 1.902113032590307}, {&quot;x&quot;: 0.3090169943749475, &quot;y&quot;: 0.535233134659635, &quot;z&quot;: 1.902113032590307}, {&quot;x&quot;: 0.21138007341237386, &quot;y&quot;: 0.5807619786231574, &quot;z&quot;: 1.902113032590307}, {&quot;x&quot;: 0.10732047588264343, &quot;y&quot;: 0.6086446637459563, &quot;z&quot;: 1.902113032590307}, {&quot;x&quot;: 3.7843667304341506e-17, &quot;y&quot;: 0.6180339887498949, &quot;z&quot;: 1.902113032590307}, {&quot;x&quot;: -0.10732047588264336, &quot;y&quot;: 0.6086446637459563, &quot;z&quot;: 1.902113032590307}, {&quot;x&quot;: -0.21138007341237364, &quot;y&quot;: 0.5807619786231574, &quot;z&quot;: 1.902113032590307}, {&quot;x&quot;: -0.30901699437494734, &quot;y&quot;: 0.535233134659635, &quot;z&quot;: 1.902113032590307}, {&quot;x&quot;: -0.3972645903335825, &quot;y&quot;: 0.47344150274051394, &quot;z&quot;: 1.902113032590307}, {&quot;x&quot;: -0.4734415027405139, &quot;y&quot;: 0.3972645903335826, &quot;z&quot;: 1.902113032590307}, {&quot;x&quot;: -0.5352331346596348, &quot;y&quot;: 0.3090169943749477, &quot;z&quot;: 1.902113032590307}, {&quot;x&quot;: -0.5807619786231574, &quot;y&quot;: 0.2113800734123739, &quot;z&quot;: 1.902113032590307}, {&quot;x&quot;: -0.6086446637459563, &quot;y&quot;: 0.10732047588264333, &quot;z&quot;: 1.902113032590307}, {&quot;x&quot;: -0.6180339887498949, &quot;y&quot;: 7.568733460868301e-17, &quot;z&quot;: 1.902113032590307}, {&quot;x&quot;: -0.6086446637459563, &quot;y&quot;: -0.10732047588264318, &quot;z&quot;: 1.902113032590307}, {&quot;x&quot;: -0.5807619786231574, &quot;y&quot;: -0.21138007341237375, &quot;z&quot;: 1.902113032590307}, {&quot;x&quot;: -0.535233134659635, &quot;y&quot;: -0.3090169943749475, &quot;z&quot;: 1.902113032590307}, {&quot;x&quot;: -0.47344150274051416, &quot;y&quot;: -0.39726459033358225, &quot;z&quot;: 1.902113032590307}, {&quot;x&quot;: -0.3972645903335826, &quot;y&quot;: -0.4734415027405139, &quot;z&quot;: 1.902113032590307}, {&quot;x&quot;: -0.30901699437494773, &quot;y&quot;: -0.5352331346596348, &quot;z&quot;: 1.902113032590307}, {&quot;x&quot;: -0.21138007341237366, &quot;y&quot;: -0.5807619786231574, &quot;z&quot;: 1.902113032590307}, {&quot;x&quot;: -0.10732047588264337, &quot;y&quot;: -0.6086446637459563, &quot;z&quot;: 1.902113032590307}, {&quot;x&quot;: -1.135310019130245e-16, &quot;y&quot;: -0.6180339887498949, &quot;z&quot;: 1.902113032590307}, {&quot;x&quot;: 0.10732047588264315, &quot;y&quot;: -0.6086446637459563, &quot;z&quot;: 1.902113032590307}, {&quot;x&quot;: 0.21138007341237394, &quot;y&quot;: -0.5807619786231574, &quot;z&quot;: 1.902113032590307}, {&quot;x&quot;: 0.30901699437494706, &quot;y&quot;: -0.5352331346596352, &quot;z&quot;: 1.902113032590307}, {&quot;x&quot;: 0.3972645903335824, &quot;y&quot;: -0.47344150274051405, &quot;z&quot;: 1.902113032590307}, {&quot;x&quot;: 0.47344150274051383, &quot;y&quot;: -0.39726459033358263, &quot;z&quot;: 1.902113032590307}, {&quot;x&quot;: 0.5352331346596351, &quot;y&quot;: -0.30901699437494723, &quot;z&quot;: 1.902113032590307}, {&quot;x&quot;: 0.5807619786231574, &quot;y&quot;: -0.21138007341237372, &quot;z&quot;: 1.902113032590307}, {&quot;x&quot;: 0.6086446637459563, &quot;y&quot;: -0.1073204758826434, &quot;z&quot;: 1.902113032590307}, {&quot;x&quot;: 0.30811574801987324, &quot;y&quot;: 0.054329119557074444, &quot;z&quot;: 1.9753766811902755}, {&quot;x&quot;: 0.31286893008046185, &quot;y&quot;: 0.0, &quot;z&quot;: 1.9753766811902755}, {&quot;x&quot;: 0.29400062486979234, &quot;y&quot;: 0.10700747630826818, &quot;z&quot;: 1.9753766811902755}, {&quot;x&quot;: 0.2709524415045373, &quot;y&quot;: 0.1564344650402309, &quot;z&quot;: 1.9753766811902755}, {&quot;x&quot;: 0.23967150531271786, &quot;y&quot;: 0.20110827171160506, &quot;z&quot;: 1.9753766811902755}, {&quot;x&quot;: 0.20110827171160509, &quot;y&quot;: 0.23967150531271786, &quot;z&quot;: 1.9753766811902755}, {&quot;x&quot;: 0.15643446504023095, &quot;y&quot;: 0.27095244150453723, &quot;z&quot;: 1.9753766811902755}, {&quot;x&quot;: 0.10700747630826822, &quot;y&quot;: 0.2940006248697923, &quot;z&quot;: 1.9753766811902755}, {&quot;x&quot;: 0.05432911955707447, &quot;y&quot;: 0.30811574801987324, &quot;z&quot;: 1.9753766811902755}, {&quot;x&quot;: 1.9157696688784732e-17, &quot;y&quot;: 0.31286893008046185, &quot;z&quot;: 1.9753766811902755}, {&quot;x&quot;: -0.05432911955707444, &quot;y&quot;: 0.30811574801987324, &quot;z&quot;: 1.9753766811902755}, {&quot;x&quot;: -0.10700747630826811, &quot;y&quot;: 0.29400062486979234, &quot;z&quot;: 1.9753766811902755}, {&quot;x&quot;: -0.15643446504023084, &quot;y&quot;: 0.2709524415045373, &quot;z&quot;: 1.9753766811902755}, {&quot;x&quot;: -0.20110827171160509, &quot;y&quot;: 0.23967150531271786, &quot;z&quot;: 1.9753766811902755}, {&quot;x&quot;: -0.23967150531271783, &quot;y&quot;: 0.2011082717116051, &quot;z&quot;: 1.9753766811902755}, {&quot;x&quot;: -0.27095244150453723, &quot;y&quot;: 0.15643446504023104, &quot;z&quot;: 1.9753766811902755}, {&quot;x&quot;: -0.2940006248697923, &quot;y&quot;: 0.10700747630826823, &quot;z&quot;: 1.9753766811902755}, {&quot;x&quot;: -0.30811574801987324, &quot;y&quot;: 0.05432911955707442, &quot;z&quot;: 1.9753766811902755}, {&quot;x&quot;: -0.31286893008046185, &quot;y&quot;: 3.8315393377569464e-17, &quot;z&quot;: 1.9753766811902755}, {&quot;x&quot;: -0.3081157480198733, &quot;y&quot;: -0.05432911955707435, &quot;z&quot;: 1.9753766811902755}, {&quot;x&quot;: -0.29400062486979234, &quot;y&quot;: -0.10700747630826817, &quot;z&quot;: 1.9753766811902755}, {&quot;x&quot;: -0.27095244150453723, &quot;y&quot;: -0.15643446504023095, &quot;z&quot;: 1.9753766811902755}, {&quot;x&quot;: -0.23967150531271797, &quot;y&quot;: -0.20110827171160495, &quot;z&quot;: 1.9753766811902755}, {&quot;x&quot;: -0.2011082717116051, &quot;y&quot;: -0.23967150531271783, &quot;z&quot;: 1.9753766811902755}, {&quot;x&quot;: -0.15643446504023106, &quot;y&quot;: -0.27095244150453723, &quot;z&quot;: 1.9753766811902755}, {&quot;x&quot;: -0.10700747630826814, &quot;y&quot;: -0.29400062486979234, &quot;z&quot;: 1.9753766811902755}, {&quot;x&quot;: -0.054329119557074444, &quot;y&quot;: -0.30811574801987324, &quot;z&quot;: 1.9753766811902755}, {&quot;x&quot;: -5.74730900663542e-17, &quot;y&quot;: -0.31286893008046185, &quot;z&quot;: 1.9753766811902755}, {&quot;x&quot;: 0.054329119557074326, &quot;y&quot;: -0.3081157480198733, &quot;z&quot;: 1.9753766811902755}, {&quot;x&quot;: 0.10700747630826828, &quot;y&quot;: -0.2940006248697923, &quot;z&quot;: 1.9753766811902755}, {&quot;x&quot;: 0.1564344650402307, &quot;y&quot;: -0.2709524415045374, &quot;z&quot;: 1.9753766811902755}, {&quot;x&quot;: 0.20110827171160506, &quot;y&quot;: -0.23967150531271791, &quot;z&quot;: 1.9753766811902755}, {&quot;x&quot;: 0.2396715053127178, &quot;y&quot;: -0.20110827171160514, &quot;z&quot;: 1.9753766811902755}, {&quot;x&quot;: 0.27095244150453734, &quot;y&quot;: -0.1564344650402308, &quot;z&quot;: 1.9753766811902755}, {&quot;x&quot;: 0.29400062486979234, &quot;y&quot;: -0.10700747630826815, &quot;z&quot;: 1.9753766811902755}, {&quot;x&quot;: 0.30811574801987324, &quot;y&quot;: -0.05432911955707446, &quot;z&quot;: 1.9753766811902755}, {&quot;x&quot;: 0.0, &quot;y&quot;: 0.0, &quot;z&quot;: 2.0}], &quot;faces&quot;: [[0, 1, 2], [0, 3, 1], [0, 4, 3], [0, 5, 4], [0, 6, 5], [0, 7, 6], [0, 8, 7], [0, 9, 8], [0, 10, 9], [0, 11, 10], [0, 12, 11], [0, 13, 12], [0, 14, 13], [0, 15, 14], [0, 16, 15], [0, 17, 16], [0, 18, 17], [0, 19, 18], [0, 20, 19], [0, 21, 20], [0, 22, 21], [0, 23, 22], [0, 24, 23], [0, 25, 24], [0, 26, 25], [0, 27, 26], [0, 28, 27], [0, 29, 28], [0, 30, 29], [0, 31, 30], [0, 32, 31], [0, 33, 32], [0, 34, 33], [0, 35, 34], [0, 36, 35], [0, 2, 36], [2, 1, 37, 38], [1, 3, 39, 37], [3, 4, 40, 39], [4, 5, 41, 40], [5, 6, 42, 41], [6, 7, 43, 42], [7, 8, 44, 43], [8, 9, 45, 44], [9, 10, 46, 45], [10, 11, 47, 46], [11, 12, 48, 47], [12, 13, 49, 48], [13, 14, 50, 49], [14, 15, 51, 50], [15, 16, 52, 51], [16, 17, 53, 52], [17, 18, 54, 53], [18, 19, 55, 54], [19, 20, 56, 55], [20, 21, 57, 56], [21, 22, 58, 57], [22, 23, 59, 58], [23, 24, 60, 59], [24, 25, 61, 60], [25, 26, 62, 61], [26, 27, 63, 62], [27, 28, 64, 63], [28, 29, 65, 64], [29, 30, 66, 65], [30, 31, 67, 66], [31, 32, 68, 67], [32, 33, 69, 68], [33, 34, 70, 69], [34, 35, 71, 70], [35, 36, 72, 71], [36, 2, 38, 72], [38, 37, 73, 74], [37, 39, 75, 73], [39, 40, 76, 75], [40, 41, 77, 76], [41, 42, 78, 77], [42, 43, 79, 78], [43, 44, 80, 79], [44, 45, 81, 80], [45, 46, 82, 81], [46, 47, 83, 82], [47, 48, 84, 83], [48, 49, 85, 84], [49, 50, 86, 85], [50, 51, 87, 86], [51, 52, 88, 87], [52, 53, 89, 88], [53, 54, 90, 89], [54, 55, 91, 90], [55, 56, 92, 91], [56, 57, 93, 92], [57, 58, 94, 93], [58, 59, 95, 94], [59, 60, 96, 95], [60, 61, 97, 96], [61, 62, 98, 97], [62, 63, 99, 98], [63, 64, 100, 99], [64, 65, 101, 100], [65, 66, 102, 101], [66, 67, 103, 102], [67, 68, 104, 103], [68, 69, 105, 104], [69, 70, 106, 105], [70, 71, 107, 106], [71, 72, 108, 107], [72, 38, 74, 108], [74, 73, 109, 110], [73, 75, 111, 109], [75, 76, 112, 111], [76, 77, 113, 112], [77, 78, 114, 113], [78, 79, 115, 114], [79, 80, 116, 115], [80, 81, 117, 116], [81, 82, 118, 117], [82, 83, 119, 118], [83, 84, 120, 119], [84, 85, 121, 120], [85, 86, 122, 121], [86, 87, 123, 122], [87, 88, 124, 123], [88, 89, 125, 124], [89, 90, 126, 125], [90, 91, 127, 126], [91, 92, 128, 127], [92, 93, 129, 128], [93, 94, 130, 129], [94, 95, 131, 130], [95, 96, 132, 131], [96, 97, 133, 132], [97, 98, 134, 133], [98, 99, 135, 134], [99, 100, 136, 135], [100, 101, 137, 136], [101, 102, 138, 137], [102, 103, 139, 138], [103, 104, 140, 139], [104, 105, 141, 140], [105, 106, 142, 141], [106, 107, 143, 142], [107, 108, 144, 143], [108, 74, 110, 144], [110, 109, 145, 146], [109, 111, 147, 145], [111, 112, 148, 147], [112, 113, 149, 148], [113, 114, 150, 149], [114, 115, 151, 150], [115, 116, 152, 151], [116, 117, 153, 152], [117, 118, 154, 153], [118, 119, 155, 154], [119, 120, 156, 155], [120, 121, 157, 156], [121, 122, 158, 157], [122, 123, 159, 158], [123, 124, 160, 159], [124, 125, 161, 160], [125, 126, 162, 161], [126, 127, 163, 162], [127, 128, 164, 163], [128, 129, 165, 164], [129, 130, 166, 165], [130, 131, 167, 166], [131, 132, 168, 167], [132, 133, 169, 168], [133, 134, 170, 169], [134, 135, 171, 170], [135, 136, 172, 171], [136, 137, 173, 172], [137, 138, 174, 173], [138, 139, 175, 174], [139, 140, 176, 175], [140, 141, 177, 176], [141, 142, 178, 177], [142, 143, 179, 178], [143, 144, 180, 179], [144, 110, 146, 180], [146, 145, 181, 182], [145, 147, 183, 181], [147, 148, 184, 183], [148, 149, 185, 184], [149, 150, 186, 185], [150, 151, 187, 186], [151, 152, 188, 187], [152, 153, 189, 188], [153, 154, 190, 189], [154, 155, 191, 190], [155, 156, 192, 191], [156, 157, 193, 192], [157, 158, 194, 193], [158, 159, 195, 194], [159, 160, 196, 195], [160, 161, 197, 196], [161, 162, 198, 197], [162, 163, 199, 198], [163, 164, 200, 199], [164, 165, 201, 200], [165, 166, 202, 201], [166, 167, 203, 202], [167, 168, 204, 203], [168, 169, 205, 204], [169, 170, 206, 205], [170, 171, 207, 206], [171, 172, 208, 207], [172, 173, 209, 208], [173, 174, 210, 209], [174, 175, 211, 210], [175, 176, 212, 211], [176, 177, 213, 212], [177, 178, 214, 213], [178, 179, 215, 214], [179, 180, 216, 215], [180, 146, 182, 216], [182, 181, 217, 218], [181, 183, 219, 217], [183, 184, 220, 219], [184, 185, 221, 220], [185, 186, 222, 221], [186, 187, 223, 222], [187, 188, 224, 223], [188, 189, 225, 224], [189, 190, 226, 225], [190, 191, 227, 226], [191, 192, 228, 227], [192, 193, 229, 228], [193, 194, 230, 229], [194, 195, 231, 230], [195, 196, 232, 231], [196, 197, 233, 232], [197, 198, 234, 233], [198, 199, 235, 234], [199, 200, 236, 235], [200, 201, 237, 236], [201, 202, 238, 237], [202, 203, 239, 238], [203, 204, 240, 239], [204, 205, 241, 240], [205, 206, 242, 241], [206, 207, 243, 242], [207, 208, 244, 243], [208, 209, 245, 244], [209, 210, 246, 245], [210, 211, 247, 246], [211, 212, 248, 247], [212, 213, 249, 248], [213, 214, 250, 249], [214, 215, 251, 250], [215, 216, 252, 251], [216, 182, 218, 252], [218, 217, 253, 254], [217, 219, 255, 253], [219, 220, 256, 255], [220, 221, 257, 256], [221, 222, 258, 257], [222, 223, 259, 258], [223, 224, 260, 259], [224, 225, 261, 260], [225, 226, 262, 261], [226, 227, 263, 262], [227, 228, 264, 263], [228, 229, 265, 264], [229, 230, 266, 265], [230, 231, 267, 266], [231, 232, 268, 267], [232, 233, 269, 268], [233, 234, 270, 269], [234, 235, 271, 270], [235, 236, 272, 271], [236, 237, 273, 272], [237, 238, 274, 273], [238, 239, 275, 274], [239, 240, 276, 275], [240, 241, 277, 276], [241, 242, 278, 277], [242, 243, 279, 278], [243, 244, 280, 279], [244, 245, 281, 280], [245, 246, 282, 281], [246, 247, 283, 282], [247, 248, 284, 283], [248, 249, 285, 284], [249, 250, 286, 285], [250, 251, 287, 286], [251, 252, 288, 287], [252, 218, 254, 288], [254, 253, 289, 290], [253, 255, 291, 289], [255, 256, 292, 291], [256, 257, 293, 292], [257, 258, 294, 293], [258, 259, 295, 294], [259, 260, 296, 295], [260, 261, 297, 296], [261, 262, 298, 297], [262, 263, 299, 298], [263, 264, 300, 299], [264, 265, 301, 300], [265, 266, 302, 301], [266, 267, 303, 302], [267, 268, 304, 303], [268, 269, 305, 304], [269, 270, 306, 305], [270, 271, 307, 306], [271, 272, 308, 307], [272, 273, 309, 308], [273, 274, 310, 309], [274, 275, 311, 310], [275, 276, 312, 311], [276, 277, 313, 312], [277, 278, 314, 313], [278, 279, 315, 314], [279, 280, 316, 315], [280, 281, 317, 316], [281, 282, 318, 317], [282, 283, 319, 318], [283, 284, 320, 319], [284, 285, 321, 320], [285, 286, 322, 321], [286, 287, 323, 322], [287, 288, 324, 323], [288, 254, 290, 324], [290, 289, 325, 326], [289, 291, 327, 325], [291, 292, 328, 327], [292, 293, 329, 328], [293, 294, 330, 329], [294, 295, 331, 330], [295, 296, 332, 331], [296, 297, 333, 332], [297, 298, 334, 333], [298, 299, 335, 334], [299, 300, 336, 335], [300, 301, 337, 336], [301, 302, 338, 337], [302, 303, 339, 338], [303, 304, 340, 339], [304, 305, 341, 340], [305, 306, 342, 341], [306, 307, 343, 342], [307, 308, 344, 343], [308, 309, 345, 344], [309, 310, 346, 345], [310, 311, 347, 346], [311, 312, 348, 347], [312, 313, 349, 348], [313, 314, 350, 349], [314, 315, 351, 350], [315, 316, 352, 351], [316, 317, 353, 352], [317, 318, 354, 353], [318, 319, 355, 354], [319, 320, 356, 355], [320, 321, 357, 356], [321, 322, 358, 357], [322, 323, 359, 358], [323, 324, 360, 359], [324, 290, 326, 360], [326, 325, 361, 362], [325, 327, 363, 361], [327, 328, 364, 363], [328, 329, 365, 364], [329, 330, 366, 365], [330, 331, 367, 366], [331, 332, 368, 367], [332, 333, 369, 368], [333, 334, 370, 369], [334, 335, 371, 370], [335, 336, 372, 371], [336, 337, 373, 372], [337, 338, 374, 373], [338, 339, 375, 374], [339, 340, 376, 375], [340, 341, 377, 376], [341, 342, 378, 377], [342, 343, 379, 378], [343, 344, 380, 379], [344, 345, 381, 380], [345, 346, 382, 381], [346, 347, 383, 382], [347, 348, 384, 383], [348, 349, 385, 384], [349, 350, 386, 385], [350, 351, 387, 386], [351, 352, 388, 387], [352, 353, 389, 388], [353, 354, 390, 389], [354, 355, 391, 390], [355, 356, 392, 391], [356, 357, 393, 392], [357, 358, 394, 393], [358, 359, 395, 394], [359, 360, 396, 395], [360, 326, 362, 396], [362, 361, 397, 398], [361, 363, 399, 397], [363, 364, 400, 399], [364, 365, 401, 400], [365, 366, 402, 401], [366, 367, 403, 402], [367, 368, 404, 403], [368, 369, 405, 404], [369, 370, 406, 405], [370, 371, 407, 406], [371, 372, 408, 407], [372, 373, 409, 408], [373, 374, 410, 409], [374, 375, 411, 410], [375, 376, 412, 411], [376, 377, 413, 412], [377, 378, 414, 413], [378, 379, 415, 414], [379, 380, 416, 415], [380, 381, 417, 416], [381, 382, 418, 417], [382, 383, 419, 418], [383, 384, 420, 419], [384, 385, 421, 420], [385, 386, 422, 421], [386, 387, 423, 422], [387, 388, 424, 423], [388, 389, 425, 424], [389, 390, 426, 425], [390, 391, 427, 426], [391, 392, 428, 427], [392, 393, 429, 428], [393, 394, 430, 429], [394, 395, 431, 430], [395, 396, 432, 431], [396, 362, 398, 432], [398, 397, 433, 434], [397, 399, 435, 433], [399, 400, 436, 435], [400, 401, 437, 436], [401, 402, 438, 437], [402, 403, 439, 438], [403, 404, 440, 439], [404, 405, 441, 440], [405, 406, 442, 441], [406, 407, 443, 442], [407, 408, 444, 443], [408, 409, 445, 444], [409, 410, 446, 445], [410, 411, 447, 446], [411, 412, 448, 447], [412, 413, 449, 448], [413, 414, 450, 449], [414, 415, 451, 450], [415, 416, 452, 451], [416, 417, 453, 452], [417, 418, 454, 453], [418, 419, 455, 454], [419, 420, 456, 455], [420, 421, 457, 456], [421, 422, 458, 457], [422, 423, 459, 458], [423, 424, 460, 459], [424, 425, 461, 460], [425, 426, 462, 461], [426, 427, 463, 462], [427, 428, 464, 463], [428, 429, 465, 464], [429, 430, 466, 465], [430, 431, 467, 466], [431, 432, 468, 467], [432, 398, 434, 468], [434, 433, 469, 470], [433, 435, 471, 469], [435, 436, 472, 471], [436, 437, 473, 472], [437, 438, 474, 473], [438, 439, 475, 474], [439, 440, 476, 475], [440, 441, 477, 476], [441, 442, 478, 477], [442, 443, 479, 478], [443, 444, 480, 479], [444, 445, 481, 480], [445, 446, 482, 481], [446, 447, 483, 482], [447, 448, 484, 483], [448, 449, 485, 484], [449, 450, 486, 485], [450, 451, 487, 486], [451, 452, 488, 487], [452, 453, 489, 488], [453, 454, 490, 489], [454, 455, 491, 490], [455, 456, 492, 491], [456, 457, 493, 492], [457, 458, 494, 493], [458, 459, 495, 494], [459, 460, 496, 495], [460, 461, 497, 496], [461, 462, 498, 497], [462, 463, 499, 498], [463, 464, 500, 499], [464, 465, 501, 500], [465, 466, 502, 501], [466, 467, 503, 502], [467, 468, 504, 503], [468, 434, 470, 504], [470, 469, 505, 506], [469, 471, 507, 505], [471, 472, 508, 507], [472, 473, 509, 508], [473, 474, 510, 509], [474, 475, 511, 510], [475, 476, 512, 511], [476, 477, 513, 512], [477, 478, 514, 513], [478, 479, 515, 514], [479, 480, 516, 515], [480, 481, 517, 516], [481, 482, 518, 517], [482, 483, 519, 518], [483, 484, 520, 519], [484, 485, 521, 520], [485, 486, 522, 521], [486, 487, 523, 522], [487, 488, 524, 523], [488, 489, 525, 524], [489, 490, 526, 525], [490, 491, 527, 526], [491, 492, 528, 527], [492, 493, 529, 528], [493, 494, 530, 529], [494, 495, 531, 530], [495, 496, 532, 531], [496, 497, 533, 532], [497, 498, 534, 533], [498, 499, 535, 534], [499, 500, 536, 535], [500, 501, 537, 536], [501, 502, 538, 537], [502, 503, 539, 538], [503, 504, 540, 539], [504, 470, 506, 540], [506, 505, 541, 542], [505, 507, 543, 541], [507, 508, 544, 543], [508, 509, 545, 544], [509, 510, 546, 545], [510, 511, 547, 546], [511, 512, 548, 547], [512, 513, 549, 548], [513, 514, 550, 549], [514, 515, 551, 550], [515, 516, 552, 551], [516, 517, 553, 552], [517, 518, 554, 553], [518, 519, 555, 554], [519, 520, 556, 555], [520, 521, 557, 556], [521, 522, 558, 557], [522, 523, 559, 558], [523, 524, 560, 559], [524, 525, 561, 560], [525, 526, 562, 561], [526, 527, 563, 562], [527, 528, 564, 563], [528, 529, 565, 564], [529, 530, 566, 565], [530, 531, 567, 566], [531, 532, 568, 567], [532, 533, 569, 568], [533, 534, 570, 569], [534, 535, 571, 570], [535, 536, 572, 571], [536, 537, 573, 572], [537, 538, 574, 573], [538, 539, 575, 574], [539, 540, 576, 575], [540, 506, 542, 576], [542, 541, 577, 578], [541, 543, 579, 577], [543, 544, 580, 579], [544, 545, 581, 580], [545, 546, 582, 581], [546, 547, 583, 582], [547, 548, 584, 583], [548, 549, 585, 584], [549, 550, 586, 585], [550, 551, 587, 586], [551, 552, 588, 587], [552, 553, 589, 588], [553, 554, 590, 589], [554, 555, 591, 590], [555, 556, 592, 591], [556, 557, 593, 592], [557, 558, 594, 593], [558, 559, 595, 594], [559, 560, 596, 595], [560, 561, 597, 596], [561, 562, 598, 597], [562, 563, 599, 598], [563, 564, 600, 599], [564, 565, 601, 600], [565, 566, 602, 601], [566, 567, 603, 602], [567, 568, 604, 603], [568, 569, 605, 604], [569, 570, 606, 605], [570, 571, 607, 606], [571, 572, 608, 607], [572, 573, 609, 608], [573, 574, 610, 609], [574, 575, 611, 610], [575, 576, 612, 611], [576, 542, 578, 612], [578, 577, 613, 614], [577, 579, 615, 613], [579, 580, 616, 615], [580, 581, 617, 616], [581, 582, 618, 617], [582, 583, 619, 618], [583, 584, 620, 619], [584, 585, 621, 620], [585, 586, 622, 621], [586, 587, 623, 622], [587, 588, 624, 623], [588, 589, 625, 624], [589, 590, 626, 625], [590, 591, 627, 626], [591, 592, 628, 627], [592, 593, 629, 628], [593, 594, 630, 629], [594, 595, 631, 630], [595, 596, 632, 631], [596, 597, 633, 632], [597, 598, 634, 633], [598, 599, 635, 634], [599, 600, 636, 635], [600, 601, 637, 636], [601, 602, 638, 637], [602, 603, 639, 638], [603, 604, 640, 639], [604, 605, 641, 640], [605, 606, 642, 641], [606, 607, 643, 642], [607, 608, 644, 643], [608, 609, 645, 644], [609, 610, 646, 645], [610, 611, 647, 646], [611, 612, 648, 647], [612, 578, 614, 648], [614, 613, 649, 650], [613, 615, 651, 649], [615, 616, 652, 651], [616, 617, 653, 652], [617, 618, 654, 653], [618, 619, 655, 654], [619, 620, 656, 655], [620, 621, 657, 656], [621, 622, 658, 657], [622, 623, 659, 658], [623, 624, 660, 659], [624, 625, 661, 660], [625, 626, 662, 661], [626, 627, 663, 662], [627, 628, 664, 663], [628, 629, 665, 664], [629, 630, 666, 665], [630, 631, 667, 666], [631, 632, 668, 667], [632, 633, 669, 668], [633, 634, 670, 669], [634, 635, 671, 670], [635, 636, 672, 671], [636, 637, 673, 672], [637, 638, 674, 673], [638, 639, 675, 674], [639, 640, 676, 675], [640, 641, 677, 676], [641, 642, 678, 677], [642, 643, 679, 678], [643, 644, 680, 679], [644, 645, 681, 680], [645, 646, 682, 681], [646, 647, 683, 682], [647, 648, 684, 683], [648, 614, 650, 684], [650, 649, 685], [649, 651, 685], [651, 652, 685], [652, 653, 685], [653, 654, 685], [654, 655, 685], [655, 656, 685], [656, 657, 685], [657, 658, 685], [658, 659, 685], [659, 660, 685], [660, 661, 685], [661, 662, 685], [662, 663, 685], [663, 664, 685], [664, 665, 685], [665, 666, 685], [666, 667, 685], [667, 668, 685], [668, 669, 685], [669, 670, 685], [670, 671, 685], [671, 672, 685], [672, 673, 685], [673, 674, 685], [674, 675, 685], [675, 676, 685], [676, 677, 685], [677, 678, 685], [678, 679, 685], [679, 680, 685], [680, 681, 685], [681, 682, 685], [682, 683, 685], [683, 684, 685], [684, 650, 685]], &quot;color&quot;: &quot;#808080&quot;, &quot;opacity&quot;: 1.0}];\n",
       "    for ( var i=0 ; i < surfaces.length ; i++ ) addSurface( surfaces[i] );\n",
       "\n",
       "    function addSurface( json ) {\n",
       "\n",
       "        var useFaceColors = 'faceColors' in json ? true : false;\n",
       "\n",
       "        var geometry = new THREE.Geometry();\n",
       "        for ( var i=0 ; i < json.vertices.length ; i++ ) {\n",
       "            var v = json.vertices[i];\n",
       "            geometry.vertices.push( new THREE.Vector3( a[0]*v.x, a[1]*v.y, a[2]*v.z ) );\n",
       "        }\n",
       "        for ( var i=0 ; i < json.faces.length ; i++ ) {\n",
       "            var f = json.faces[i];\n",
       "            for ( var j=0 ; j < f.length - 2 ; j++ ) {\n",
       "                var face = new THREE.Face3( f[0], f[j+1], f[j+2] );\n",
       "                if ( useFaceColors ) face.color.set( json.faceColors[i] );\n",
       "                geometry.faces.push( face );\n",
       "            }\n",
       "        }\n",
       "        geometry.computeVertexNormals();\n",
       "\n",
       "        var side = json.singleSide ? THREE.FrontSide : THREE.DoubleSide;\n",
       "        var transparent = json.opacity < 1 ? true : false;\n",
       "        var depthWrite = 'depthWrite' in json ? json.depthWrite : !transparent;\n",
       "        var flatShading = json.useFlatShading ? json.useFlatShading : false;\n",
       "\n",
       "        var material = new THREE.MeshPhongMaterial( { side: side,\n",
       "                                     color: useFaceColors ? 'white' : json.color,\n",
       "                                     vertexColors: useFaceColors ? THREE.FaceColors : THREE.NoColors,\n",
       "                                     transparent: transparent, opacity: json.opacity,\n",
       "                                     shininess: 20, flatShading: flatShading,\n",
       "                                     depthWrite: depthWrite } );\n",
       "\n",
       "        var c = new THREE.Vector3();\n",
       "        geometry.computeBoundingBox();\n",
       "        geometry.boundingBox.getCenter( c );\n",
       "        geometry.translate( -c.x, -c.y, -c.z );\n",
       "\n",
       "        var mesh = new THREE.Mesh( geometry, material );\n",
       "        mesh.position.set( c.x, c.y, c.z );\n",
       "        if ( transparent && json.renderOrder ) mesh.renderOrder = json.renderOrder;\n",
       "        mesh.userData = json;\n",
       "        scene.add( mesh );\n",
       "\n",
       "        if ( json.showMeshGrid ) addSurfaceMeshGrid( json );\n",
       "\n",
       "    }\n",
       "\n",
       "    function addSurfaceMeshGrid( json ) {\n",
       "\n",
       "        var geometry = new THREE.Geometry();\n",
       "\n",
       "        for ( var i=0 ; i < json.faces.length ; i++ ) {\n",
       "            var f = json.faces[i];\n",
       "            for ( var j=0 ; j < f.length ; j++ ) {\n",
       "                var k = j === f.length-1 ? 0 : j+1;\n",
       "                var v1 = json.vertices[f[j]];\n",
       "                var v2 = json.vertices[f[k]];\n",
       "                // vertices in opposite directions on neighboring faces\n",
       "                var nudge = f[j] < f[k] ? .0005*zRange : -.0005*zRange;\n",
       "                geometry.vertices.push( new THREE.Vector3( a[0]*v1.x, a[1]*v1.y, a[2]*(v1.z+nudge) ) );\n",
       "                geometry.vertices.push( new THREE.Vector3( a[0]*v2.x, a[1]*v2.y, a[2]*(v2.z+nudge) ) );\n",
       "            }\n",
       "        }\n",
       "\n",
       "        var c = new THREE.Vector3();\n",
       "        geometry.computeBoundingBox();\n",
       "        geometry.boundingBox.getCenter( c );\n",
       "        geometry.translate( -c.x, -c.y, -c.z );\n",
       "\n",
       "        var gridColor = options.theme === 'dark' ? 'white' : 'black';\n",
       "        var linewidth = json.linewidth || 1;\n",
       "        var materialOptions = { color: gridColor, linewidth: linewidth };\n",
       "\n",
       "        var mesh;\n",
       "        if ( linewidth > 1 && window.createFatLineSegments ) {\n",
       "            mesh = createFatLineSegments( geometry, materialOptions );\n",
       "        } else {\n",
       "            var material = new THREE.LineBasicMaterial( materialOptions );\n",
       "            mesh = new THREE.LineSegments( geometry, material );\n",
       "        }\n",
       "\n",
       "        mesh.position.set( c.x, c.y, c.z );\n",
       "        mesh.userData = json;\n",
       "        scene.add( mesh );\n",
       "\n",
       "    }\n",
       "\n",
       "    function render() {\n",
       "\n",
       "        if ( window.updateAnimation ) animate = updateAnimation();\n",
       "        if ( animate ) requestAnimationFrame( render );\n",
       "\n",
       "        renderer.render( scene, camera );\n",
       "\n",
       "    }\n",
       "\n",
       "    render();\n",
       "    controls.update();\n",
       "    if ( !animate ) render();\n",
       "\n",
       "\n",
       "    // menu functions\n",
       "\n",
       "    function toggleMenu() {\n",
       "\n",
       "        var m = document.getElementById( 'menu-content' );\n",
       "        if ( m.style.display === 'block' ) m.style.display = 'none'\n",
       "        else m.style.display = 'block';\n",
       "\n",
       "    }\n",
       "\n",
       "\n",
       "    function saveAsPNG() {\n",
       "\n",
       "        var a = document.body.appendChild( document.createElement( 'a' ) );\n",
       "        a.href = renderer.domElement.toDataURL( 'image/png' );\n",
       "        a.download = 'screenshot';\n",
       "        a.click();\n",
       "\n",
       "    }\n",
       "\n",
       "    function saveAsHTML() {\n",
       "\n",
       "        toggleMenu(); // otherwise visible in output\n",
       "        event.stopPropagation();\n",
       "\n",
       "        var blob = new Blob( [ '<!DOCTYPE html>\\n' + document.documentElement.outerHTML ] );\n",
       "        var a = document.body.appendChild( document.createElement( 'a' ) );\n",
       "        a.href = window.URL.createObjectURL( blob );\n",
       "        a.download = suggestFilename();\n",
       "        a.click();\n",
       "\n",
       "        function suggestFilename() {\n",
       "            if ( !document.title ) {\n",
       "                return 'graphic.html';\n",
       "            } else if ( /\\.html?$/i.test( document.title ) ) {\n",
       "                return document.title; // already ends in .htm or .html\n",
       "            } else {\n",
       "                return document.title + '.html';\n",
       "            }\n",
       "        }\n",
       "\n",
       "    }\n",
       "\n",
       "    function getViewpoint() {\n",
       "\n",
       "        function roundTo( x, n ) { return +x.toFixed(n); }\n",
       "\n",
       "        var v = camera.quaternion.inverse();\n",
       "        var r = Math.sqrt( v.x*v.x + v.y*v.y + v.z*v.z );\n",
       "        var axis = [ roundTo( v.x / r, 4 ), roundTo( v.y / r, 4 ), roundTo( v.z / r, 4 ) ];\n",
       "        var angle = roundTo( 2 * Math.atan2( r, v.w ) * 180 / Math.PI, 2 );\n",
       "\n",
       "        var textArea = document.createElement( 'textarea' );\n",
       "        textArea.textContent = JSON.stringify( axis ) + ',' + angle;\n",
       "        textArea.style.csstext = 'position: absolute; top: -100%';\n",
       "        document.body.append( textArea );\n",
       "        textArea.select();\n",
       "        document.execCommand( 'copy' );\n",
       "\n",
       "        var m = document.getElementById( 'menu-message' );\n",
       "        m.innerHTML = 'Viewpoint copied to clipboard';\n",
       "        m.style.display = 'block';\n",
       "        setTimeout( function() { m.style.display = 'none'; }, 2000 );\n",
       "\n",
       "    }\n",
       "\n",
       "</script>\n",
       "\n",
       "<div id=&quot;menu-container&quot; onclick=&quot;toggleMenu()&quot;>&#x24d8;\n",
       "<div id=&quot;menu-message&quot;></div>\n",
       "<div id=&quot;menu-content&quot;>\n",
       "<div onclick=&quot;saveAsPNG()&quot;>Save as PNG</div>\n",
       "<div onclick=&quot;saveAsHTML()&quot;>Save as HTML</div>\n",
       "<div onclick=&quot;getViewpoint()&quot;>Get Viewpoint</div>\n",
       "<div>Close Menu</div>\n",
       "</div></div>\n",
       "\n",
       "\n",
       "</body>\n",
       "</html>\n",
       "\"\n",
       "        width=\"100%\"\n",
       "        height=\"400\"\n",
       "        style=\"border: 0;\">\n",
       "</iframe>\n"
      ],
      "text/plain": [
       "Graphics3d Object"
      ]
     },
     "metadata": {},
     "output_type": "display_data"
    }
   ],
   "source": [
    "#Ploteando la geodésica. Se utiliza la carta X3, para llegar a ella, se utiliza\n",
    "#la aplicación to_R3. Se plotean 500 puntos, espesor 2, sin etiquetar los ejes.\n",
    "graph = geod.plot_integrated(chart=X3, mapping=to_R3, plot_points=500,\n",
    "                           thickness=2, label_axes=False)\n",
    "#más parámetros de la gráfica. El punto de inicio:\n",
    "graph += p0.plot(chart=X3, mapping=to_R3, size=4, parameters={m: 1})\n",
    "        \n",
    "#El horizonte de eventos en el origen de coordenadas representado como una esfera\n",
    "graph += sphere(size=2, color='grey')\n",
    "show(graph, viewer='threejs', online=True)"
   ]
  },
  {
   "cell_type": "code",
   "execution_count": null,
   "metadata": {},
   "outputs": [],
   "source": []
  },
  {
   "cell_type": "markdown",
   "metadata": {},
   "source": [
    "Tachyon view"
   ]
  },
  {
   "cell_type": "code",
   "execution_count": null,
   "metadata": {},
   "outputs": [],
   "source": [
    "show(graph, viewer='tachyon', aspect_ratio=1, figsize=10)"
   ]
  },
  {
   "cell_type": "markdown",
   "metadata": {},
   "source": [
    "Detalles de la solución"
   ]
  },
  {
   "cell_type": "code",
   "execution_count": null,
   "metadata": {},
   "outputs": [],
   "source": [
    "geod.system(verbose=True)"
   ]
  },
  {
   "cell_type": "markdown",
   "metadata": {},
   "source": [
    "Símbolos de Christoffel de la métrica g:"
   ]
  },
  {
   "cell_type": "code",
   "execution_count": null,
   "metadata": {},
   "outputs": [],
   "source": [
    "g.christoffel_symbols_display()"
   ]
  },
  {
   "cell_type": "markdown",
   "metadata": {},
   "source": [
    "Tensor de riemann en X"
   ]
  },
  {
   "cell_type": "code",
   "execution_count": null,
   "metadata": {},
   "outputs": [],
   "source": [
    "g.riemann().display()"
   ]
  },
  {
   "cell_type": "markdown",
   "metadata": {},
   "source": [
    "Listado de las componentes del tensor de Riemman."
   ]
  },
  {
   "cell_type": "code",
   "execution_count": null,
   "metadata": {},
   "outputs": [],
   "source": [
    "g.riemann().display_comp()"
   ]
  },
  {
   "cell_type": "code",
   "execution_count": null,
   "metadata": {},
   "outputs": [],
   "source": [
    ".solve?"
   ]
  },
  {
   "cell_type": "code",
   "execution_count": null,
   "metadata": {},
   "outputs": [],
   "source": [
    ".solve"
   ]
  },
  {
   "cell_type": "code",
   "execution_count": null,
   "metadata": {},
   "outputs": [],
   "source": [
    ".solve"
   ]
  },
  {
   "cell_type": "code",
   "execution_count": null,
   "metadata": {},
   "outputs": [],
   "source": [
    ".interpolate?\n"
   ]
  },
  {
   "cell_type": "code",
   "execution_count": null,
   "metadata": {},
   "outputs": [],
   "source": [
    ".interpolate"
   ]
  }
 ],
 "metadata": {
  "kernelspec": {
   "display_name": "SageMath 9.3",
   "language": "sage",
   "name": "sagemath"
  },
  "language_info": {
   "codemirror_mode": {
    "name": "ipython",
    "version": 3
   },
   "file_extension": ".py",
   "mimetype": "text/x-python",
   "name": "python",
   "nbconvert_exporter": "python",
   "pygments_lexer": "ipython3",
   "version": "3.7.10"
  }
 },
 "nbformat": 4,
 "nbformat_minor": 4
}
